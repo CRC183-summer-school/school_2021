{
 "cells": [
  {
   "cell_type": "code",
   "execution_count": null,
   "id": "5a4c83c9",
   "metadata": {},
   "outputs": [],
   "source": [
    "import netket as nk\n",
    "import numpy as np"
   ]
  },
  {
   "cell_type": "code",
   "execution_count": null,
   "id": "35fb6cb1",
   "metadata": {},
   "outputs": [],
   "source": [
    "g = nk.graph.Hypercube(length=20, n_dim=1, pbc=True)"
   ]
  },
  {
   "cell_type": "code",
   "execution_count": null,
   "id": "f002e6e0",
   "metadata": {},
   "outputs": [],
   "source": [
    "hi = nk.hilbert.Spin(s=1 / 2, N=g.n_nodes)\n",
    "ha = nk.operator.Ising(hilbert=hi, graph=g, h=1.0)"
   ]
  },
  {
   "cell_type": "code",
   "execution_count": null,
   "id": "8ecaaaf0",
   "metadata": {},
   "outputs": [],
   "source": [
    "ma = nk.models.RBM(alpha=1, dtype=float)\n",
    "\n",
    "sa = nk.sampler.MetropolisLocal(hi, n_chains=16)"
   ]
  },
  {
   "cell_type": "code",
   "execution_count": null,
   "id": "27208fcd",
   "metadata": {},
   "outputs": [],
   "source": [
    "op = nk.optimizer.Sgd(learning_rate=0.01)"
   ]
  },
  {
   "cell_type": "code",
   "execution_count": null,
   "id": "671d541b",
   "metadata": {},
   "outputs": [],
   "source": [
    "gs = nk.VMC(ha, op, sa, ma, n_samples=1000)\n",
    "\n",
    "gs.run(n_iter=300, out=None)"
   ]
  }
 ],
 "metadata": {
  "kernelspec": {
   "display_name": "Python [conda env:ml_seminar]",
   "language": "python",
   "name": "conda-env-ml_seminar-py"
  },
  "language_info": {
   "codemirror_mode": {
    "name": "ipython",
    "version": 3
   },
   "file_extension": ".py",
   "mimetype": "text/x-python",
   "name": "python",
   "nbconvert_exporter": "python",
   "pygments_lexer": "ipython3",
   "version": "3.7.10"
  }
 },
 "nbformat": 4,
 "nbformat_minor": 5
}
