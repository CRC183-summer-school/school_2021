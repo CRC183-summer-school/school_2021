{
 "cells": [
  {
   "cell_type": "markdown",
   "id": "bcc1a161",
   "metadata": {},
   "source": [
    "## CRC183 Summer School \"Machine Learning in Condensed Matter Physics\"\n",
    "\n",
    "# Ground-State Variational Search with NetKet\n",
    "\n",
    "In this Tutorial we will introduce the open-source package [NetKet](https://www.netket.org/), and show some of its functionalities. We will guide you through a relatively simple quantum problem, that however will be a good guide also to address more complex situations. \n",
    "\n",
    "Specifically, we will study the transverse-field Ising model in one dimension: \n",
    "\n",
    "$$ \n",
    "\\mathcal{H}=\\Gamma\\sum_{i}\\sigma_{i}^{(x)}+V\\sum_{i}\\sigma_{i}^{(z)}\\sigma_{i+1}^{(z)}. \n",
    "$$\n",
    "\n",
    "In the following we assume periodic boundary conditions and we will count lattice sites starting from $ 0 $, such that $ i=0,1\\dots L-1 $ and $i=L=0$. "
   ]
  },
  {
   "cell_type": "markdown",
   "id": "39bddf19",
   "metadata": {},
   "source": [
    "## 0. Installing Netket \n",
    "\n",
    "Installing NetKet is relatively straightforward. For this Tutorial, if you are running it locally on your machine, we recommend that you create a clean virtual environment and install NetKet within: \n",
    "\n",
    "```bash\n",
    "python3 -m venv netket\n",
    "source netket/bin/activate\n",
    "pip install --pre netket\n",
    "```\n",
    "\n",
    "If you are wondering why we use the flag ```--pre``` it is because today we will be working on a pre (beta) release of version 3.0. \n",
    "\n",
    "**If you are on Google Colab**, run the following cell to install the required packages."
   ]
  },
  {
   "cell_type": "code",
   "execution_count": null,
   "id": "43e97750",
   "metadata": {},
   "outputs": [],
   "source": [
    "!pip install --pre -U netket"
   ]
  },
  {
   "cell_type": "markdown",
   "id": "7f424667",
   "metadata": {},
   "source": [
    "You can check that the installation was succesfull doing "
   ]
  },
  {
   "cell_type": "code",
   "execution_count": 1,
   "id": "5a4c83c9",
   "metadata": {},
   "outputs": [],
   "source": [
    "import netket as nk"
   ]
  },
  {
   "cell_type": "markdown",
   "id": "d8b7effe",
   "metadata": {},
   "source": [
    "## 1. Defining The Hamiltonian\n",
    "\n",
    "The first step in our journey consists in defining the Hamiltonian we are interested in. \n",
    "For this purpose, we first need to define the kind of degrees of freedom we are dealing with (i.e. if we have spins, bosons, fermions etc). This is done specifying the Hilbert space of the problem. For example, let us concentrate on a problem with 20 spins. "
   ]
  },
  {
   "cell_type": "code",
   "execution_count": 2,
   "id": "65e5273d",
   "metadata": {},
   "outputs": [],
   "source": [
    "N=20\n",
    "\n",
    "hi = nk.hilbert.Spin(s=1 / 2, N=N)"
   ]
  },
  {
   "cell_type": "markdown",
   "id": "fc2e67ac",
   "metadata": {},
   "source": [
    "We now need to specify the Hamiltonian. For this purpose, we will use NetKet's ```LocalOperator``` (see details [here](https://www.netket.org/docs/_generated/operator/netket.operator.LocalOperator.html#netket.operator.LocalOperator)) which is the sum of arbitrary k-local operators. \n",
    "\n",
    "In this specifc case, we have a 1-local operator, $ \\sigma^{(x)}_i $ and a 2-local operator, $ \\sigma^{(z)}_i \\sigma^{(z)}_j $. We then start importing the pauli operators. \n",
    "\n"
   ]
  },
  {
   "cell_type": "code",
   "execution_count": 3,
   "id": "b018e4d4",
   "metadata": {},
   "outputs": [],
   "source": [
    "from netket.operator.spin import sigmax,sigmaz "
   ]
  },
  {
   "cell_type": "markdown",
   "id": "89c35665",
   "metadata": {},
   "source": [
    "We now take $ \\Gamma=-1 $ and start defining the 1-local parts of the Hamiltonian "
   ]
  },
  {
   "cell_type": "code",
   "execution_count": 4,
   "id": "b35bde0c",
   "metadata": {},
   "outputs": [],
   "source": [
    "Gamma=-1\n",
    "H = sum([Gamma*sigmax(hi,i) for i in range(N)])"
   ]
  },
  {
   "cell_type": "markdown",
   "id": "5b41d740",
   "metadata": {},
   "source": [
    "Here we have used a list comprehension to (mildly) show off, and also because it is typically more efficient than doing a for loop in Python, however you could have just added the terms one by one in an explicit loop instead. \n",
    "\n",
    "We now also add the interaction terms, using the fact that NetKet automatically recognizes products of local operators as tensor products. "
   ]
  },
  {
   "cell_type": "code",
   "execution_count": 5,
   "id": "eb378d9c",
   "metadata": {},
   "outputs": [],
   "source": [
    "V=-1\n",
    "H += sum([V*sigmaz(hi,i)*sigmaz(hi,(i+1)%N) for i in range(N)])"
   ]
  },
  {
   "cell_type": "markdown",
   "id": "65581d8b",
   "metadata": {},
   "source": [
    "## 2. Exact Diagonalization\n",
    "\n",
    "Now that we have defined the Hamiltonian, we can already start playing with it. For example, since the number of spins is large but still manageable for exact diagonalization, we can give it a try. \n",
    "\n",
    "In NetKet this is easily done converting our Hamiltonian operator into a sparse matrix of size $ 2^N \\times 2^ N $. "
   ]
  },
  {
   "cell_type": "code",
   "execution_count": 6,
   "id": "d36dd96c",
   "metadata": {},
   "outputs": [
    {
     "data": {
      "text/plain": [
       "(1048576, 1048576)"
      ]
     },
     "execution_count": 6,
     "metadata": {},
     "output_type": "execute_result"
    }
   ],
   "source": [
    "sp_h=H.to_sparse()\n",
    "sp_h.shape"
   ]
  },
  {
   "cell_type": "markdown",
   "id": "e0b786e6",
   "metadata": {},
   "source": [
    "Since this is just a regular scipy sparse matrix, we can just use any sparse diagonalization routine in there to find the eigenstates. For example, this will find the two lowest eigenstates  "
   ]
  },
  {
   "cell_type": "code",
   "execution_count": 7,
   "id": "1123bc8c",
   "metadata": {},
   "outputs": [
    {
     "name": "stdout",
     "output_type": "stream",
     "text": [
      "eigenvalues with scipy sparse: [-25.49098969 -25.41240947]\n"
     ]
    }
   ],
   "source": [
    "from scipy.sparse.linalg import eigsh\n",
    "\n",
    "eig_vals, eig_vecs = eigsh(sp_h, k=2, which=\"SA\")\n",
    "\n",
    "print(\"eigenvalues with scipy sparse:\", eig_vals)"
   ]
  },
  {
   "cell_type": "markdown",
   "id": "8e51cc79",
   "metadata": {},
   "source": [
    "## 3. Mean-Field Ansatz\n",
    "\n",
    "We now would like to find a variational approximation of the ground state of this Hamiltonian. As a first step, we can try to use a very simple mean field ansatz: \n",
    "\n",
    "$$ \\langle \\sigma^{z}_1,\\dots \\sigma^{z}_N| \\Psi_{\\mathrm{mf}} \\rangle = \\Pi_{i=1}^{N} \\Phi(\\sigma^{z}_i), $$\n",
    "\n",
    "where the variational parameters are the single-spin wave functions, which we can further take to be normalized: \n",
    "\n",
    "$$ |\\Phi(\\uparrow)|^2 + |\\Phi(\\downarrow)|^2 =1, $$\n",
    "\n",
    "and we can further write $ \\Phi(\\sigma^z) = \\sqrt{P(\\sigma^z)}e^{i \\phi(\\sigma^z)}$. In order to simplify the presentation, we take here and in the following examples the phase $ \\phi=0 $. In this specific model this is without loss of generality, since it is known that the ground state is real and positive. \n",
    "\n",
    "For the normalized single-spin probability we will take a sigmoid form: \n",
    "\n",
    "$$ P(\\sigma_z; \\lambda) = 1/(1+\\exp(-\\lambda \\sigma_z)), $$ thus depending on the real-valued variational parameter $\\lambda$. \n",
    "\n",
    "In NetKet, we can use arbitrary Flax models (or just Jax models) to express the **logarithm** of the variational wave-function amplitudes, in such a way that\n",
    "\n",
    "$$ \\langle \\sigma^{z}_1,\\dots \\sigma^{z}_N| \\Psi_{\\mathrm{mf}} \\rangle = \\exp\\left[\\mathrm{Model}(\\sigma^{z}_1,\\dots \\sigma^{z}_N ; \\theta ) \\right], $$ where $\\theta$ is a set of parameters. \n",
    "\n",
    "In this case, the parameter of the model will be just one: $\\gamma$.  "
   ]
  },
  {
   "cell_type": "code",
   "execution_count": 8,
   "id": "967e1611",
   "metadata": {},
   "outputs": [],
   "source": [
    "import flax\n",
    "import flax.linen as nn\n",
    "import jax.numpy as jnp\n",
    "\n",
    "class MF(nn.Module):\n",
    "    @nn.compact\n",
    "    def __call__(self, x):\n",
    "\n",
    "        lam = self.param(\n",
    "            \"lambda\", nn.initializers.normal(), (1,), float\n",
    "        )\n",
    "\n",
    "        # compute the probabilities\n",
    "        p = nn.log_sigmoid(lam*x)\n",
    "\n",
    "        # sum the output\n",
    "        return 0.5 * jnp.sum(p, axis=-1)"
   ]
  },
  {
   "cell_type": "markdown",
   "id": "1b5b6302",
   "metadata": {},
   "source": [
    "## 4. Variational Monte Carlo\n"
   ]
  },
  {
   "cell_type": "code",
   "execution_count": 9,
   "id": "4572b5c5",
   "metadata": {},
   "outputs": [
    {
     "name": "stderr",
     "output_type": "stream",
     "text": [
      "WARNING:absl:No GPU/TPU found, falling back to CPU. (Set TF_CPP_MIN_LOG_LEVEL=0 and rerun for more info.)\n"
     ]
    },
    {
     "name": "stdout",
     "output_type": "stream",
     "text": [
      "Energy of the initial random model:  -19.66 ± 0.19 [σ²=19.11, R̂=0.9938]\n",
      "No output specified (out=[apath|nk.logging.JsonLogger(...)]).Running the optimization but not saving the output.\n"
     ]
    },
    {
     "name": "stderr",
     "output_type": "stream",
     "text": [
      "100%|██████████████████████████████████████████████████████████████████████████████████████| 300/300 [00:06<00:00, 49.40it/s, Energy=-25.052 ± 0.055 [σ²=1.545, R̂=0.9994]]\n"
     ]
    },
    {
     "name": "stdout",
     "output_type": "stream",
     "text": [
      "Final optimized parameter:  [-2.63708961]\n",
      "Optimized energy and relative error:  -25.046 ± 0.057 [σ²=1.652, R̂=1.0057] 0.0174679972914227\n"
     ]
    }
   ],
   "source": [
    "model=MF()\n",
    "sampler = nk.sampler.MetropolisLocal(hi)\n",
    "\n",
    "vstate = nk.vqs.MCState(sampler, model, n_samples=500)\n",
    "\n",
    "print(\"Energy of the initial random model: \",vstate.expect(H))\n",
    "\n",
    "\n",
    "optimizer = nk.optimizer.Sgd(learning_rate=0.05)\n",
    "\n",
    "gs = nk.driver.VMC(H, optimizer, variational_state=vstate)\n",
    "\n",
    "gs.run(n_iter=300)\n",
    "\n",
    "print(\"Final optimized parameter: \",vstate.parameters[\"lambda\"])\n",
    "\n",
    "mf_energy=vstate.expect(H)\n",
    "error=abs((mf_energy.mean-eig_vals[0])/eig_vals[0])\n",
    "print(\"Optimized energy and relative error: \",mf_energy,error)"
   ]
  },
  {
   "cell_type": "markdown",
   "id": "d9f0e656",
   "metadata": {},
   "source": [
    "## 5. Jastrow Ansatz\n",
    "\n",
    "We have seen that the mean field ansatz yields about 2% error on the ground-state energy. Let's now try to do better, using a more correlated ansatz. \n",
    "\n",
    "We will now take a short-range Jastrow ansatz, entangling nearest and next-to nearest neighbors, of the form \n",
    "\n",
    "$$ \\langle \\sigma^{z}_1,\\dots \\sigma^{z}_N| \\Psi_{\\mathrm{jas}} \\rangle = \\exp \\left( \\sum_i J_1 \\sigma^{z}_i\\sigma^{z}_{i+1} + J_2 \\sigma^{z}_i\\sigma^{z}_{i+2} \\right),$$\n",
    "\n",
    "where the parameters $J_1$ and $J_2$ are to be learned. \n",
    "\n",
    "Again we can write the model using flax. "
   ]
  },
  {
   "cell_type": "code",
   "execution_count": 10,
   "id": "4b390e0a",
   "metadata": {},
   "outputs": [],
   "source": [
    "class JasShort(nn.Module):\n",
    "    @nn.compact\n",
    "    def __call__(self, x):\n",
    "\n",
    "        j1 = self.param(\n",
    "            \"j1\", nn.initializers.normal(), (1,), float\n",
    "        )\n",
    "        j2 =self.param(\n",
    "            \"j2\", nn.initializers.normal(), (1,), float\n",
    "        )\n",
    "\n",
    "        # compute the nearest-neighbor correlations\n",
    "        corr1=x*jnp.roll(x,-1,axis=-1)\n",
    "        corr2=x*jnp.roll(x,-2,axis=-1)\n",
    "\n",
    "        # sum the output\n",
    "        return jnp.sum(j1*corr1+j2*corr2,axis=-1)\n",
    "    \n",
    "model=JasShort()\n",
    "\n",
    "vstate = nk.vqs.MCState(sampler, model, n_samples=1000)"
   ]
  },
  {
   "cell_type": "markdown",
   "id": "1616acc8",
   "metadata": {},
   "source": [
    "We then optimize it, however this time we also introduce a stochastic reconfiguration (natural gradient) preconditioner. Also, we now log the intermediate results of the optimization, so that we can visualize them at a later stage. "
   ]
  },
  {
   "cell_type": "code",
   "execution_count": 11,
   "id": "11db148b",
   "metadata": {},
   "outputs": [
    {
     "name": "stderr",
     "output_type": "stream",
     "text": [
      "100%|██████████████████████████████████████████████████████████████████████████████████████| 300/300 [00:06<00:00, 49.24it/s, Energy=-25.319 ± 0.019 [σ²=0.366, R̂=1.0012]]\n"
     ]
    },
    {
     "name": "stdout",
     "output_type": "stream",
     "text": [
      "Final optimized parameter:  [0.23255105] [0.08206207]\n",
      "Optimized energy and relative error:  -25.348 ± 0.020 [σ²=0.397, R̂=0.9972] 0.0056183751267935645\n"
     ]
    }
   ],
   "source": [
    "optimizer = nk.optimizer.Sgd(learning_rate=0.05)\n",
    "\n",
    "gs = nk.driver.VMC(H, optimizer, variational_state=vstate,preconditioner=nk.optimizer.SR(diag_shift=0.1))\n",
    "\n",
    "log=nk.logging.RuntimeLog()\n",
    "gs.run(n_iter=300,out=log)\n",
    "\n",
    "print(\"Final optimized parameter: \",vstate.parameters[\"j1\"],vstate.parameters[\"j2\"])\n",
    "\n",
    "jas_energy=vstate.expect(H)\n",
    "error=abs((jas_energy.mean-eig_vals[0])/eig_vals[0])\n",
    "print(\"Optimized energy and relative error: \",jas_energy,error)"
   ]
  },
  {
   "cell_type": "markdown",
   "id": "e9b18a6a",
   "metadata": {},
   "source": [
    "You can now see that this ansatz is almost one order of magnitude more accurate than the mean field! \n",
    "\n",
    "In order to visualize what happened during the optimization, we can use the data that has been stored by the logger. There are several available loggers in NetKet, here we have just used a simple one that stores the intermediate results as values in a dictionary. "
   ]
  },
  {
   "cell_type": "code",
   "execution_count": 12,
   "id": "31d05ce4",
   "metadata": {},
   "outputs": [
    {
     "name": "stdout",
     "output_type": "stream",
     "text": [
      "{'Energy': History(\n",
      "   keys  = ['Mean', 'Variance', 'Sigma', 'R_hat', 'TauCorr'], \n",
      "   iters = [0, 1, ... 298, 299] (300 steps),\n",
      ")}\n"
     ]
    }
   ],
   "source": [
    "print(log.data)"
   ]
  },
  {
   "cell_type": "markdown",
   "id": "00670bd1",
   "metadata": {},
   "source": [
    "These report several intermediate quantities, that can be easily plotted. For example we can plot the value of the energy (with its error bar) at each optimization step.  "
   ]
  },
  {
   "cell_type": "code",
   "execution_count": 13,
   "id": "6d5c22fb",
   "metadata": {
    "scrolled": true
   },
   "outputs": [
    {
     "data": {
      "text/plain": [
       "Text(0, 0.5, 'Energy')"
      ]
     },
     "execution_count": 13,
     "metadata": {},
     "output_type": "execute_result"
    },
    {
     "data": {
      "image/png": "[encoded data removed]",
      "text/plain": [
       "<Figure size 432x288 with 1 Axes>"
      ]
     },
     "metadata": {
      "needs_background": "light"
     },
     "output_type": "display_data"
    }
   ],
   "source": [
    "from matplotlib import pyplot as plt\n",
    "plt.errorbar(log.data[\"Energy\"].iters,log.data[\"Energy\"].Mean,yerr=log.data[\"Energy\"].Sigma)\n",
    "plt.xlabel('Iterations')\n",
    "plt.ylabel('Energy')"
   ]
  },
  {
   "cell_type": "markdown",
   "id": "d216a4d6",
   "metadata": {},
   "source": [
    "## 6. Neural-Network Quantum State \n",
    "\n",
    "We now want to use a more sofisticated ansatz, based on a neural network representation of the wave function. At this point, this is quite straightforward, since we can again take advantage of automatic differentiation. \n",
    "\n",
    "Let us define a simple fully-connected feed-forward network with a ReLu activation function and a sum layer. "
   ]
  },
  {
   "cell_type": "code",
   "execution_count": 14,
   "id": "2b5c30e7",
   "metadata": {},
   "outputs": [],
   "source": [
    "class FFN(nn.Module):\n",
    "    \n",
    "    alpha : int = 1\n",
    "            \n",
    "    @nn.compact\n",
    "    def __call__(self, x):\n",
    "\n",
    "        # the first layer is a dense layer\n",
    "        dense = nn.Dense(features=self.alpha*x.shape[-1])\n",
    "        \n",
    "        y=dense(x)\n",
    "\n",
    "        # the non-linearity is a simple ReLu    \n",
    "        y=nn.relu(y)\n",
    "        \n",
    "        # sum the output\n",
    "        return jnp.sum(y,axis=-1)\n",
    "    \n",
    "model=FFN(alpha=1)\n",
    "\n",
    "vstate = nk.vqs.MCState(sampler, model, n_samples=1000)"
   ]
  },
  {
   "cell_type": "markdown",
   "id": "f29016f4",
   "metadata": {},
   "source": [
    "We then proceed to the optimization as before. "
   ]
  },
  {
   "cell_type": "code",
   "execution_count": 15,
   "id": "279c052e",
   "metadata": {},
   "outputs": [
    {
     "name": "stderr",
     "output_type": "stream",
     "text": [
      "100%|██████████████████████████████████████████████████████████████████████████████████████| 300/300 [00:07<00:00, 38.32it/s, Energy=-25.442 ± 0.017 [σ²=0.300, R̂=1.0041]]\n"
     ]
    },
    {
     "name": "stdout",
     "output_type": "stream",
     "text": [
      "Optimized energy and relative error:  -25.468 ± 0.016 [σ²=0.266, R̂=0.9983] 0.0008977457364544359\n"
     ]
    }
   ],
   "source": [
    "optimizer = nk.optimizer.Sgd(learning_rate=0.1)\n",
    "\n",
    "gs = nk.driver.VMC(H, optimizer, variational_state=vstate,preconditioner=nk.optimizer.SR(diag_shift=0.1))\n",
    "\n",
    "log=nk.logging.RuntimeLog()\n",
    "gs.run(n_iter=300,out=log)\n",
    "\n",
    "ffn_energy=vstate.expect(H)\n",
    "error=abs((ffn_energy.mean-eig_vals[0])/eig_vals[0])\n",
    "print(\"Optimized energy and relative error: \",ffn_energy,error)"
   ]
  },
  {
   "cell_type": "markdown",
   "id": "5ff286a6",
   "metadata": {},
   "source": [
    "## 7. Translation Symmetry \n",
    "\n",
    "In order to enforce spatial symmetries we can use some built-in functionalities of NetKet, in conjunction with equivariant layers. \n",
    "\n",
    "The first step is to construct explicitly a graph that contains the edges of our interactions, in this case this is a simple chain with periodic boundaries. NetKet has builtin several symmetry groups that can be used to target specific spatial symmetries. In this case for example after constructing the graph we can also print its translation group. \n"
   ]
  },
  {
   "cell_type": "code",
   "execution_count": 16,
   "id": "72f147d6",
   "metadata": {},
   "outputs": [
    {
     "name": "stdout",
     "output_type": "stream",
     "text": [
      "PermutationGroup(elems=[Id(), Translation([1]), Translation([2]), Translation([3]), Translation([4]), Translation([5]), Translation([6]), Translation([7]), Translation([8]), Translation([9]), Translation([10]), Translation([11]), Translation([12]), Translation([13]), Translation([14]), Translation([15]), Translation([16]), Translation([17]), Translation([18]), Translation([19])], degree=20)\n"
     ]
    }
   ],
   "source": [
    "graph=nk.graph.Chain(length=N,pbc=True)\n",
    "\n",
    "print(graph.translation_group())"
   ]
  },
  {
   "cell_type": "markdown",
   "id": "64cabe68",
   "metadata": {},
   "source": [
    "Graphs are in general quite handy when defining hamiltonian terms on their edges. For example we can define our Hamiltonian as "
   ]
  },
  {
   "cell_type": "code",
   "execution_count": 17,
   "id": "ae71872a",
   "metadata": {},
   "outputs": [],
   "source": [
    "Gamma=-1\n",
    "H = sum([Gamma*sigmax(hi,i) for i in range(N)])\n",
    "\n",
    "V=-1\n",
    "H += sum([V*sigmaz(hi,i)*sigmaz(hi,j) for (i,j) in graph.edges()])"
   ]
  },
  {
   "cell_type": "markdown",
   "id": "e0196f9f",
   "metadata": {},
   "source": [
    "We now write a model with an invariant transformation given by the translation group. Notice that we will now use NetKet's own ```nn``` module, instead of Flax, since it contains several additions and also an extended and seamless support for complex layers/parameters.  "
   ]
  },
  {
   "cell_type": "code",
   "execution_count": 18,
   "id": "a0f65b95",
   "metadata": {},
   "outputs": [
    {
     "data": {
      "text/plain": [
       "84"
      ]
     },
     "execution_count": 18,
     "metadata": {},
     "output_type": "execute_result"
    }
   ],
   "source": [
    "import netket.nn as nknn\n",
    "\n",
    "class SymmModel(nn.Module):\n",
    "    alpha: int\n",
    "\n",
    "    @nn.compact\n",
    "    def __call__(self, x):\n",
    "        \n",
    "        x = nknn.DenseSymm(symmetries=graph.translation_group(),\n",
    "                           features=self.alpha,\n",
    "                           kernel_init=nk.nn.initializers.normal(stddev=0.01))(x)\n",
    "        x = nn.relu(x)\n",
    "\n",
    "        # sum the output\n",
    "        return jnp.sum(x,axis=(-1,-2))\n",
    "\n",
    "\n",
    "sampler = nk.sampler.MetropolisLocal(hi)\n",
    "\n",
    "#Let us define a model with 4 features per symmetry\n",
    "model=SymmModel(alpha=4)\n",
    "\n",
    "vstate = nk.vqs.MCState(sampler, model, n_samples=1000)\n",
    "\n",
    "vstate.n_parameters"
   ]
  },
  {
   "cell_type": "markdown",
   "id": "7e0ca35d",
   "metadata": {},
   "source": [
    "As it can be seen, the number of parameters of this model is greatly reduced, because of the symmetries that impose constraints on the weights of the dense layers. We can now optimize the model, using a few more optimization steps than before.  "
   ]
  },
  {
   "cell_type": "code",
   "execution_count": 19,
   "id": "16a45cf8",
   "metadata": {},
   "outputs": [
    {
     "name": "stderr",
     "output_type": "stream",
     "text": [
      "100%|███████████████████████████████████████████████████████████████████████████████████| 600/600 [00:27<00:00, 21.82it/s, Energy=-25.4877 ± 0.0028 [σ²=0.0080, R̂=0.9981]]\n"
     ]
    },
    {
     "name": "stdout",
     "output_type": "stream",
     "text": [
      "Optimized energy and relative error:  -25.4886 ± 0.0026 [σ²=0.0070, R̂=0.9947] 9.458260706938746e-05\n"
     ]
    }
   ],
   "source": [
    "optimizer = nk.optimizer.Sgd(learning_rate=0.1)\n",
    "\n",
    "gs = nk.driver.VMC(H, optimizer, variational_state=vstate,preconditioner=nk.optimizer.SR(diag_shift=0.1))\n",
    "\n",
    "log=nk.logging.RuntimeLog()\n",
    "gs.run(n_iter=600,out=log)\n",
    "\n",
    "symm_energy=vstate.expect(H)\n",
    "error=abs((symm_energy.mean-eig_vals[0])/eig_vals[0])\n",
    "print(\"Optimized energy and relative error: \",symm_energy,error)"
   ]
  },
  {
   "cell_type": "code",
   "execution_count": 20,
   "id": "0e2ed895",
   "metadata": {},
   "outputs": [
    {
     "data": {
      "text/plain": [
       "<matplotlib.legend.Legend at 0x1804debb0>"
      ]
     },
     "execution_count": 20,
     "metadata": {},
     "output_type": "execute_result"
    },
    {
     "data": {
      "image/png": "[encoded data removed]",
      "text/plain": [
       "<Figure size 432x288 with 1 Axes>"
      ]
     },
     "metadata": {
      "needs_background": "light"
     },
     "output_type": "display_data"
    }
   ],
   "source": [
    "from matplotlib import pyplot as plt\n",
    "plt.errorbar(log.data[\"Energy\"].iters[50:],log.data[\"Energy\"].Mean[50:],yerr=log.data[\"Energy\"].Sigma[50:],label=\"SymmModel\")\n",
    "plt.axhline(y=eig_vals[0], xmin=0, xmax=log.data[\"Energy\"].iters[-1], linewidth=2, color=\"k\", label=\"Exact\")\n",
    "plt.xlabel('Iterations')\n",
    "plt.ylabel('Energy')\n",
    "plt.legend(frameon=False)"
   ]
  },
  {
   "cell_type": "markdown",
   "id": "68f501c7",
   "metadata": {},
   "source": [
    "## 8. Measuring Other Properties\n",
    "\n",
    "Once the model has been optimized, we can of course measure also other observables that are not the energy. For example, we could decide to measure the value of the nearest-neighbor $X-X$ correlator. \n",
    "Notice that since correlators do not enjoy the zero-variance principle as the Hamiltonian instead does, it is important to use a larger number of samples to have a sufficiently low error bar on their measurement. \n"
   ]
  },
  {
   "cell_type": "code",
   "execution_count": 21,
   "id": "6cf7a569",
   "metadata": {},
   "outputs": [],
   "source": [
    "corr = sum([sigmax(hi,i)*sigmax(hi,j) for (i,j) in graph.edges()])"
   ]
  },
  {
   "cell_type": "code",
   "execution_count": 22,
   "id": "10fb783e",
   "metadata": {},
   "outputs": [],
   "source": [
    "vstate.n_samples=400000"
   ]
  },
  {
   "cell_type": "code",
   "execution_count": 23,
   "id": "e3b3b4ab",
   "metadata": {},
   "outputs": [
    {
     "data": {
      "text/plain": [
       "10.888 ± 0.017 [σ²=31.636, R̂=1.0001]"
      ]
     },
     "execution_count": 23,
     "metadata": {},
     "output_type": "execute_result"
    }
   ],
   "source": [
    "vstate.expect(corr)"
   ]
  },
  {
   "cell_type": "markdown",
   "id": "1daae42d",
   "metadata": {},
   "source": [
    "And we can further compare this to the exact ED result. "
   ]
  },
  {
   "cell_type": "code",
   "execution_count": 24,
   "id": "c89a3597",
   "metadata": {},
   "outputs": [
    {
     "name": "stdout",
     "output_type": "stream",
     "text": [
      "10.85224871312775\n"
     ]
    }
   ],
   "source": [
    "psi = eig_vecs[:, 0]\n",
    "exact_corr=psi@(corr.to_sparse()@psi)\n",
    "print(exact_corr)"
   ]
  },
  {
   "cell_type": "markdown",
   "id": "e2c5a010",
   "metadata": {},
   "source": [
    "## 9. Learning the Phase of the Wave Function\n",
    "\n",
    "In the examples shown before we have ignored completely the phase of the wave function, since we were working with a Hamiltonian whose ground-state has a definite sign. \n",
    "We now generalize the previous discussion and study a model, the Heisenberg model\n",
    "\n",
    "$$ \\mathcal{H}= J\\sum_{i}\\vec{\\sigma}_{i}\\cdot \\vec{\\sigma}_{i+1}^. $$\n",
    "\n",
    "that has a non-trivial sign structure for the ground state. \n",
    "\n",
    "Training models with a phase is significantly less trivial than optimizing phaseless models, thus we will adopt here a heuristic approximation approach that has proven quite robust. What we will do here is that we will train the model using different (and time-dependent) learning rates for the phase and modulus parts of the wave function. The learning schedule rate is chosen in such as way that in the firs stages we will optimize mostly only the phase, while leaving the amplitude more or less constant. The schedule then will ramp up the learning rate for the amplitude and we will optimize everything at the same time. \n",
    "\n",
    "For the moment, we start defining our Hamiltonian (with $J=1$), and we also focus on the sector with vanishing total spin, since we know that the ground state is in this sector :  "
   ]
  },
  {
   "cell_type": "code",
   "execution_count": 25,
   "id": "36f62f13",
   "metadata": {},
   "outputs": [],
   "source": [
    "hi = nk.hilbert.Spin(s=1 / 2, N=N, total_sz=0)\n",
    "\n",
    "from netket.operator.spin import sigmax, sigmaz, sigmay\n",
    "\n",
    "graph = nk.graph.Chain(length=N, pbc=True)\n",
    "\n",
    "def exchange(i, j):\n",
    "    return (\n",
    "        sigmax(hi, i) * sigmax(hi, j)\n",
    "        + sigmay(hi, i) * sigmay(hi, j)\n",
    "        + sigmaz(hi, i) * sigmaz(hi, j)\n",
    "    )\n",
    "\n",
    "\n",
    "H = sum([exchange(i, j) for (i, j) in graph.edges()])"
   ]
  },
  {
   "cell_type": "markdown",
   "id": "2b2e9fe5",
   "metadata": {},
   "source": [
    "As before, we also compute the exact energy, for future benchmarking. "
   ]
  },
  {
   "cell_type": "code",
   "execution_count": 26,
   "id": "3626f617",
   "metadata": {},
   "outputs": [
    {
     "name": "stdout",
     "output_type": "stream",
     "text": [
      "diagonalizing...\n",
      "eigenvalues with scipy sparse: [-35.61754612 -34.74576394 -34.21753829 -33.63032594]\n"
     ]
    }
   ],
   "source": [
    "sp_h = H.to_sparse().real\n",
    "\n",
    "from scipy.sparse.linalg import eigsh\n",
    "import numpy as np\n",
    "\n",
    "print(\"diagonalizing...\")\n",
    "eig_vals = np.sort(eigsh(sp_h, k=4, which=\"SA\", return_eigenvectors=False, tol=1.0e-8))\n",
    "\n",
    "print(\"eigenvalues with scipy sparse:\", eig_vals)"
   ]
  },
  {
   "cell_type": "markdown",
   "id": "357ce759",
   "metadata": {},
   "source": [
    "We then define a symmetric neural network model as before, but this time we also allow for another real-valued network that represents the phase: "
   ]
  },
  {
   "cell_type": "code",
   "execution_count": 27,
   "id": "c33eb1ba",
   "metadata": {},
   "outputs": [],
   "source": [
    "import flax.linen as nn\n",
    "import netket.nn as nknn\n",
    "import jax.numpy as jnp\n",
    "\n",
    "class FullModel(nn.Module):\n",
    "\n",
    "    alpha: int\n",
    "\n",
    "    @nn.compact\n",
    "    def __call__(self, x):\n",
    "\n",
    "        rho = nknn.DenseSymm(\n",
    "            symmetries=graph.translation_group(),\n",
    "            features=self.alpha,\n",
    "            dtype=float,\n",
    "            kernel_init=nn.initializers.normal(stddev=0.001),\n",
    "            name=\"Modulus\"\n",
    "        )(x)\n",
    "        rho = nn.relu(rho)\n",
    "        \n",
    "        phase= nknn.Dense(\n",
    "            features=self.alpha*N,\n",
    "            dtype=float,\n",
    "            kernel_init=nn.initializers.normal(stddev=0.001),\n",
    "            name=\"Phase\"\n",
    "        )(x)\n",
    "        phase = nn.relu(phase)\n",
    "\n",
    "        return jnp.sum(rho, axis=(-1, -2)) + 1.0j*jnp.sum(phase, axis=(-1))\n"
   ]
  },
  {
   "cell_type": "markdown",
   "id": "5b0b2065",
   "metadata": {},
   "source": [
    "We then construct a suitable Variational State, using this model (with the phase only, for the moment) and also a sampler that preserves the total magnetization. For the latter, we will use a MCMC sampler that exchanges spins at random, thus preserving the total magnetization. "
   ]
  },
  {
   "cell_type": "code",
   "execution_count": 28,
   "id": "a690f57c",
   "metadata": {},
   "outputs": [],
   "source": [
    "model = FullModel(alpha=4)\n",
    "sampler = nk.sampler.MetropolisExchange(hi, graph=graph)\n",
    "\n",
    "vstate = nk.vqs.MCState(sampler, model, n_samples=1000)"
   ]
  },
  {
   "cell_type": "markdown",
   "id": "6c2b9452",
   "metadata": {},
   "source": [
    "We then proceed to the optimization of the phase only. This is achieved the scheduling functionalities of  ```optax```, the optimization library that is fully compatible with NetKet. Notice that here we start with zero learning rate for the modulus and fintie learning rate for the phase. "
   ]
  },
  {
   "cell_type": "code",
   "execution_count": 29,
   "id": "58f10e6b",
   "metadata": {},
   "outputs": [],
   "source": [
    "import optax,flax\n",
    "\n",
    "modulus_schedule=optax.linear_schedule(0,0.01,600)\n",
    "phase_schedule=optax.linear_schedule(0.05,0.01,600)\n",
    "\n",
    "optm=optax.sgd(modulus_schedule)\n",
    "optp=optax.sgd(phase_schedule)\n",
    "\n",
    "optimizer = optax.multi_transform({'o1': optm, 'o2': optp}, flax.core.freeze({\"Modulus\":\"o1\", \"Phase\":\"o2\"}))"
   ]
  },
  {
   "cell_type": "markdown",
   "id": "fcd2a139",
   "metadata": {},
   "source": [
    "We then use this advanced optimizer as usual in our VMC code. "
   ]
  },
  {
   "cell_type": "code",
   "execution_count": 30,
   "id": "61d7cd83",
   "metadata": {},
   "outputs": [
    {
     "name": "stderr",
     "output_type": "stream",
     "text": [
      "100%|███████████████████████████████████████████████████████████████████████████| 600/600 [01:13<00:00,  8.16it/s, Energy=-35.6175-0.0001j ± 0.0058 [σ²=0.0340, R̂=0.9956]]\n"
     ]
    },
    {
     "data": {
      "text/plain": [
       "(<netket.logging.runtime_log.RuntimeLog at 0x180f7cc10>,)"
      ]
     },
     "execution_count": 30,
     "metadata": {},
     "output_type": "execute_result"
    }
   ],
   "source": [
    "gs = nk.driver.VMC(\n",
    "    H,\n",
    "    optimizer,\n",
    "    variational_state=vstate,\n",
    "    preconditioner=nk.optimizer.SR(diag_shift=0.1)\n",
    ")\n",
    "\n",
    "log = nk.logging.RuntimeLog()\n",
    "gs.run(n_iter=600, out=log)"
   ]
  },
  {
   "cell_type": "code",
   "execution_count": 31,
   "id": "d5885340",
   "metadata": {},
   "outputs": [
    {
     "name": "stdout",
     "output_type": "stream",
     "text": [
      "Optimized energy and relative error:  -35.6211+0.0024j ± 0.0038 [σ²=0.0149, R̂=0.9967] 0.00012154482979636011\n"
     ]
    },
    {
     "data": {
      "text/plain": [
       "<matplotlib.legend.Legend at 0x1821920a0>"
      ]
     },
     "execution_count": 31,
     "metadata": {},
     "output_type": "execute_result"
    },
    {
     "data": {
      "image/png": "[encoded data removed]",
      "text/plain": [
       "<Figure size 432x288 with 1 Axes>"
      ]
     },
     "metadata": {
      "needs_background": "light"
     },
     "output_type": "display_data"
    }
   ],
   "source": [
    "symm_energy=vstate.expect(H)\n",
    "error=abs((symm_energy.mean-eig_vals[0])/eig_vals[0])\n",
    "print(\"Optimized energy and relative error: \",symm_energy,error)\n",
    "\n",
    "\n",
    "from matplotlib import pyplot as plt\n",
    "plt.errorbar(log.data[\"Energy\"].iters,log.data[\"Energy\"].Mean.real,yerr=log.data[\"Energy\"].Sigma,label=\"FullModel\")\n",
    "plt.axhline(y=eig_vals[0], xmin=0, xmax=log.data[\"Energy\"].iters[-1], linewidth=2, color=\"k\", label=\"Exact\")\n",
    "plt.xlabel('Iterations')\n",
    "plt.ylabel('Energy')\n",
    "plt.legend(frameon=False)"
   ]
  }
 ],
 "metadata": {
  "kernelspec": {
   "display_name": "Python 3 (ipykernel)",
   "language": "python",
   "name": "python3"
  },
  "language_info": {
   "codemirror_mode": {
    "name": "ipython",
    "version": 3
   },
   "file_extension": ".py",
   "mimetype": "text/x-python",
   "name": "python",
   "nbconvert_exporter": "python",
   "pygments_lexer": "ipython3",
   "version": "3.8.5"
  }
 },
 "nbformat": 4,
 "nbformat_minor": 5
}
