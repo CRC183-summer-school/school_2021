{
 "cells": [
  {
   "cell_type": "markdown",
   "id": "33e7b694",
   "metadata": {},
   "source": [
    "Run this cell, if you are running the notebook on Google Colab:"
   ]
  },
  {
   "cell_type": "code",
   "execution_count": null,
   "id": "f116e345",
   "metadata": {},
   "outputs": [],
   "source": [
    "!git clone https://github.com/CRC183-summer-school/school_2021.git"
   ]
  },
  {
   "cell_type": "code",
   "execution_count": 1,
   "id": "1cb95c42",
   "metadata": {},
   "outputs": [
    {
     "name": "stderr",
     "output_type": "stream",
     "text": [
      "WARNING:absl:No GPU/TPU found, falling back to CPU. (Set TF_CPP_MIN_LOG_LEVEL=0 and rerun for more info.)\n"
     ]
    }
   ],
   "source": [
    "import numpy as np\n",
    "import matplotlib.pyplot as plt\n",
    "%matplotlib inline\n",
    "\n",
    "# To measure the time it takes to train a network\n",
    "import time\n",
    "\n",
    "# Everything we need from JAX\n",
    "import jax\n",
    "import jax.numpy as jnp\n",
    "from jax import grad, jit, vmap, value_and_grad\n",
    "from jax import random\n",
    "from jax.scipy.special import logsumexp # Computes the log of the sum of exponentials of input elements.\n",
    "from jax.experimental import optimizers\n",
    "\n",
    "import sys\n",
    "sys.path.append(sys.path[0] + \"./school_2021/notebooks/\")\n",
    "\n",
    "from IsingData import generate_Ising_configurations\n",
    "\n",
    "# The key for our random number generator, we need this because JAX will distribute the calculation\n",
    "key = random.PRNGKey(0)"
   ]
  },
  {
   "cell_type": "markdown",
   "id": "c1c5b564",
   "metadata": {},
   "source": [
    "# Generate training data"
   ]
  },
  {
   "cell_type": "code",
   "execution_count": 2,
   "id": "c9a177ab",
   "metadata": {},
   "outputs": [],
   "source": [
    "def get_training_data(all_data, Ts, Tc=2.7, train_fraction=0.8):\n",
    "    # Lists to store the raw data\n",
    "    raw_T = []\n",
    "    raw_x = []\n",
    "    raw_y = [] \n",
    "    \n",
    "    for T in Ts:\n",
    "        \n",
    "        raw_x.append(all_data['%.3f'%(T)])\n",
    "        n = len(all_data['%.3f'%(T)])\n",
    "        label = [1,0] if T < Tc else [0,1]\n",
    "        raw_y.append(np.array([label] * n))\n",
    "        raw_T.append(np.array([T]*n))\n",
    "        \n",
    "    raw_T = np.concatenate(raw_T)\n",
    "    raw_x = np.concatenate(raw_x, axis=0)\n",
    "    raw_y = np.concatenate(raw_y, axis=0)\n",
    "    \n",
    "    # Shuffle\n",
    "    indices = np.random.permutation(len(raw_x))\n",
    "    all_T = raw_T[indices]\n",
    "    all_x = raw_x[indices]\n",
    "    all_y = raw_y[indices]\n",
    "\n",
    "    # Split into train and test sets\n",
    "    train_split = int(train_fraction * len(all_x))\n",
    "    train_T = jnp.array(all_T[:train_split])\n",
    "    train_x = jnp.array(all_x[:train_split])\n",
    "    train_y = jnp.array(all_y[:train_split])\n",
    "    test_T = jnp.array(all_T[train_split:])\n",
    "    test_x = jnp.array(all_x[train_split:])\n",
    "    test_y = jnp.array(all_y[train_split:])\n",
    "    \n",
    "    return [raw_T, raw_x, raw_y], [train_T, train_x, train_y], [test_T, test_x, test_y]"
   ]
  },
  {
   "cell_type": "code",
   "execution_count": 3,
   "id": "8306768e",
   "metadata": {
    "scrolled": true
   },
   "outputs": [
    {
     "name": "stdout",
     "output_type": "stream",
     "text": [
      "Generating samples for L = 10 at T = 4.426\n",
      "Generating samples for L = 10 at T = 4.404\n",
      "Generating samples for L = 10 at T = 4.381\n",
      "Generating samples for L = 10 at T = 4.358\n",
      "Generating samples for L = 10 at T = 4.336\n",
      "Generating samples for L = 10 at T = 4.313\n",
      "Generating samples for L = 10 at T = 4.290\n",
      "Generating samples for L = 10 at T = 4.268\n",
      "Generating samples for L = 10 at T = 4.245\n",
      "Generating samples for L = 10 at T = 4.222\n",
      "Generating samples for L = 10 at T = 4.199\n",
      "Generating samples for L = 10 at T = 4.177\n",
      "Generating samples for L = 10 at T = 4.154\n",
      "Generating samples for L = 10 at T = 4.131\n",
      "Generating samples for L = 10 at T = 4.109\n",
      "Generating samples for L = 10 at T = 4.086\n",
      "Generating samples for L = 10 at T = 4.063\n",
      "Generating samples for L = 10 at T = 4.041\n",
      "Generating samples for L = 10 at T = 4.018\n",
      "Generating samples for L = 10 at T = 3.995\n",
      "Generating samples for L = 10 at T = 3.972\n",
      "Generating samples for L = 10 at T = 3.950\n",
      "Generating samples for L = 10 at T = 3.927\n",
      "Generating samples for L = 10 at T = 3.904\n",
      "Generating samples for L = 10 at T = 3.882\n",
      "Generating samples for L = 10 at T = 3.859\n",
      "Generating samples for L = 10 at T = 3.836\n",
      "Generating samples for L = 10 at T = 3.814\n",
      "Generating samples for L = 10 at T = 3.791\n",
      "Generating samples for L = 10 at T = 3.768\n",
      "Generating samples for L = 10 at T = 3.745\n",
      "Generating samples for L = 10 at T = 3.723\n",
      "Generating samples for L = 10 at T = 3.700\n",
      "Generating samples for L = 10 at T = 3.677\n",
      "Generating samples for L = 10 at T = 3.655\n",
      "Generating samples for L = 10 at T = 3.632\n",
      "Generating samples for L = 10 at T = 3.609\n",
      "Generating samples for L = 10 at T = 3.587\n",
      "Generating samples for L = 10 at T = 3.564\n",
      "Generating samples for L = 10 at T = 3.541\n",
      "Generating samples for L = 10 at T = 3.518\n",
      "Generating samples for L = 10 at T = 3.496\n",
      "Generating samples for L = 10 at T = 3.473\n",
      "Generating samples for L = 10 at T = 3.450\n",
      "Generating samples for L = 10 at T = 3.428\n",
      "Generating samples for L = 10 at T = 3.405\n",
      "Generating samples for L = 10 at T = 3.382\n",
      "Generating samples for L = 10 at T = 3.360\n",
      "Generating samples for L = 10 at T = 3.337\n",
      "Generating samples for L = 10 at T = 3.314\n",
      "Generating samples for L = 10 at T = 3.291\n",
      "Generating samples for L = 10 at T = 3.269\n",
      "Generating samples for L = 10 at T = 3.246\n",
      "Generating samples for L = 10 at T = 3.223\n",
      "Generating samples for L = 10 at T = 3.201\n",
      "Generating samples for L = 10 at T = 3.178\n",
      "Generating samples for L = 10 at T = 3.155\n",
      "Generating samples for L = 10 at T = 3.133\n",
      "Generating samples for L = 10 at T = 3.110\n",
      "Generating samples for L = 10 at T = 3.087\n",
      "Generating samples for L = 10 at T = 3.064\n",
      "Generating samples for L = 10 at T = 3.042\n",
      "Generating samples for L = 10 at T = 3.019\n",
      "Generating samples for L = 10 at T = 2.996\n",
      "Generating samples for L = 10 at T = 2.974\n",
      "Generating samples for L = 10 at T = 2.951\n",
      "Generating samples for L = 10 at T = 2.928\n",
      "Generating samples for L = 10 at T = 2.906\n",
      "Generating samples for L = 10 at T = 2.883\n",
      "Generating samples for L = 10 at T = 2.860\n",
      "Generating samples for L = 10 at T = 2.837\n",
      "Generating samples for L = 10 at T = 2.815\n",
      "Generating samples for L = 10 at T = 2.792\n",
      "Generating samples for L = 10 at T = 2.769\n",
      "Generating samples for L = 10 at T = 2.747\n",
      "Generating samples for L = 10 at T = 2.724\n",
      "Generating samples for L = 10 at T = 2.701\n",
      "Generating samples for L = 10 at T = 2.679\n",
      "Generating samples for L = 10 at T = 2.656\n",
      "Generating samples for L = 10 at T = 2.633\n",
      "Generating samples for L = 10 at T = 2.610\n",
      "Generating samples for L = 10 at T = 2.588\n",
      "Generating samples for L = 10 at T = 2.565\n",
      "Generating samples for L = 10 at T = 2.542\n",
      "Generating samples for L = 10 at T = 2.520\n",
      "Generating samples for L = 10 at T = 2.497\n",
      "Generating samples for L = 10 at T = 2.474\n",
      "Generating samples for L = 10 at T = 2.452\n",
      "Generating samples for L = 10 at T = 2.429\n",
      "Generating samples for L = 10 at T = 2.406\n",
      "Generating samples for L = 10 at T = 2.383\n",
      "Generating samples for L = 10 at T = 2.361\n",
      "Generating samples for L = 10 at T = 2.338\n",
      "Generating samples for L = 10 at T = 2.315\n",
      "Generating samples for L = 10 at T = 2.293\n",
      "Generating samples for L = 10 at T = 2.270\n",
      "Generating samples for L = 10 at T = 2.247\n",
      "Generating samples for L = 10 at T = 2.225\n",
      "Generating samples for L = 10 at T = 2.202\n",
      "Generating samples for L = 10 at T = 2.179\n",
      "Generating samples for L = 10 at T = 2.156\n",
      "Generating samples for L = 10 at T = 2.134\n",
      "Generating samples for L = 10 at T = 2.111\n",
      "Generating samples for L = 10 at T = 2.088\n",
      "Generating samples for L = 10 at T = 2.066\n",
      "Generating samples for L = 10 at T = 2.043\n",
      "Generating samples for L = 10 at T = 2.020\n",
      "Generating samples for L = 10 at T = 1.998\n",
      "Generating samples for L = 10 at T = 1.975\n",
      "Generating samples for L = 10 at T = 1.952\n",
      "Generating samples for L = 10 at T = 1.929\n",
      "Generating samples for L = 10 at T = 1.907\n",
      "Generating samples for L = 10 at T = 1.884\n",
      "Generating samples for L = 10 at T = 1.861\n",
      "Generating samples for L = 10 at T = 1.839\n",
      "Generating samples for L = 10 at T = 1.816\n",
      "Generating samples for L = 10 at T = 1.793\n",
      "Generating samples for L = 10 at T = 1.771\n",
      "Generating samples for L = 10 at T = 1.748\n",
      "Generating samples for L = 10 at T = 1.725\n",
      "Generating samples for L = 10 at T = 1.702\n",
      "Generating samples for L = 10 at T = 1.680\n",
      "Generating samples for L = 10 at T = 1.657\n",
      "Generating samples for L = 10 at T = 1.634\n",
      "Generating samples for L = 10 at T = 1.612\n",
      "Generating samples for L = 10 at T = 1.589\n",
      "Generating samples for L = 10 at T = 1.566\n",
      "Generating samples for L = 10 at T = 1.544\n",
      "Generating samples for L = 10 at T = 1.521\n",
      "Generating samples for L = 10 at T = 1.498\n",
      "Generating samples for L = 10 at T = 1.475\n",
      "Generating samples for L = 10 at T = 1.453\n",
      "Generating samples for L = 10 at T = 1.430\n",
      "Generating samples for L = 10 at T = 1.407\n",
      "Generating samples for L = 10 at T = 1.385\n",
      "Generating samples for L = 10 at T = 1.362\n",
      "Generating samples for L = 10 at T = 1.339\n",
      "Generating samples for L = 10 at T = 1.317\n",
      "Generating samples for L = 10 at T = 1.294\n",
      "Generating samples for L = 10 at T = 1.271\n",
      "Generating samples for L = 10 at T = 1.248\n",
      "Generating samples for L = 10 at T = 1.226\n",
      "Generating samples for L = 10 at T = 1.203\n",
      "Generating samples for L = 10 at T = 1.180\n",
      "Generating samples for L = 10 at T = 1.158\n",
      "Generating samples for L = 10 at T = 1.135\n",
      "Generating samples for L = 10 at T = 1.112\n",
      "Generating samples for L = 10 at T = 1.090\n",
      "Generating samples for L = 10 at T = 1.067\n",
      "Generating samples for L = 10 at T = 1.044\n",
      "Generating samples for L = 10 at T = 1.021\n",
      "Generating samples for L = 10 at T = 0.999\n",
      "Generating samples for L = 10 at T = 0.976\n",
      "Generating samples for L = 10 at T = 0.953\n",
      "Generating samples for L = 10 at T = 0.931\n",
      "Generating samples for L = 10 at T = 0.908\n",
      "Generating samples for L = 10 at T = 0.885\n",
      "Generating samples for L = 10 at T = 0.863\n",
      "Generating samples for L = 10 at T = 0.840\n",
      "Generating samples for L = 10 at T = 0.817\n",
      "Generating samples for L = 10 at T = 0.794\n",
      "Generating samples for L = 10 at T = 0.772\n",
      "Generating samples for L = 10 at T = 0.749\n",
      "Generating samples for L = 10 at T = 0.726\n",
      "Generating samples for L = 10 at T = 0.704\n",
      "Generating samples for L = 10 at T = 0.681\n",
      "Generating samples for L = 10 at T = 0.658\n",
      "Generating samples for L = 10 at T = 0.636\n",
      "Generating samples for L = 10 at T = 0.613\n",
      "Generating samples for L = 10 at T = 0.590\n",
      "Generating samples for L = 10 at T = 0.567\n",
      "Generating samples for L = 10 at T = 0.545\n",
      "Generating samples for L = 10 at T = 0.522\n",
      "Generating samples for L = 10 at T = 0.499\n",
      "Generating samples for L = 10 at T = 0.477\n",
      "Generating samples for L = 10 at T = 0.454\n",
      "Generating samples for L = 10 at T = 0.431\n",
      "Generating samples for L = 10 at T = 0.409\n",
      "Generating samples for L = 10 at T = 0.386\n",
      "Generating samples for L = 10 at T = 0.363\n",
      "Generating samples for L = 10 at T = 0.340\n",
      "Generating samples for L = 10 at T = 0.318\n",
      "Generating samples for L = 10 at T = 0.295\n",
      "Generating samples for L = 10 at T = 0.272\n",
      "Generating samples for L = 10 at T = 0.250\n",
      "Generating samples for L = 10 at T = 0.227\n",
      "Generating samples for L = 10 at T = 0.204\n",
      "Generating samples for L = 10 at T = 0.182\n",
      "Generating samples for L = 10 at T = 0.159\n",
      "Generating samples for L = 10 at T = 0.136\n",
      "Generating samples for L = 10 at T = 0.113\n"
     ]
    }
   ],
   "source": [
    "Ts = np.arange(1.95, 0.04, -0.01) * 2.27\n",
    "all_data = generate_Ising_configurations(10, 500, Ts)"
   ]
  },
  {
   "cell_type": "code",
   "execution_count": 4,
   "id": "7c71491c",
   "metadata": {},
   "outputs": [],
   "source": [
    "[raw_T, raw_x, raw_y], [train_T, train_x, train_y], [test_T, test_x, test_y] = get_training_data(all_data,Ts)"
   ]
  },
  {
   "cell_type": "markdown",
   "id": "f0fa05cc",
   "metadata": {},
   "source": [
    "## Load and prepare the dataset"
   ]
  },
  {
   "cell_type": "code",
   "execution_count": 5,
   "id": "6b1c458e",
   "metadata": {},
   "outputs": [],
   "source": [
    "def load_data(Ts, Tc = 2.7, train_fraction=0.8):\n",
    "    # Lists to store the raw data\n",
    "    raw_T = []\n",
    "    raw_x = []\n",
    "    raw_y = [] \n",
    "    for i,T in enumerate(Ts):\n",
    "        data = np.load(\"data/%d-%.3f.npy\"%(10,T))\n",
    "\n",
    "        for snapshot in data:\n",
    "            raw_T.append( snapshot[0] )\n",
    "            raw_x.append( snapshot[1:])\n",
    "            raw_y.append( [1,0] if T < Tc else [0,1] )\n",
    "\n",
    "    # Shuffle\n",
    "    indices = np.random.permutation(len(raw_x))\n",
    "    all_T = np.array(raw_T)[indices]\n",
    "    all_x = np.array(raw_x)[indices]\n",
    "    all_y = np.array(raw_y)[indices]\n",
    "\n",
    "    # Split into train and test sets\n",
    "    train_split = int(train_fraction * len(all_x))\n",
    "    train_T = jnp.array(all_T[:train_split])\n",
    "    train_x = jnp.array(all_x[:train_split])\n",
    "    train_y = jnp.array(all_y[:train_split])\n",
    "    test_T = jnp.array(all_T[train_split:])\n",
    "    test_x = jnp.array(all_x[train_split:])\n",
    "    test_y = jnp.array(all_y[train_split:])\n",
    "    \n",
    "    return [raw_T, raw_x, raw_y], [train_T, train_x, train_y], [test_T, test_x, test_y]"
   ]
  },
  {
   "cell_type": "code",
   "execution_count": 6,
   "id": "c7f95258",
   "metadata": {},
   "outputs": [],
   "source": [
    "Ts = np.arange(1.95, 0.04, -0.01) * 2.27\n",
    "#[raw_T, raw_x, raw_y], [train_T, train_x, train_y], [test_T, test_x, test_y] = load_data(Ts)"
   ]
  },
  {
   "cell_type": "markdown",
   "id": "869f4408",
   "metadata": {},
   "source": [
    "### Visualize some data samples"
   ]
  },
  {
   "cell_type": "code",
   "execution_count": 7,
   "id": "3d5908f4",
   "metadata": {},
   "outputs": [
    {
     "data": {
      "image/png": "[encoded data removed]",
      "text/plain": [
       "<Figure size 1008x720 with 20 Axes>"
      ]
     },
     "metadata": {},
     "output_type": "display_data"
    }
   ],
   "source": [
    "fig, ax = plt.subplots(4,5, figsize=(14,10))\n",
    "for i in range(4):\n",
    "    for j in range(5):\n",
    "        ax[i,j].matshow(np.reshape(raw_x[(4*i + j)*2000], (10,10)), cmap='Greys')\n",
    "        ax[i,j].set_title(\"$T = %.3f$\"%raw_T[(4*i + j)*2000])\n",
    "        ax[i,j].set_xticks([])\n",
    "        ax[i,j].set_yticks([])\n",
    "fig.tight_layout()"
   ]
  },
  {
   "cell_type": "markdown",
   "id": "c03f2699",
   "metadata": {},
   "source": [
    "## Make a Feedforward network"
   ]
  },
  {
   "cell_type": "code",
   "execution_count": 8,
   "id": "b6682892",
   "metadata": {},
   "outputs": [],
   "source": [
    "def random_dense_layer_params(num_output, num_input, key, scale=1e-2):\n",
    "    w_key, b_key = random.split(key)\n",
    "    return scale * random.normal(w_key, (num_input, num_output)), scale * random.normal(b_key, (num_input,))\n",
    "\n",
    "def initialize_network_params(layer_sizes, key, scale=1e-2):\n",
    "    keys = random.split(key, len(layer_sizes))\n",
    "    \n",
    "    parameters = []\n",
    "    for i in range(len(layer_sizes)-1):\n",
    "        parameters.append( random_dense_layer_params(layer_sizes[i], layer_sizes[i+1], keys[i], scale) )\n",
    "        \n",
    "    return parameters\n",
    "\n",
    "    # Alternatively, the above can be done in one line using\n",
    "    # return [random_layer_params(m, n, k) for m, n, k in zip(layer_sizes[:-1], layer_sizes[1:], keys)]"
   ]
  },
  {
   "cell_type": "markdown",
   "id": "7872cee8",
   "metadata": {},
   "source": [
    "### Define the forward prediction of our network"
   ]
  },
  {
   "cell_type": "code",
   "execution_count": 9,
   "id": "9b965a99",
   "metadata": {},
   "outputs": [],
   "source": [
    "def relu(x):\n",
    "    return jnp.maximum(0, x)\n",
    "\n",
    "# We can write this function for a single input x, and then later use 'vmap' to make a batch version of it\n",
    "def predict_single(params, x):\n",
    "    activations = x\n",
    "    # Feed through the network, layer by layer\n",
    "    for weights, biases in params[:-1]:\n",
    "        outputs = jnp.dot(weights, activations) + biases\n",
    "        activations = relu(outputs)\n",
    "\n",
    "    # For the final layer, we don't want the relu\n",
    "    final_weight, final_bias = params[-1]\n",
    "    logits = jnp.dot(final_weight, activations) + final_bias\n",
    "    \n",
    "    # We want a softmax output, which is exp(logits) / sum(exp(logits))\n",
    "    # and the log of that is log(exp(logits)) - log(sum(exp(logits))) = logits - logsumexp(logits)\n",
    "    return logits - logsumexp(logits)\n",
    "\n",
    "# Make a batched version of the `predict` function\n",
    "predict = vmap(predict_single, in_axes=(None, 0), out_axes=0)\n",
    "\n",
    "def accuracy(params, images, targets):\n",
    "    target_class = jnp.argmax(targets, axis=1)\n",
    "    predicted_class = jnp.argmax(predict(params, images), axis=1)\n",
    "    return jnp.mean(predicted_class == target_class)"
   ]
  },
  {
   "cell_type": "markdown",
   "id": "930028bb",
   "metadata": {},
   "source": [
    "## The loss function"
   ]
  },
  {
   "cell_type": "code",
   "execution_count": 10,
   "id": "928be7c2",
   "metadata": {},
   "outputs": [],
   "source": [
    "def loss(params, images, targets):\n",
    "    preds = predict(params, images)\n",
    "    return -jnp.mean(preds * targets)"
   ]
  },
  {
   "cell_type": "markdown",
   "id": "3cd33e6a",
   "metadata": {},
   "source": [
    "## The optimizer"
   ]
  },
  {
   "cell_type": "code",
   "execution_count": 11,
   "id": "cc7633aa",
   "metadata": {},
   "outputs": [],
   "source": [
    "# Defining an optimizer in Jax\n",
    "step_size = 1e-3\n",
    "opt_init, opt_update, get_params = optimizers.adam(step_size)\n",
    "\n",
    "@jit\n",
    "def update(params, x, y, opt_state):\n",
    "    \"\"\" Compute the gradient for a batch and update the parameters \"\"\"\n",
    "    value, grads = value_and_grad(loss)(params, x, y)\n",
    "    opt_state = opt_update(0, grads, opt_state)\n",
    "    return get_params(opt_state), opt_state, value"
   ]
  },
  {
   "cell_type": "markdown",
   "id": "226be263",
   "metadata": {},
   "source": [
    "## Training loop"
   ]
  },
  {
   "cell_type": "code",
   "execution_count": 12,
   "id": "8b4b3994",
   "metadata": {},
   "outputs": [],
   "source": [
    "def train(train_x, train_y, test_x, test_y, num_epochs, batch_size, opt_state):\n",
    "    \"\"\" Implements a learning loop over epochs. \"\"\"\n",
    "    # Initialize placeholder for loggin\n",
    "    log_acc_train, log_acc_test, train_loss = [], [], []\n",
    "\n",
    "    # Get the initial set of parameters\n",
    "    params = get_params(opt_state)\n",
    "\n",
    "    # Get initial accuracy after random init\n",
    "    train_acc = accuracy(params, train_x, train_y)\n",
    "    test_acc = accuracy(params, test_x, test_y)\n",
    "    log_acc_train.append(train_acc)\n",
    "    log_acc_test.append(test_acc)\n",
    "\n",
    "    # Divide into batches\n",
    "    num_batches = len(train_x) // batch_size\n",
    "\n",
    "    # Loop over the training epochs\n",
    "    for epoch in range(num_epochs):\n",
    "        start_time = time.time()\n",
    "        \n",
    "        # Shuffle data\n",
    "        indices = np.random.permutation(len(train_x))\n",
    "        batch_indices = jnp.split(indices[:num_batches*batch_size], batch_size)\n",
    "        \n",
    "        for b in range(len(batch_indices)):\n",
    "            x = train_x[batch_indices[b]]\n",
    "            y = train_y[batch_indices[b]]\n",
    "            \n",
    "            params, opt_state, loss = update(params, x, y, opt_state)\n",
    "            train_loss.append(loss)\n",
    "\n",
    "        epoch_time = time.time() - start_time\n",
    "        train_acc = accuracy(params, train_x, train_y)\n",
    "        test_acc = accuracy(params, test_x, test_y)\n",
    "        log_acc_train.append(train_acc)\n",
    "        log_acc_test.append(test_acc)\n",
    "        print(\"Epoch {} | Time: {:0.2f} | Train A: {:0.3f} | Test A: {:0.3f}\".format(epoch+1, epoch_time,\n",
    "                                                                    train_acc, test_acc))\n",
    "\n",
    "        \n",
    "    return train_loss, log_acc_train, log_acc_test, params"
   ]
  },
  {
   "cell_type": "markdown",
   "id": "13119c0f",
   "metadata": {},
   "source": [
    "# Blanking: train model on extremes, use it to predict the rest"
   ]
  },
  {
   "cell_type": "code",
   "execution_count": 13,
   "id": "b87cf933",
   "metadata": {},
   "outputs": [],
   "source": [
    "# All temperatures\n",
    "Ts = np.arange(1.95, 0.04, -0.01) * 2.27\n",
    "\n",
    "# Pick only the Ts at the beginning and at the end, and construct a dataset\n",
    "train_Ts = list(Ts[:40]) + list(Ts[-40:])\n",
    "#[raw_T, raw_x, raw_y], [train_T, train_x, train_y], [test_T, test_x, test_y] = load_data(train_Ts)\n",
    "[raw_T, raw_x, raw_y], [train_T, train_x, train_y], [test_T, test_x, test_y] = get_training_data(all_data, train_Ts)\n",
    "\n",
    "# Initialize a new network (or rather its parameters)\n",
    "layer_sizes = [100, 64, 32, 2]\n",
    "params = initialize_network_params(layer_sizes, key)\n",
    "\n",
    "# Initialize the optimizer\n",
    "opt_state = opt_init(params)"
   ]
  },
  {
   "cell_type": "code",
   "execution_count": 14,
   "id": "6fd810aa",
   "metadata": {},
   "outputs": [
    {
     "name": "stdout",
     "output_type": "stream",
     "text": [
      "Epoch 1 | Time: 0.79 | Train A: 0.866 | Test A: 0.861\n",
      "Epoch 2 | Time: 0.10 | Train A: 0.996 | Test A: 0.996\n",
      "Epoch 3 | Time: 0.12 | Train A: 0.999 | Test A: 0.999\n",
      "Epoch 4 | Time: 0.11 | Train A: 1.000 | Test A: 0.999\n",
      "Epoch 5 | Time: 0.11 | Train A: 1.000 | Test A: 0.999\n",
      "Epoch 6 | Time: 0.10 | Train A: 1.000 | Test A: 1.000\n",
      "Epoch 7 | Time: 0.10 | Train A: 1.000 | Test A: 1.000\n",
      "Epoch 8 | Time: 0.10 | Train A: 1.000 | Test A: 1.000\n",
      "Epoch 9 | Time: 0.11 | Train A: 1.000 | Test A: 1.000\n",
      "Epoch 10 | Time: 0.09 | Train A: 1.000 | Test A: 1.000\n",
      "Epoch 11 | Time: 0.11 | Train A: 1.000 | Test A: 1.000\n",
      "Epoch 12 | Time: 0.11 | Train A: 1.000 | Test A: 1.000\n",
      "Epoch 13 | Time: 0.13 | Train A: 1.000 | Test A: 1.000\n",
      "Epoch 14 | Time: 0.10 | Train A: 1.000 | Test A: 1.000\n",
      "Epoch 15 | Time: 0.10 | Train A: 1.000 | Test A: 1.000\n",
      "Epoch 16 | Time: 0.10 | Train A: 1.000 | Test A: 1.000\n",
      "Epoch 17 | Time: 0.10 | Train A: 1.000 | Test A: 1.000\n",
      "Epoch 18 | Time: 0.11 | Train A: 1.000 | Test A: 1.000\n",
      "Epoch 19 | Time: 0.16 | Train A: 1.000 | Test A: 1.000\n",
      "Epoch 20 | Time: 0.12 | Train A: 1.000 | Test A: 1.000\n"
     ]
    },
    {
     "data": {
      "text/plain": [
       "Text(0, 0.5, 'Loss')"
      ]
     },
     "execution_count": 14,
     "metadata": {},
     "output_type": "execute_result"
    },
    {
     "data": {
      "image/png": "[encoded data removed]",
      "text/plain": [
       "<Figure size 1200x800 with 1 Axes>"
      ]
     },
     "metadata": {
      "needs_background": "light"
     },
     "output_type": "display_data"
    }
   ],
   "source": [
    "train_loss, train_log, test_log, params = train(train_x, train_y, test_x, test_y, 20, 32, opt_state)\n",
    "\n",
    "fig, ax = plt.subplots(dpi=200)\n",
    "ax.plot(train_loss)\n",
    "ax.set_xlabel(\"Batch\")\n",
    "ax.set_ylabel(\"Loss\")"
   ]
  },
  {
   "cell_type": "markdown",
   "id": "588c0daf",
   "metadata": {},
   "source": [
    "## Predict for all Ts"
   ]
  },
  {
   "cell_type": "code",
   "execution_count": 15,
   "id": "67126f11",
   "metadata": {},
   "outputs": [],
   "source": [
    "# Group all data by temperature for easier plotting\n",
    "# all_data = {}\n",
    "# for i,T in enumerate(Ts):\n",
    "#     data = np.load(\"data/%d-%.3f.npy\"%(10,T))\n",
    "\n",
    "#     all_x = []\n",
    "#     for snapshot in data:\n",
    "#         all_x.append( snapshot[1:])\n",
    "        \n",
    "#     all_data['%.3f'%T] = {'x': np.array(all_x)}"
   ]
  },
  {
   "cell_type": "code",
   "execution_count": 16,
   "id": "bafcbeb6",
   "metadata": {},
   "outputs": [],
   "source": [
    "# For every temperature, get the averaged prediction\n",
    "predictions = []\n",
    "for T in Ts:\n",
    "    x = all_data['%.3f'%T]#['x']\n",
    "    p = jnp.exp( predict(params, x) )  # Exponentiate it to go back to the [0,1] range for nicer plotting\n",
    "    p = jnp.mean( p, axis=0 )\n",
    "    predictions.append(p)"
   ]
  },
  {
   "cell_type": "code",
   "execution_count": 17,
   "id": "7ad2afae",
   "metadata": {},
   "outputs": [
    {
     "data": {
      "text/plain": [
       "Text(0, 0.5, 'Predictions')"
      ]
     },
     "execution_count": 17,
     "metadata": {},
     "output_type": "execute_result"
    },
    {
     "data": {
      "image/png": "[encoded data removed]",
      "text/plain": [
       "<Figure size 1200x800 with 1 Axes>"
      ]
     },
     "metadata": {
      "needs_background": "light"
     },
     "output_type": "display_data"
    }
   ],
   "source": [
    "fig, ax = plt.subplots(dpi=200)\n",
    "ax.plot( Ts, predictions )\n",
    "ax.set_xlabel(\"T\")\n",
    "ax.set_ylabel(\"Predictions\")"
   ]
  },
  {
   "cell_type": "markdown",
   "id": "d8ff40f8",
   "metadata": {},
   "source": [
    "# Challenge ideas:"
   ]
  },
  {
   "cell_type": "code",
   "execution_count": 18,
   "id": "24d4705a",
   "metadata": {},
   "outputs": [],
   "source": [
    "# Fit a sigmoid to the outputs to extract the crossing point (=Tc)\n",
    "# See how the crossing point depends on:\n",
    "    # The (width of the) regions in which you train\n",
    "    # The network architecture\n",
    "    # Size of the data (instead of 10x10 snapshots)"
   ]
  },
  {
   "cell_type": "code",
   "execution_count": null,
   "id": "9b1fd049",
   "metadata": {},
   "outputs": [],
   "source": []
  }
 ],
 "metadata": {
  "kernelspec": {
   "display_name": "Python 3",
   "language": "python",
   "name": "python3"
  },
  "language_info": {
   "codemirror_mode": {
    "name": "ipython",
    "version": 3
   },
   "file_extension": ".py",
   "mimetype": "text/x-python",
   "name": "python",
   "nbconvert_exporter": "python",
   "pygments_lexer": "ipython3",
   "version": "3.9.4"
  }
 },
 "nbformat": 4,
 "nbformat_minor": 5
}
