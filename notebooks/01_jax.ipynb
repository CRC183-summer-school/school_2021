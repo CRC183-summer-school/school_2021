{
 "cells": [
  {
   "cell_type": "markdown",
   "id": "6623b1e1",
   "metadata": {},
   "source": [
    "### CRC183 Summer School \"Machine Learning in Condensed Matter Physics\"\n",
    "# Hands-on session: Building deep learning models with JAX/Flax\n",
    "\n",
    "## Installing JAX, NetKet & Co.\n",
    "\n",
    "In today's session you will learn about basics of JAX and the Netket library. Installing NetKet is relatively straightforward and it will automatically install JAX as a dependency. \n",
    "\n",
    "For this Tutorial, **if you are running it locally on your machine**, we recommend that you create a clean virtual environment and install NetKet within: \n",
    "\n",
    "```bash\n",
    "python3 -m venv netket\n",
    "source netket/bin/activate\n",
    "pip install --pre netket\n",
    "```\n",
    "\n",
    "If you are wondering why we use the flag ```--pre``` it is because today we will be working on a pre (beta) release of version 3.0. \n",
    "\n",
    "**If you are on Google Colab**, run the following cell to install the required packages."
   ]
  },
  {
   "cell_type": "code",
   "execution_count": null,
   "id": "79a7a880",
   "metadata": {},
   "outputs": [],
   "source": [
    "!pip install --pre -U netket"
   ]
  },
  {
   "cell_type": "markdown",
   "id": "baf2d586",
   "metadata": {},
   "source": [
    "You can check that the installation was succesfull doing "
   ]
  },
  {
   "cell_type": "code",
   "execution_count": null,
   "id": "1b7bc09a",
   "metadata": {},
   "outputs": [],
   "source": [
    "import jax"
   ]
  },
  {
   "cell_type": "markdown",
   "id": "bce9661c",
   "metadata": {},
   "source": [
    "## JAX\n",
    "\n",
    "[JAX](https://github.com/google/jax) is a Python library that provides essential functionality for deep learning applications, namely\n",
    "\n",
    "* **automatic differentiation**\n",
    "* **vectorization**\n",
    "* **just-in-time compilation** to GPU/TPU accelerators\n",
    "\n",
    "It is being developed \"for high-performance machine learning research\" and as such well suited for physics applications. The abovementioned features are implemented in a system of composable function transformations that \"process\" Python functions.\n",
    "\n",
    "## `jax.numpy`\n",
    "\n",
    "The function transformations of JAX rely on functions being written in a \"JAX-intellegible\" form. For this purpose the `jax.numpy` sub-module emulates almost the whole NumPy functionality. When using JAX, any array operations should be written using `jax.numpy`."
   ]
  },
  {
   "cell_type": "code",
   "execution_count": null,
   "id": "e2fdb8f6",
   "metadata": {},
   "outputs": [],
   "source": [
    "import numpy as np\n",
    "import jax.numpy as jnp"
   ]
  },
  {
   "cell_type": "markdown",
   "id": "3469dcf2",
   "metadata": {},
   "source": [
    "The basic object is the `jnp.array`:"
   ]
  },
  {
   "cell_type": "code",
   "execution_count": null,
   "id": "0b2e9405",
   "metadata": {},
   "outputs": [],
   "source": [
    "arr = jnp.array([1,2,3])\n",
    "print(arr)"
   ]
  },
  {
   "cell_type": "markdown",
   "id": "4a3e521b",
   "metadata": {},
   "source": [
    "NumPy arrays and `jax.numpy` arrays can be converted into each other:"
   ]
  },
  {
   "cell_type": "code",
   "execution_count": null,
   "id": "7abd1607",
   "metadata": {},
   "outputs": [],
   "source": [
    "np_array = np.array(arr)\n",
    "type(np_array)"
   ]
  },
  {
   "cell_type": "code",
   "execution_count": null,
   "id": "3b75b4bf",
   "metadata": {},
   "outputs": [],
   "source": [
    "type(jnp.array(np_array))"
   ]
  },
  {
   "cell_type": "markdown",
   "id": "cff7d4ae",
   "metadata": {},
   "source": [
    "Most NumPy functions have an equivalent in `jax.numpy`, e.g. `sum()`:"
   ]
  },
  {
   "cell_type": "code",
   "execution_count": null,
   "id": "4e0b0863",
   "metadata": {},
   "outputs": [],
   "source": [
    "print(jnp.sum(arr))"
   ]
  },
  {
   "cell_type": "markdown",
   "id": "d715676f",
   "metadata": {},
   "source": [
    "## JAX random numbers\n",
    "\n",
    "JAX implements a pseudo-random number generator (PRNG) in the `jax.random` submodule. The JAX PRNG handles the state of the PRNG explicitly in the form of *keys* that have to be passed around, and which can be split in order to fork the PRNG state into new PRNGs.\n",
    "\n",
    "Let's generate an initial key:"
   ]
  },
  {
   "cell_type": "code",
   "execution_count": null,
   "id": "bfc7a9f6",
   "metadata": {},
   "outputs": [],
   "source": [
    "seed=1234\n",
    "key = jax.random.PRNGKey(seed)\n",
    "print(key)"
   ]
  },
  {
   "cell_type": "markdown",
   "id": "119fcba0",
   "metadata": {},
   "source": [
    "Any function in `jax.random` that generates random numbers takes a key as argument, e.g."
   ]
  },
  {
   "cell_type": "code",
   "execution_count": null,
   "id": "9c171905",
   "metadata": {},
   "outputs": [],
   "source": [
    "jax.random.normal(key, (3,3))"
   ]
  },
  {
   "cell_type": "markdown",
   "id": "8b3bd8d2",
   "metadata": {},
   "source": [
    "Passing the same key results in the same set of random numbers"
   ]
  },
  {
   "cell_type": "code",
   "execution_count": null,
   "id": "60df1d2a",
   "metadata": {},
   "outputs": [],
   "source": [
    "jax.random.normal(key, (3,3))"
   ]
  },
  {
   "cell_type": "markdown",
   "id": "d760d559",
   "metadata": {},
   "source": [
    "To get a different sequence of random numbers, we need to generate a new key by splitting the original one:"
   ]
  },
  {
   "cell_type": "code",
   "execution_count": null,
   "id": "9ebbcbb3",
   "metadata": {},
   "outputs": [],
   "source": [
    "key, newkey = jax.random.split(key)\n",
    "\n",
    "jax.random.normal(newkey, (3,3))"
   ]
  },
  {
   "cell_type": "markdown",
   "id": "bcef25ab",
   "metadata": {},
   "source": [
    "## Warning of \"sharp edges\" in JAX\n",
    "\n",
    "The ability to perform the various function transformations imposes a number of **constraints on how those functions are written**. Before diving deeper into the JAX library, reading [\"JAX - the sharp bits\"](https://jax.readthedocs.io/en/latest/notebooks/Common_Gotchas_in_JAX.html), which summarizes the main pitfalls when working with it, is highly recommended.\n",
    "\n",
    "The most important points are\n",
    "\n",
    " * **Pure functions**: All input data have to be passed to the function as arguments and all results given as return values. Don't work with global variables or side effects. Some workarounds are needed to reconcile JAX with object-oriented code.\n",
    " * **Control flow** needs some care. Replace Python ``for``-loops or ``if``-branching with primitives from the ``jax.lax`` sub-module, [see documentation](https://jax.readthedocs.io/en/latest/jax.lax.html#control-flow-operators).\n",
    " * **JAX arrays are immutable**: As a python programmer you are used to updating array elements with ``array[13,:]=3.1415``. Unfortunately, this does not work with JAX arrays. Instead you need to use JAX's indexed update functionality, e.g. in this case ``array.at[13, :].set(3.1415)``. [See the documentation for details](https://jax.readthedocs.io/en/latest/jax.ops.html#indexed-update-operators)."
   ]
  },
  {
   "cell_type": "markdown",
   "id": "a6f56aa0",
   "metadata": {},
   "source": [
    "## Flax\n",
    "\n",
    "[Flax](https://github.com/google/flax) builds on JAX and provides a framework to easily define arbitrary deep learning models very similar to PyTorch. Moreover, typical building blocks of deep learning models are already implemented in the library.\n",
    "\n",
    "As an example, let's define a simple feed-forward network with a single layer. It consists of a dense layer, i.e., an affine-linear transformation of the input followed by a $\\text{ReLU}(\\cdot)$ non-linearity giving the *activations*. Additionally, we include a reduction operation to obtain a single number as output, namely the sum of the activations:\n",
    "\n",
    "$$\n",
    "f_{W,b}(x) = \\sum_i \\text{ReLU}(W_{i,j}x_j+b_i)\n",
    "$$\n",
    "\n",
    "In Flax this neural network can be implemented as follows:"
   ]
  },
  {
   "cell_type": "code",
   "execution_count": null,
   "id": "b47107e7",
   "metadata": {},
   "outputs": [],
   "source": [
    "import flax.linen as nn\n",
    "\n",
    "class MyFFN(nn.Module):\n",
    "    num_neurons: int\n",
    "    \n",
    "    @nn.compact\n",
    "    def __call__(self, x):\n",
    "        \n",
    "        z = nn.Dense(self.num_neurons)(x) # affine-linear transformation of the input\n",
    "        a = nn.relu(z) # non-linearity\n",
    "        \n",
    "        return jnp.sum(a)"
   ]
  },
  {
   "cell_type": "markdown",
   "id": "29814073",
   "metadata": {},
   "source": [
    "The code above shows the basic syntax to define a custom model in Flax. A Flax model is a class that inherits from the abstract `flax.linen.Module` class. As part of it we have to implement a `__call__` method that defines how the network is evaluated for a given input.\n",
    "\n",
    "In the example the `__call__` method is decorated with `@nn.compact`, because we are using the compact definition of a Flax model. This is possible for simple models where we do not have to specify an additional setup procedure for the initialization of the model. For more complex models a `setup` method can be defined for the initialization; in that case the `@nn.compact` decorator has to be dropped.\n",
    "\n",
    "In addition, we defined the data field `num_neurons`. The data fields of the model class are initialized by the constructor and they can contain the hyperparameters of the model.\n",
    "\n",
    "Finally, we use some of the pre-implemented building blocks, namely the `nn.Dense` layer for the affine-linear transformation and the activation function `nn.relu`.\n",
    "\n",
    "Through the `nn.Module` base class our `MyFFN` class will have further methods that allow us to deal with the model. Below we will learn about `init` for parameter intialization and `apply` for the evaluation.\n",
    "\n",
    "Now we can create an instance of this class, passing a value for the `num_neurons` hyperparameter to the constructor:"
   ]
  },
  {
   "cell_type": "code",
   "execution_count": null,
   "id": "19d4cd9f",
   "metadata": {},
   "outputs": [],
   "source": [
    "net = MyFFN(num_neurons=123)"
   ]
  },
  {
   "cell_type": "markdown",
   "id": "2307c4fa",
   "metadata": {},
   "source": [
    "Before we can work with this model, we also need to get an initial set of parameters. For this purpose we have to call the model's `init` method, which takes an `jax.random.PRNGKey` and an exemplary input datum as arguments:"
   ]
  },
  {
   "cell_type": "code",
   "execution_count": null,
   "id": "ce7a9f82",
   "metadata": {},
   "outputs": [],
   "source": [
    "example_input = jax.random.normal(jax.random.PRNGKey(4321), (28*28,))\n",
    "params = net.init(jax.random.PRNGKey(1234), example_input)"
   ]
  },
  {
   "cell_type": "markdown",
   "id": "932a1895",
   "metadata": {},
   "source": [
    "The set of parameters is returned in the form of a tree:"
   ]
  },
  {
   "cell_type": "code",
   "execution_count": null,
   "id": "44faec83",
   "metadata": {},
   "outputs": [],
   "source": [
    "params"
   ]
  },
  {
   "cell_type": "markdown",
   "id": "251ce580",
   "metadata": {},
   "source": [
    "Now we can evaluate our neural network on the input data:"
   ]
  },
  {
   "cell_type": "code",
   "execution_count": null,
   "id": "b53318b0",
   "metadata": {},
   "outputs": [],
   "source": [
    "net.apply(params, example_input)"
   ]
  },
  {
   "cell_type": "markdown",
   "id": "c9d7723f",
   "metadata": {},
   "source": [
    "To define models that don't rely on Flax's standard building blocks, parameters can be declared explicitly with the ``self.param`` method:"
   ]
  },
  {
   "cell_type": "code",
   "execution_count": null,
   "id": "dbe8d000",
   "metadata": {},
   "outputs": [],
   "source": [
    "class MyFFNfromScratch(nn.Module):\n",
    "    num_neurons: int\n",
    "    \n",
    "    @nn.compact\n",
    "    def __call__(self, x):\n",
    "        \n",
    "        W = self.param('W',\n",
    "                    nn.initializers.lecun_normal(), # Initialization function\n",
    "                    (self.num_neurons, x.shape[-1]))  # shape of the matrix\n",
    "        \n",
    "        b = self.param('b', nn.initializers.zeros, (self.num_neurons,))\n",
    "        \n",
    "        z = jnp.dot(W,x) + b # affine-linear transformation of the input\n",
    "        a = nn.relu(z) # non-linearity\n",
    "        \n",
    "        return jnp.sum(a)"
   ]
  },
  {
   "cell_type": "markdown",
   "id": "de80775b",
   "metadata": {},
   "source": [
    "Initialization and evaluation is identical to the example above:"
   ]
  },
  {
   "cell_type": "code",
   "execution_count": null,
   "id": "5e62eaca",
   "metadata": {},
   "outputs": [],
   "source": [
    "net1 = MyFFNfromScratch(num_neurons=123)\n",
    "params1 = net1.init(jax.random.PRNGKey(1234), example_input)\n",
    "net1.apply(params1, example_input)"
   ]
  },
  {
   "cell_type": "markdown",
   "id": "29334407",
   "metadata": {},
   "source": [
    "We can check, that in the ``params1`` dictionary we see our custom parameter names together with the random initial values."
   ]
  },
  {
   "cell_type": "code",
   "execution_count": null,
   "id": "53a9bf54",
   "metadata": {},
   "outputs": [],
   "source": [
    "params1"
   ]
  },
  {
   "cell_type": "code",
   "execution_count": null,
   "id": "7cd4f50f-8f52-479f-96fc-353795b4cf76",
   "metadata": {},
   "outputs": [],
   "source": []
  },
  {
   "cell_type": "markdown",
   "id": "95ce2328-1730-4cd9-b4d9-b94e69ed12c5",
   "metadata": {},
   "source": [
    "# Function transformations in JAX"
   ]
  },
  {
   "cell_type": "markdown",
   "id": "659826d3-8184-4777-bfa3-204b597e8a51",
   "metadata": {},
   "source": [
    "<h3 style=\"color: red\">This part of the JAX notebook is not required for getting started with NetKet.</h3>"
   ]
  },
  {
   "cell_type": "markdown",
   "id": "ea074596-78cb-4c2a-b616-be741b64ccac",
   "metadata": {},
   "source": [
    "In the following part, we introduce some essential elements that make JAX so useful. In particular, we will look at 'just-in-time' compilation with `jit`, automatic differentation with `grad`, and vectorization with `vmap`. These are useful to know not only for working with neural networks, but more generally (see e.g. the neural_schrodinger and coulomb_gas notebooks)"
   ]
  },
  {
   "cell_type": "markdown",
   "id": "702cfe93-fe16-4450-a34e-b931445d8ebc",
   "metadata": {},
   "source": [
    "## Just-in-time compilation with `jax.jit`\n",
    "\n",
    "With just-in-time compilation JAX can generate compiled versions of Python functions that run on GPUs/TPUs if available and otherwise on the CPU. This can yield substantial performance gains.\n",
    "\n",
    "Let's define an example function:"
   ]
  },
  {
   "cell_type": "code",
   "execution_count": 2,
   "id": "45e9427e-589f-416d-b3e1-c4fdcabe851f",
   "metadata": {},
   "outputs": [],
   "source": [
    "def f(x):\n",
    "    return x*x"
   ]
  },
  {
   "cell_type": "markdown",
   "id": "dfe01897-4fe0-4207-b5f7-2efc03144b9c",
   "metadata": {},
   "source": [
    "Now we can get a compiled version of the function with"
   ]
  },
  {
   "cell_type": "code",
   "execution_count": 3,
   "id": "52a2003b-b3d5-4887-b8ee-4d87a7a95d74",
   "metadata": {},
   "outputs": [],
   "source": [
    "f_jitd = jax.jit(f)"
   ]
  },
  {
   "cell_type": "code",
   "execution_count": 4,
   "id": "2da40220-2a1a-4196-b52c-91e87cd07a57",
   "metadata": {},
   "outputs": [
    {
     "name": "stderr",
     "output_type": "stream",
     "text": [
      "WARNING:absl:No GPU/TPU found, falling back to CPU. (Set TF_CPP_MIN_LOG_LEVEL=0 and rerun for more info.)\n"
     ]
    },
    {
     "data": {
      "text/plain": [
       "DeviceArray(0, dtype=int32)"
      ]
     },
     "execution_count": 4,
     "metadata": {},
     "output_type": "execute_result"
    }
   ],
   "source": [
    "f(3)-f_jitd(3)"
   ]
  },
  {
   "cell_type": "markdown",
   "id": "84272b45-c5c7-4d01-b2fa-84b2f0f565bb",
   "metadata": {},
   "source": [
    "#### Remarks\n",
    "* The function returned by `jax.jit` is only compiled at the point when it is first called.\n",
    "* The function is compiled for fixed shapes of the arguments that are given at the first call. Therefore, the first call can take substantially longer than subsequent calls.\n",
    "* Calling a compiled function with different argument shapes will cause re-compilation."
   ]
  },
  {
   "cell_type": "markdown",
   "id": "6a508709-3bc3-42b5-a3b2-e9603c4590ce",
   "metadata": {},
   "source": [
    "## Automatic differentiation with `jax.grad`\n",
    "\n",
    "`jax.grad` returns a function that computes the gradient of the input function with respect to its arguments:"
   ]
  },
  {
   "cell_type": "code",
   "execution_count": 16,
   "id": "898a5e16-b3da-46d4-9017-6bc782f9f509",
   "metadata": {},
   "outputs": [],
   "source": [
    "df = jax.grad(f)"
   ]
  },
  {
   "cell_type": "markdown",
   "id": "82771fd6",
   "metadata": {},
   "source": [
    "Since JAX function transformations are composable, we can also easily compute higher order derivatives:"
   ]
  },
  {
   "cell_type": "code",
   "execution_count": null,
   "id": "eb2d8d14",
   "metadata": {},
   "outputs": [],
   "source": [
    "ddf = jax.grad(jax.grad(f))"
   ]
  },
  {
   "cell_type": "markdown",
   "id": "254cdb1d",
   "metadata": {},
   "source": [
    "Let's convince ourselves, that JAX's gradients are correct:"
   ]
  },
  {
   "cell_type": "code",
   "execution_count": 19,
   "id": "f0341a69-1f64-41e2-ba8c-4acebee4bbee",
   "metadata": {},
   "outputs": [
    {
     "data": {
      "image/png": "[encoded data removed]",
      "text/plain": [
       "<Figure size 432x288 with 1 Axes>"
      ]
     },
     "metadata": {
      "needs_background": "light"
     },
     "output_type": "display_data"
    }
   ],
   "source": [
    "import matplotlib.pyplot as plt\n",
    "x_list = jnp.arange(0,1.\n",
    "                    1,.1)\n",
    "f_values = jnp.array([f(x) for x in x_list])\n",
    "df_values = jnp.array([df(x) for x in x_list])\n",
    "ddf_values = jnp.array([ddf(x) for x in x_list])\n",
    "\n",
    "plt.plot(x_list, f_values, label=\"f(x)\")\n",
    "plt.plot(x_list, df_values, label=\"f'(x)\")\n",
    "plt.plot(x_list, ddf_values, label=\"f''(x)\")\n",
    "plt.legend();"
   ]
  },
  {
   "cell_type": "markdown",
   "id": "12617e11-eca6-42d0-933f-b6cb2bb1a9a9",
   "metadata": {},
   "source": [
    "## Vectorization with `jax.vmap`"
   ]
  },
  {
   "cell_type": "markdown",
   "id": "4228232e",
   "metadata": {},
   "source": [
    "For a given function that operates on some input data, `jax.vmap` returns a vectorized version of that function, that applies the original function *element-wise* to vectors of input data.\n",
    "\n",
    "This is very natural, since one focus of JAX is ultimately the execution of the Python code on GPUs. On the other hand, JAX inherits some of the Python issues with for-loops. Vectorizing an operation is often a good alternative to writing a for-loop.\n",
    "\n",
    "Let's vectorize our gradient function:"
   ]
  },
  {
   "cell_type": "code",
   "execution_count": 24,
   "id": "3a89bf07-0c99-46b5-82f3-9bda68b796b8",
   "metadata": {},
   "outputs": [],
   "source": [
    "df_vmapd = jax.vmap(df)"
   ]
  },
  {
   "cell_type": "markdown",
   "id": "25c7a9fd",
   "metadata": {},
   "source": [
    "Now we can directly call `df_vmapd` on a list of input values and we do not need any more the construction `jnp.array([df(x) for x in x_list])` that we used above.\n",
    "\n",
    "Let's check that the output of both versions is identical:"
   ]
  },
  {
   "cell_type": "code",
   "execution_count": 25,
   "id": "dfd831e9-67c5-47b6-87b9-485a76f48d7f",
   "metadata": {},
   "outputs": [
    {
     "data": {
      "text/plain": [
       "DeviceArray([0., 0., 0., 0., 0., 0., 0., 0., 0., 0., 0.], dtype=float32)"
      ]
     },
     "execution_count": 25,
     "metadata": {},
     "output_type": "execute_result"
    }
   ],
   "source": [
    "x_list = jnp.arange(0,1.1,.1)\n",
    "\n",
    "# The vmap-ed function enables us to evaluate gradients directly on the list of x-values\n",
    "df_values_with_vmap = df_vmapd(x_list)\n",
    "\n",
    "df_values = jnp.array([df(x) for x in x_list])\n",
    "\n",
    "df_values - df_values_with_vmap"
   ]
  }
 ],
 "metadata": {
  "kernelspec": {
   "display_name": "Python 3",
   "language": "python",
   "name": "python3"
  },
  "language_info": {
   "codemirror_mode": {
    "name": "ipython",
    "version": 3
   },
   "file_extension": ".py",
   "mimetype": "text/x-python",
   "name": "python",
   "nbconvert_exporter": "python",
   "pygments_lexer": "ipython3",
   "version": "3.7.4"
  }
 },
 "nbformat": 4,
 "nbformat_minor": 5
}
