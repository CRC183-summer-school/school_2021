{
  "nbformat": 4,
  "nbformat_minor": 0,
  "metadata": {
    "colab": {
      "name": "inverse_schrodinger.ipynb",
      "provenance": [],
      "collapsed_sections": []
    },
    "kernelspec": {
      "name": "python3",
      "display_name": "Python 3"
    },
    "language_info": {
      "name": "python"
    },
    "accelerator": "GPU"
  },
  "cells": [
    {
      "cell_type": "code",
      "metadata": {
        "id": "XSKyIkjHQd49"
      },
      "source": [
        "import jax\n",
        "from jax.config import config\n",
        "config.update(\"jax_enable_x64\", True)\n",
        "import jax.numpy as jnp\n",
        "from jax import grad, value_and_grad\n",
        "\n",
        "import numpy as np\n",
        "import matplotlib.pyplot as plt"
      ],
      "execution_count": 1,
      "outputs": []
    },
    {
      "cell_type": "code",
      "metadata": {
        "colab": {
          "base_uri": "https://localhost:8080/"
        },
        "id": "MrFGrB5WTjkX",
        "outputId": "88924d85-717f-4874-8301-36177c2f798e"
      },
      "source": [
        "!nvidia-smi\n",
        "jax.devices()"
      ],
      "execution_count": 2,
      "outputs": [
        {
          "output_type": "stream",
          "text": [
            "Fri Jul 16 03:00:22 2021       \n",
            "+-----------------------------------------------------------------------------+\n",
            "| NVIDIA-SMI 470.42.01    Driver Version: 460.32.03    CUDA Version: 11.2     |\n",
            "|-------------------------------+----------------------+----------------------+\n",
            "| GPU  Name        Persistence-M| Bus-Id        Disp.A | Volatile Uncorr. ECC |\n",
            "| Fan  Temp  Perf  Pwr:Usage/Cap|         Memory-Usage | GPU-Util  Compute M. |\n",
            "|                               |                      |               MIG M. |\n",
            "|===============================+======================+======================|\n",
            "|   0  Tesla T4            Off  | 00000000:00:04.0 Off |                    0 |\n",
            "| N/A   57C    P8    10W /  70W |      0MiB / 15109MiB |      0%      Default |\n",
            "|                               |                      |                  N/A |\n",
            "+-------------------------------+----------------------+----------------------+\n",
            "                                                                               \n",
            "+-----------------------------------------------------------------------------+\n",
            "| Processes:                                                                  |\n",
            "|  GPU   GI   CI        PID   Type   Process name                  GPU Memory |\n",
            "|        ID   ID                                                   Usage      |\n",
            "|=============================================================================|\n",
            "|  No running processes found                                                 |\n",
            "+-----------------------------------------------------------------------------+\n"
          ],
          "name": "stdout"
        },
        {
          "output_type": "execute_result",
          "data": {
            "text/plain": [
              "[GpuDevice(id=0, process_index=0)]"
            ]
          },
          "metadata": {
            "tags": []
          },
          "execution_count": 2
        }
      ]
    },
    {
      "cell_type": "markdown",
      "metadata": {
        "id": "8rYk0Q9GPuAa"
      },
      "source": [
        "Consider the following \"inverse Schrodinger problem\": optimize a one-dimensional potential $V(x)$ to match its ground-state density to a given target density. This problem comes from the [lecture note](https://math.mit.edu/~stevenj/18.336/adjoint.pdf) of Steven G. Johnson at MIT.\n",
        "\n",
        "The computation involves solving the Schrodinger equation\n",
        "$$\n",
        "\\left( -\\frac{1}{2} \\frac{d^2}{d x^2} + V(x) \\right) \\psi_0(x) = E_0 \\psi_0(x).\n",
        "$$\n",
        "Fortunately, such an eigen-decomposition process is differentiable, thus allows us to compute the gradient via the machinery of AD.\n",
        "\n",
        "\n"
      ]
    },
    {
      "cell_type": "markdown",
      "metadata": {
        "id": "wZwptSKbWgaJ"
      },
      "source": [
        "First, set up the 1D axis and a target density:"
      ]
    },
    {
      "cell_type": "code",
      "metadata": {
        "colab": {
          "base_uri": "https://localhost:8080/",
          "height": 316
        },
        "id": "yGhJJ7dtRENu",
        "outputId": "2c6ab3cc-ff61-4438-b644-ad28cd4f4ab9"
      },
      "source": [
        "xmin, xmax, N = -1., 1., 300\n",
        "xmesh = jnp.linspace(xmin, xmax, N, endpoint=False)                                                                                                             \n",
        "target = np.zeros(N)                                                    \n",
        "idx = (np.abs(xmesh) < 0.5)                                             \n",
        "target[idx] = 1. - np.abs(xmesh[idx])                              \n",
        "target /= jnp.linalg.norm(target)\n",
        "\n",
        "plt.plot(xmesh, target, label=\"target\")\n",
        "plt.xlabel(\"x\")\n",
        "plt.ylabel(\"$\\psi(x)$\")\n",
        "plt.legend()"
      ],
      "execution_count": 3,
      "outputs": [
        {
          "output_type": "execute_result",
          "data": {
            "text/plain": [
              "<matplotlib.legend.Legend at 0x7f743a43fa50>"
            ]
          },
          "metadata": {
            "tags": []
          },
          "execution_count": 3
        },
        {
          "output_type": "display_data",
          "data": {
            "image/png": "[encoded data removed]",
            "text/plain": [
              "<Figure size 432x288 with 1 Axes>"
            ]
          },
          "metadata": {
            "tags": [],
            "needs_background": "light"
          }
        }
      ]
    },
    {
      "cell_type": "markdown",
      "metadata": {
        "id": "k0WHLIusXMnS"
      },
      "source": [
        "The kinetic energy term is constructed by using a finite-difference representation of the second-order derivative. On the other hand, the potential term is diagonal."
      ]
    },
    {
      "cell_type": "code",
      "metadata": {
        "id": "h2pQyjXIR8SU"
      },
      "source": [
        "h = (xmax - xmin) / N\n",
        "K = -0.5/h**2 * (jnp.diag(-2 * jnp.ones(N))\n",
        "               + jnp.diag(jnp.ones(N - 1), k=1)\n",
        "               + jnp.diag(jnp.ones(N - 1), k=-1))"
      ],
      "execution_count": 4,
      "outputs": []
    },
    {
      "cell_type": "code",
      "metadata": {
        "id": "jnHGDCzMSbGj"
      },
      "source": [
        "def make_loss(K, target):\n",
        "    def loss_fn(potential): \n",
        "        H = K + jnp.diag(potential)\n",
        "        _, psis = jax.scipy.linalg.eigh(H)\n",
        "        psi0 = psis[:, 0]\n",
        "        loss = jnp.abs(psi0**2 - target**2).sum()\n",
        "        return loss\n",
        "    return loss_fn"
      ],
      "execution_count": 5,
      "outputs": []
    },
    {
      "cell_type": "markdown",
      "metadata": {
        "id": "iY9iCJ23Y2fw"
      },
      "source": [
        "We initialize the potential as that of a harmonic oscillator. For training, we use the quasi-Newton (L-BFGS) optimizer."
      ]
    },
    {
      "cell_type": "code",
      "metadata": {
        "colab": {
          "base_uri": "https://localhost:8080/"
        },
        "id": "R0QjtD8HSBdA",
        "outputId": "d7bcc4e5-a977-42d9-a4b2-b9016aa27d6b"
      },
      "source": [
        "init_potential = 0.5 * xmesh**2\n",
        "loss_fn = make_loss(K, target)\n",
        "loss = loss_fn(init_potential)\n",
        "print(\"initial loss:\", loss)\n",
        "\n",
        "import scipy.optimize\n",
        "def value_and_grad_numpy(f):\n",
        "    def val_grad_f(*args):\n",
        "        value, grad = value_and_grad(f)(*args)\n",
        "        return np.array(value), np.array(grad)\n",
        "    return val_grad_f\n",
        "results = scipy.optimize.minimize(value_and_grad_numpy(loss_fn), np.array(init_potential),\n",
        "                                  method=\"L-BFGS-B\", jac=True, options={'gtol': 1e-07})\n",
        "print(\"success:\", results.success, \"\\nniterations:\", results.nit, \"\\nfinal loss:\", results.fun)"
      ],
      "execution_count": 6,
      "outputs": [
        {
          "output_type": "stream",
          "text": [
            "initial loss: 0.38652714355091977\n",
            "success: True \n",
            "niterations: 987 \n",
            "final loss: 0.024938118793835066\n"
          ],
          "name": "stdout"
        }
      ]
    },
    {
      "cell_type": "code",
      "metadata": {
        "colab": {
          "base_uri": "https://localhost:8080/",
          "height": 316
        },
        "id": "ABzOC5uOVUFn",
        "outputId": "8f63b65b-3819-4333-a49e-e15cc99232db"
      },
      "source": [
        "fig, (ax_psi, ax_potential) = plt.subplots(1, 2, figsize=(12, 4))\n",
        "\n",
        "ax_psi.plot(xmesh, target, label=\"target\")\n",
        "H = K + jnp.diag(results.x)\n",
        "_, psis = jax.scipy.linalg.eigh(H)\n",
        "psi0 = psis[:, 0]\n",
        "ax_psi.plot(xmesh, jnp.abs(psi0), label=\"optimized\")\n",
        "ax_psi.set_xlabel(\"x\")\n",
        "ax_psi.set_ylabel(\"$\\psi(x)$\")\n",
        "ax_psi.legend()\n",
        "\n",
        "ax_potential.plot(xmesh, init_potential, label=\"initial\")\n",
        "ax_potential.plot(xmesh, results.x/300, label=\"optimized\")\n",
        "ax_potential.set_xlabel(\"x\")\n",
        "ax_potential.set_ylabel(\"$V(x)$\")\n",
        "ax_potential.legend()"
      ],
      "execution_count": 7,
      "outputs": [
        {
          "output_type": "execute_result",
          "data": {
            "text/plain": [
              "<matplotlib.legend.Legend at 0x7f7430573890>"
            ]
          },
          "metadata": {
            "tags": []
          },
          "execution_count": 7
        },
        {
          "output_type": "display_data",
          "data": {
            "image/png": "[encoded data removed]",
            "text/plain": [
              "<Figure size 864x288 with 2 Axes>"
            ]
          },
          "metadata": {
            "tags": [],
            "needs_background": "light"
          }
        }
      ]
    },
    {
      "cell_type": "markdown",
      "metadata": {
        "id": "Yg1tdKwAZ0-F"
      },
      "source": [
        "In view of discontinous nature of the funny-looking target wave function, the optimization result is satisfying!"
      ]
    },
    {
      "cell_type": "markdown",
      "metadata": {
        "id": "KpShok8uanJ9"
      },
      "source": [
        "To dive deeper into the AD of eigen-decomposition, note the differention of the eigenvalue equation $A v_i = \\lambda_i v_i$ results to the following relations:\n",
        "$$\n",
        "\\begin{eqnarray}\n",
        "d \\lambda_0 =& v_0^T dA v_0, \\\\\n",
        "d v_0 =& \\sum_{i \\neq 0} \\frac{1}{\\lambda_0 - \\lambda_i} v_i v_i^T dA v_0.\n",
        "\\end{eqnarray}\n",
        "$$\n",
        "These are nothing but the standard formulas of perturbation theory. We thus can manually implement the jvp rule of eigen-decomposition as follows: (See the jax documentation about the [basics](https://jax.readthedocs.io/en/latest/notebooks/autodiff_cookbook.html) and [customization](https://jax.readthedocs.io/en/latest/notebooks/Custom_derivative_rules_for_Python_code.html) of jvp and vjp mechanisms.)"
      ]
    },
    {
      "cell_type": "code",
      "metadata": {
        "id": "dtwWW97PXM05"
      },
      "source": [
        "@jax.custom_jvp\n",
        "def symeig(A):\n",
        "    eigvals, eigvectors = jax.scipy.linalg.eigh(A)\n",
        "    eigval, eigvector = eigvals[0], eigvectors[:, 0]\n",
        "    return eigval, eigvector\n",
        "\n",
        "@symeig.defjvp\n",
        "def symeig_jvp(primals, tangents):\n",
        "    A, = primals\n",
        "    dA, = tangents\n",
        "    eigvals, eigvectors = jax.scipy.linalg.eigh(A)\n",
        "    eigval, eigvector = primal_out = eigvals[0], eigvectors[:, 0]\n",
        "\n",
        "    deigval = eigvector.dot(dA).dot(eigvector)\n",
        "    F = eigvals - eigvals[:, None] + jnp.eye(A.shape[0])\n",
        "    F = 1. / F - jnp.eye(A.shape[0])\n",
        "    deigvector = eigvectors.dot( (F * eigvectors.T.dot(dA).dot(eigvectors))[:, 0] )\n",
        "    tangent_out = deigval, deigvector\n",
        "\n",
        "    return primal_out, tangent_out"
      ],
      "execution_count": null,
      "outputs": []
    },
    {
      "cell_type": "markdown",
      "metadata": {
        "id": "YIIwTD_whYGZ"
      },
      "source": [
        "One can convince the correctness of this manual implementation by checking the gradients:"
      ]
    },
    {
      "cell_type": "code",
      "metadata": {
        "colab": {
          "base_uri": "https://localhost:8080/"
        },
        "id": "ZqCBnLf4gaSb",
        "outputId": "c8c50a6d-f519-4e12-c28a-6ccec406ad9c"
      },
      "source": [
        "def make_loss2(K, target):\n",
        "    def loss_fn(potential): \n",
        "        H = K + jnp.diag(potential)\n",
        "        _, psi0 = symeig(H)\n",
        "        loss = jnp.abs(psi0**2 - target**2).sum()\n",
        "        return loss\n",
        "    return loss_fn\n",
        "loss_fn2 = make_loss2(K, target)\n",
        "\n",
        "grad1 = grad(loss_fn)(init_potential)\n",
        "grad2 = grad(loss_fn2)(init_potential)\n",
        "jnp.allclose(grad1, grad2)"
      ],
      "execution_count": null,
      "outputs": [
        {
          "output_type": "execute_result",
          "data": {
            "text/plain": [
              "DeviceArray(True, dtype=bool)"
            ]
          },
          "metadata": {
            "tags": []
          },
          "execution_count": 33
        }
      ]
    },
    {
      "cell_type": "markdown",
      "metadata": {
        "id": "3gaKV1ZPf_sB"
      },
      "source": [
        "**Explore more**: Note that we only need the ground state of a sparse Hamiltonian, one can instead resort to sparse eigensolvers such as [Lanczos algorithm](https://en.wikipedia.org/wiki/Lanczos_algorithm). It turns out one can also devise the `jvp` and `vjp` rule for this calculation.\n",
        "\n",
        "See, e.g., Steven G. Johnson's [lecture note](https://math.mit.edu/~stevenj/18.336/adjoint.pdf) and [https://journals.aps.org/prb/abstract/10.1103/PhysRevB.101.245139](https://journals.aps.org/prb/abstract/10.1103/PhysRevB.101.245139). You can keep track of related features in this JAX issue https://github.com/google/jax/issues/1531. \n",
        "\n",
        "\n"
      ]
    },
    {
      "cell_type": "code",
      "metadata": {
        "id": "mAIKTMZ6SCiK"
      },
      "source": [
        ""
      ],
      "execution_count": null,
      "outputs": []
    }
  ]
}