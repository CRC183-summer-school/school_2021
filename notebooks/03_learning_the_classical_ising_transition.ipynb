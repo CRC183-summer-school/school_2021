{
 "cells": [
  {
   "cell_type": "markdown",
   "id": "33e7b694",
   "metadata": {},
   "source": [
    "Run this cell, if you are running the notebook on Google Colab:"
   ]
  },
  {
   "cell_type": "code",
   "execution_count": null,
   "id": "f116e345",
   "metadata": {},
   "outputs": [],
   "source": [
    "!git clone https://github.com/CRC183-summer-school/school_2021.git"
   ]
  },
  {
   "cell_type": "code",
   "execution_count": 1,
   "id": "1cb95c42",
   "metadata": {},
   "outputs": [
    {
     "name": "stderr",
     "output_type": "stream",
     "text": [
      "WARNING:absl:No GPU/TPU found, falling back to CPU. (Set TF_CPP_MIN_LOG_LEVEL=0 and rerun for more info.)\n"
     ]
    }
   ],
   "source": [
    "import numpy as np\n",
    "import matplotlib.pyplot as plt\n",
    "%matplotlib inline\n",
    "\n",
    "# To measure the time it takes to train a network\n",
    "import time\n",
    "\n",
    "# Everything we need from JAX\n",
    "import jax\n",
    "import jax.numpy as jnp\n",
    "from jax import grad, jit, vmap, value_and_grad\n",
    "from jax import random\n",
    "from jax.scipy.special import logsumexp # Computes the log of the sum of exponentials of input elements.\n",
    "from jax.experimental import optimizers\n",
    "\n",
    "import sys\n",
    "sys.path.append(sys.path[0] + \"./school_2021/notebooks/\")\n",
    "\n",
    "from IsingData import generate_Ising_configurations\n",
    "\n",
    "# The key for our random number generator, we need this because JAX will distribute the calculation\n",
    "key = random.PRNGKey(0)"
   ]
  },
  {
   "cell_type": "markdown",
   "id": "c1c5b564",
   "metadata": {},
   "source": [
    "# Generate training data"
   ]
  },
  {
   "cell_type": "code",
   "execution_count": 2,
   "id": "8306768e",
   "metadata": {
    "scrolled": true
   },
   "outputs": [
    {
     "name": "stdout",
     "output_type": "stream",
     "text": [
      "Generating samples for L = 10 at T = 4.426\n",
      "Generating samples for L = 10 at T = 4.199\n",
      "Generating samples for L = 10 at T = 3.972\n",
      "Generating samples for L = 10 at T = 3.745\n",
      "Generating samples for L = 10 at T = 3.518\n",
      "Generating samples for L = 10 at T = 3.291\n",
      "Generating samples for L = 10 at T = 3.064\n",
      "Generating samples for L = 10 at T = 2.837\n",
      "Generating samples for L = 10 at T = 2.610\n",
      "Generating samples for L = 10 at T = 2.383\n",
      "Generating samples for L = 10 at T = 2.156\n",
      "Generating samples for L = 10 at T = 1.929\n",
      "Generating samples for L = 10 at T = 1.702\n",
      "Generating samples for L = 10 at T = 1.475\n",
      "Generating samples for L = 10 at T = 1.248\n",
      "Generating samples for L = 10 at T = 1.021\n",
      "Generating samples for L = 10 at T = 0.794\n",
      "Generating samples for L = 10 at T = 0.567\n",
      "Generating samples for L = 10 at T = 0.340\n",
      "Generating samples for L = 10 at T = 0.113\n"
     ]
    }
   ],
   "source": [
    "# The temperatures that we are going to generate samples at\n",
    "Ts = np.arange(1.95, 0.04, -0.1) * 2.27\n",
    "\n",
    "# For a few different system sizes, store the data in a dictionary with L as key\n",
    "all_data = generate_Ising_configurations(10, 1000, Ts)"
   ]
  },
  {
   "cell_type": "markdown",
   "id": "48bae067-3b9e-4056-a799-42dfa27e163f",
   "metadata": {
    "tags": []
   },
   "source": [
    "## Split the training data"
   ]
  },
  {
   "cell_type": "code",
   "execution_count": 3,
   "id": "c9a177ab",
   "metadata": {},
   "outputs": [],
   "source": [
    "def get_training_data(all_data, Ts, Tc=2.7, train_fraction=0.8):\n",
    "    # Lists to store the raw data\n",
    "    raw_T = []\n",
    "    raw_x = []\n",
    "    raw_y = [] \n",
    "    \n",
    "    for T in Ts:      \n",
    "        raw_x.append(all_data['%.3f'%(T)])\n",
    "        n = len(all_data['%.3f'%(T)])\n",
    "        label = [1,0] if T < Tc else [0,1]\n",
    "        raw_y.append(np.array([label] * n))\n",
    "        raw_T.append(np.array([T]*n))\n",
    "        \n",
    "    raw_T = np.concatenate(raw_T)\n",
    "    raw_x = np.concatenate(raw_x, axis=0)\n",
    "    raw_y = np.concatenate(raw_y, axis=0)\n",
    "    \n",
    "    # Shuffle\n",
    "    indices = np.random.permutation(len(raw_x))\n",
    "    all_T = raw_T[indices]\n",
    "    all_x = raw_x[indices]\n",
    "    all_y = raw_y[indices]\n",
    "\n",
    "    # Split into train and test sets\n",
    "    train_split = int(train_fraction * len(all_x))\n",
    "    train_T = jnp.array(all_T[:train_split])\n",
    "    train_x = jnp.array(all_x[:train_split])\n",
    "    train_y = jnp.array(all_y[:train_split])\n",
    "    test_T = jnp.array(all_T[train_split:])\n",
    "    test_x = jnp.array(all_x[train_split:])\n",
    "    test_y = jnp.array(all_y[train_split:])\n",
    "    \n",
    "    return [raw_T, raw_x, raw_y], [train_T, train_x, train_y], [test_T, test_x, test_y]"
   ]
  },
  {
   "cell_type": "markdown",
   "id": "869f4408",
   "metadata": {},
   "source": [
    "### Visualize some data samples"
   ]
  },
  {
   "cell_type": "code",
   "execution_count": 4,
   "id": "3d5908f4",
   "metadata": {},
   "outputs": [
    {
     "data": {
      "image/png": "[encoded data removed]",
      "text/plain": [
       "<Figure size 1008x720 with 20 Axes>"
      ]
     },
     "metadata": {},
     "output_type": "display_data"
    }
   ],
   "source": [
    "[raw_T, raw_x, raw_y], [train_T, train_x, train_y], [test_T, test_x, test_y] = get_training_data(all_data,Ts)\n",
    "\n",
    "fig, ax = plt.subplots(4,5, figsize=(14,10))\n",
    "for i in range(4):\n",
    "    for j in range(5):\n",
    "        ax[i,j].matshow(np.reshape(raw_x[(4*i + j)*800], (10,10)), cmap='Greys')\n",
    "        ax[i,j].set_title(\"$T = %.3f$\"%raw_T[(4*i + j)*800])\n",
    "        ax[i,j].set_xticks([])\n",
    "        ax[i,j].set_yticks([])\n",
    "fig.tight_layout()"
   ]
  },
  {
   "cell_type": "markdown",
   "id": "c03f2699",
   "metadata": {},
   "source": [
    "## Make a Feedforward network"
   ]
  },
  {
   "cell_type": "code",
   "execution_count": 5,
   "id": "b6682892",
   "metadata": {},
   "outputs": [],
   "source": [
    "def random_dense_layer_params(num_output, num_input, key, scale=1e-2):\n",
    "    w_key, b_key = random.split(key)\n",
    "    return scale * random.normal(w_key, (num_input, num_output)), scale * random.normal(b_key, (num_input,))\n",
    "\n",
    "def initialize_network_params(layer_sizes, key, scale=1e-2):\n",
    "    keys = random.split(key, len(layer_sizes))\n",
    "    \n",
    "    parameters = []\n",
    "    for i in range(len(layer_sizes)-1):\n",
    "        parameters.append( random_dense_layer_params(layer_sizes[i], layer_sizes[i+1], keys[i], scale) )\n",
    "        \n",
    "    return parameters\n",
    "\n",
    "    # Alternatively, the above can be done in one line using\n",
    "    # return [random_layer_params(m, n, k) for m, n, k in zip(layer_sizes[:-1], layer_sizes[1:], keys)]"
   ]
  },
  {
   "cell_type": "markdown",
   "id": "7872cee8",
   "metadata": {},
   "source": [
    "### Define the forward prediction of our network"
   ]
  },
  {
   "cell_type": "code",
   "execution_count": 6,
   "id": "9b965a99",
   "metadata": {},
   "outputs": [],
   "source": [
    "def relu(x):\n",
    "    return jnp.maximum(0, x)\n",
    "\n",
    "# We can write this function for a single input x, and then later use 'vmap' to make a batch version of it\n",
    "def predict_single(params, x):\n",
    "    activations = x\n",
    "    # Feed through the network, layer by layer\n",
    "    for weights, biases in params[:-1]:\n",
    "        outputs = jnp.dot(weights, activations) + biases\n",
    "        activations = relu(outputs)\n",
    "\n",
    "    # For the final layer, we don't want the relu\n",
    "    final_weight, final_bias = params[-1]\n",
    "    logits = jnp.dot(final_weight, activations) + final_bias\n",
    "    \n",
    "    # We want a softmax output, which is exp(logits) / sum(exp(logits))\n",
    "    # and the log of that is log(exp(logits)) - log(sum(exp(logits))) = logits - logsumexp(logits)\n",
    "    return logits - logsumexp(logits)\n",
    "\n",
    "# Make a batched version of the `predict` function\n",
    "predict = vmap(predict_single, in_axes=(None, 0), out_axes=0)"
   ]
  },
  {
   "cell_type": "markdown",
   "id": "930028bb",
   "metadata": {},
   "source": [
    "## The loss function"
   ]
  },
  {
   "cell_type": "code",
   "execution_count": 7,
   "id": "928be7c2",
   "metadata": {},
   "outputs": [],
   "source": [
    "def loss(params, images, targets):\n",
    "    preds = predict(params, images)\n",
    "    return -jnp.mean(preds * targets)"
   ]
  },
  {
   "cell_type": "markdown",
   "id": "3cd33e6a",
   "metadata": {},
   "source": [
    "## The optimizer"
   ]
  },
  {
   "cell_type": "code",
   "execution_count": 8,
   "id": "cc7633aa",
   "metadata": {},
   "outputs": [],
   "source": [
    "# Defining an optimizer in Jax\n",
    "step_size = 1e-3\n",
    "opt_init, opt_update, get_params = optimizers.adam(step_size)\n",
    "\n",
    "@jit\n",
    "def update(params, x, y, opt_state):\n",
    "    \"\"\" Compute the gradient for a batch and update the parameters \"\"\"\n",
    "    value, grads = value_and_grad(loss)(params, x, y)\n",
    "    opt_state = opt_update(0, grads, opt_state)\n",
    "    return get_params(opt_state), opt_state, value"
   ]
  },
  {
   "cell_type": "markdown",
   "id": "226be263",
   "metadata": {},
   "source": [
    "## Training loop"
   ]
  },
  {
   "cell_type": "code",
   "execution_count": 9,
   "id": "8b4b3994",
   "metadata": {},
   "outputs": [],
   "source": [
    "def accuracy(params, images, targets):\n",
    "    target_class = jnp.argmax(targets, axis=1)\n",
    "    predicted_class = jnp.argmax(predict(params, images), axis=1)\n",
    "    return jnp.mean(predicted_class == target_class)\n",
    "\n",
    "def train(train_x, train_y, test_x, test_y, num_epochs, batch_size, opt_state):\n",
    "    \"\"\" Implements a learning loop over epochs. \"\"\"\n",
    "    # Initialize placeholder for loggin\n",
    "    log_acc_train, log_acc_test, train_loss = [], [], []\n",
    "\n",
    "    # Get the initial set of parameters\n",
    "    params = get_params(opt_state)\n",
    "\n",
    "    # Get initial accuracy after random init\n",
    "    train_acc = accuracy(params, train_x, train_y)\n",
    "    test_acc = accuracy(params, test_x, test_y)\n",
    "    log_acc_train.append(train_acc)\n",
    "    log_acc_test.append(test_acc)\n",
    "\n",
    "    # Divide into batches\n",
    "    num_batches = len(train_x) // batch_size\n",
    "\n",
    "    # Loop over the training epochs\n",
    "    for epoch in range(num_epochs):\n",
    "        start_time = time.time()\n",
    "        \n",
    "        # Shuffle data\n",
    "        indices = np.random.permutation(len(train_x))\n",
    "        batch_indices = jnp.split(indices[:num_batches*batch_size], batch_size)\n",
    "        \n",
    "        for b in range(len(batch_indices)):\n",
    "            x = train_x[batch_indices[b]]\n",
    "            y = train_y[batch_indices[b]]\n",
    "            \n",
    "            params, opt_state, loss = update(params, x, y, opt_state)\n",
    "            train_loss.append(loss)\n",
    "\n",
    "        epoch_time = time.time() - start_time\n",
    "        train_acc = accuracy(params, train_x, train_y)\n",
    "        test_acc = accuracy(params, test_x, test_y)\n",
    "        log_acc_train.append(train_acc)\n",
    "        log_acc_test.append(test_acc)\n",
    "        print(\"Epoch {} | Time: {:0.2f} | Train A: {:0.3f} | Test A: {:0.3f}\".format(epoch+1, epoch_time,\n",
    "                                                                    train_acc, test_acc))\n",
    "\n",
    "        \n",
    "    return train_loss, log_acc_train, log_acc_test, params"
   ]
  },
  {
   "cell_type": "markdown",
   "id": "13119c0f",
   "metadata": {},
   "source": [
    "# Blanking: train model in known limits, then use it to predict the rest"
   ]
  },
  {
   "cell_type": "code",
   "execution_count": 10,
   "id": "b87cf933",
   "metadata": {},
   "outputs": [],
   "source": [
    "# Pick only the Ts at the beginning and at the end, and construct a dataset\n",
    "train_Ts = list(Ts[:4]) + list(Ts[-4:])\n",
    "[raw_T, raw_x, raw_y], [train_T, train_x, train_y], [test_T, test_x, test_y] = get_training_data(all_data, train_Ts)\n",
    "\n",
    "# Initialize a new network (or rather its parameters)\n",
    "layer_sizes = [100, 64, 32, 2]\n",
    "params = initialize_network_params(layer_sizes, key)\n",
    "\n",
    "# Initialize the optimizer\n",
    "opt_state = opt_init(params)"
   ]
  },
  {
   "cell_type": "code",
   "execution_count": 11,
   "id": "6fd810aa",
   "metadata": {},
   "outputs": [
    {
     "name": "stdout",
     "output_type": "stream",
     "text": [
      "Epoch 1 | Time: 0.96 | Train A: 0.840 | Test A: 0.828\n",
      "Epoch 2 | Time: 0.08 | Train A: 0.989 | Test A: 0.985\n",
      "Epoch 3 | Time: 0.08 | Train A: 0.998 | Test A: 0.998\n",
      "Epoch 4 | Time: 0.08 | Train A: 0.999 | Test A: 0.999\n",
      "Epoch 5 | Time: 0.08 | Train A: 1.000 | Test A: 0.999\n",
      "Epoch 6 | Time: 0.08 | Train A: 1.000 | Test A: 1.000\n",
      "Epoch 7 | Time: 0.08 | Train A: 1.000 | Test A: 0.999\n",
      "Epoch 8 | Time: 0.07 | Train A: 1.000 | Test A: 1.000\n",
      "Epoch 9 | Time: 0.07 | Train A: 1.000 | Test A: 1.000\n",
      "Epoch 10 | Time: 0.08 | Train A: 1.000 | Test A: 0.999\n",
      "Epoch 11 | Time: 0.07 | Train A: 1.000 | Test A: 0.999\n",
      "Epoch 12 | Time: 0.08 | Train A: 1.000 | Test A: 1.000\n",
      "Epoch 13 | Time: 0.08 | Train A: 1.000 | Test A: 1.000\n",
      "Epoch 14 | Time: 0.08 | Train A: 1.000 | Test A: 1.000\n",
      "Epoch 15 | Time: 0.07 | Train A: 1.000 | Test A: 1.000\n",
      "Epoch 16 | Time: 0.07 | Train A: 1.000 | Test A: 1.000\n",
      "Epoch 17 | Time: 0.07 | Train A: 1.000 | Test A: 1.000\n",
      "Epoch 18 | Time: 0.08 | Train A: 1.000 | Test A: 1.000\n",
      "Epoch 19 | Time: 0.07 | Train A: 1.000 | Test A: 1.000\n",
      "Epoch 20 | Time: 0.07 | Train A: 1.000 | Test A: 1.000\n"
     ]
    },
    {
     "data": {
      "text/plain": [
       "Text(0, 0.5, 'Loss')"
      ]
     },
     "execution_count": 11,
     "metadata": {},
     "output_type": "execute_result"
    },
    {
     "data": {
      "image/png": "[encoded data removed]",
      "text/plain": [
       "<Figure size 1200x800 with 1 Axes>"
      ]
     },
     "metadata": {
      "needs_background": "light"
     },
     "output_type": "display_data"
    }
   ],
   "source": [
    "train_loss, train_log, test_log, params = train(train_x, train_y, test_x, test_y, 20, 32, opt_state)\n",
    "\n",
    "fig, ax = plt.subplots(dpi=200)\n",
    "ax.plot(train_loss)\n",
    "ax.set_xlabel(\"Batch\")\n",
    "ax.set_ylabel(\"Loss\")"
   ]
  },
  {
   "cell_type": "markdown",
   "id": "588c0daf",
   "metadata": {},
   "source": [
    "## Predict for all Ts"
   ]
  },
  {
   "cell_type": "code",
   "execution_count": 12,
   "id": "bafcbeb6",
   "metadata": {},
   "outputs": [],
   "source": [
    "# For every temperature, get the averaged prediction\n",
    "predictions = []\n",
    "for T in Ts:\n",
    "    x = all_data['%.3f'%T]#['x']\n",
    "    p = jnp.exp( predict(params, x) )  # Exponentiate it to go back to the [0,1] range for nicer plotting\n",
    "    p = jnp.mean( p, axis=0 )\n",
    "    predictions.append(p)"
   ]
  },
  {
   "cell_type": "code",
   "execution_count": 13,
   "id": "7ad2afae",
   "metadata": {},
   "outputs": [
    {
     "data": {
      "text/plain": [
       "Text(0, 0.5, 'Predictions')"
      ]
     },
     "execution_count": 13,
     "metadata": {},
     "output_type": "execute_result"
    },
    {
     "data": {
      "image/png": "[encoded data removed]",
      "text/plain": [
       "<Figure size 1200x800 with 1 Axes>"
      ]
     },
     "metadata": {
      "needs_background": "light"
     },
     "output_type": "display_data"
    }
   ],
   "source": [
    "fig, ax = plt.subplots(dpi=200)\n",
    "ax.plot( Ts, predictions )\n",
    "ax.set_xlabel(\"T\")\n",
    "ax.set_ylabel(\"Predictions\")"
   ]
  },
  {
   "cell_type": "markdown",
   "id": "d8ff40f8",
   "metadata": {},
   "source": [
    "# Challenge ideas:"
   ]
  },
  {
   "cell_type": "code",
   "execution_count": 18,
   "id": "24d4705a",
   "metadata": {},
   "outputs": [],
   "source": [
    "# Fit a sigmoid to the outputs to extract the crossing point (=Tc)\n",
    "# See how the crossing point depends on:\n",
    "    # The (width of the) regions in which you train\n",
    "    # The network architecture\n",
    "    # Size of the data (instead of 10x10 snapshots)\n",
    "    \n",
    "# Convert to use a Flax model"
   ]
  },
  {
   "cell_type": "code",
   "execution_count": null,
   "id": "9b1fd049",
   "metadata": {},
   "outputs": [],
   "source": []
  },
  {
   "cell_type": "code",
   "execution_count": null,
   "id": "81311271-7835-4d17-af71-b28c917e56a5",
   "metadata": {},
   "outputs": [],
   "source": []
  },
  {
   "cell_type": "markdown",
   "id": "c94cfb6d-56bb-428d-8780-4929c69ff617",
   "metadata": {},
   "source": [
    "# Learning by confusion"
   ]
  },
  {
   "cell_type": "code",
   "execution_count": 19,
   "id": "a4d29526-c773-4567-8ff6-5c94d6f1665d",
   "metadata": {},
   "outputs": [],
   "source": [
    "def train_with_guess(Ts, Tc_guess):\n",
    "    [raw_T, raw_x, raw_y], [train_T, train_x, train_y], [test_T, test_x, test_y] = get_training_data(all_data, Ts, Tc=Tc_guess, train_fraction=0.9)\n",
    "    \n",
    "    # Initialize a new network (or rather its parameters)\n",
    "    layer_sizes = [100, 32, 16, 2]\n",
    "    params = initialize_network_params(layer_sizes, key)\n",
    "\n",
    "    # Initialize the optimizer\n",
    "    opt_state = opt_init(params)\n",
    "    \n",
    "    train_loss, train_log, test_log, params = train(train_x, train_y, test_x, test_y, 30, 16, opt_state)#, verbose=False)\n",
    "    \n",
    "    return train_log"
   ]
  },
  {
   "cell_type": "code",
   "execution_count": 20,
   "id": "3e5a91ad-bdbd-469b-ba5a-edcf5cdaa445",
   "metadata": {
    "collapsed": true,
    "jupyter": {
     "outputs_hidden": true
    },
    "tags": []
   },
   "outputs": [
    {
     "name": "stdout",
     "output_type": "stream",
     "text": [
      "Training at guess 4.426\n",
      "Epoch 1 | Time: 0.84 | Train A: 0.950 | Test A: 0.949\n",
      "Epoch 2 | Time: 0.04 | Train A: 0.950 | Test A: 0.949\n",
      "Epoch 3 | Time: 0.04 | Train A: 0.950 | Test A: 0.949\n",
      "Epoch 4 | Time: 0.04 | Train A: 0.950 | Test A: 0.949\n",
      "Epoch 5 | Time: 0.04 | Train A: 0.950 | Test A: 0.949\n",
      "Epoch 6 | Time: 0.04 | Train A: 0.950 | Test A: 0.949\n",
      "Epoch 7 | Time: 0.04 | Train A: 0.950 | Test A: 0.949\n",
      "Epoch 8 | Time: 0.04 | Train A: 0.950 | Test A: 0.949\n",
      "Epoch 9 | Time: 0.04 | Train A: 0.950 | Test A: 0.949\n",
      "Epoch 10 | Time: 0.04 | Train A: 0.950 | Test A: 0.949\n",
      "Epoch 11 | Time: 0.04 | Train A: 0.950 | Test A: 0.949\n",
      "Epoch 12 | Time: 0.04 | Train A: 0.950 | Test A: 0.949\n",
      "Epoch 13 | Time: 0.04 | Train A: 0.950 | Test A: 0.949\n",
      "Epoch 14 | Time: 0.04 | Train A: 0.950 | Test A: 0.949\n",
      "Epoch 15 | Time: 0.04 | Train A: 0.950 | Test A: 0.949\n",
      "Epoch 16 | Time: 0.04 | Train A: 0.950 | Test A: 0.949\n",
      "Epoch 17 | Time: 0.04 | Train A: 0.950 | Test A: 0.949\n",
      "Epoch 18 | Time: 0.04 | Train A: 0.950 | Test A: 0.949\n",
      "Epoch 19 | Time: 0.04 | Train A: 0.950 | Test A: 0.949\n",
      "Epoch 20 | Time: 0.04 | Train A: 0.950 | Test A: 0.949\n",
      "Epoch 21 | Time: 0.05 | Train A: 0.950 | Test A: 0.949\n",
      "Epoch 22 | Time: 0.04 | Train A: 0.950 | Test A: 0.949\n",
      "Epoch 23 | Time: 0.04 | Train A: 0.950 | Test A: 0.949\n",
      "Epoch 24 | Time: 0.04 | Train A: 0.950 | Test A: 0.949\n",
      "Epoch 25 | Time: 0.04 | Train A: 0.950 | Test A: 0.949\n",
      "Epoch 26 | Time: 0.04 | Train A: 0.950 | Test A: 0.949\n",
      "Epoch 27 | Time: 0.04 | Train A: 0.950 | Test A: 0.949\n",
      "Epoch 28 | Time: 0.04 | Train A: 0.950 | Test A: 0.949\n",
      "Epoch 29 | Time: 0.04 | Train A: 0.950 | Test A: 0.949\n",
      "Epoch 30 | Time: 0.04 | Train A: 0.950 | Test A: 0.949\n",
      "\t Final accuracy: 0.950\n",
      "Training at guess 3.947\n",
      "Epoch 1 | Time: 0.05 | Train A: 0.851 | Test A: 0.843\n",
      "Epoch 2 | Time: 0.05 | Train A: 0.851 | Test A: 0.843\n",
      "Epoch 3 | Time: 0.05 | Train A: 0.851 | Test A: 0.843\n",
      "Epoch 4 | Time: 0.04 | Train A: 0.851 | Test A: 0.843\n",
      "Epoch 5 | Time: 0.04 | Train A: 0.851 | Test A: 0.843\n",
      "Epoch 6 | Time: 0.04 | Train A: 0.851 | Test A: 0.843\n",
      "Epoch 7 | Time: 0.04 | Train A: 0.851 | Test A: 0.843\n",
      "Epoch 8 | Time: 0.04 | Train A: 0.851 | Test A: 0.843\n",
      "Epoch 9 | Time: 0.04 | Train A: 0.851 | Test A: 0.843\n",
      "Epoch 10 | Time: 0.04 | Train A: 0.851 | Test A: 0.843\n",
      "Epoch 11 | Time: 0.04 | Train A: 0.851 | Test A: 0.843\n",
      "Epoch 12 | Time: 0.04 | Train A: 0.851 | Test A: 0.843\n",
      "Epoch 13 | Time: 0.04 | Train A: 0.851 | Test A: 0.843\n",
      "Epoch 14 | Time: 0.04 | Train A: 0.851 | Test A: 0.843\n",
      "Epoch 15 | Time: 0.04 | Train A: 0.851 | Test A: 0.843\n",
      "Epoch 16 | Time: 0.04 | Train A: 0.851 | Test A: 0.843\n",
      "Epoch 17 | Time: 0.04 | Train A: 0.851 | Test A: 0.843\n",
      "Epoch 18 | Time: 0.04 | Train A: 0.851 | Test A: 0.843\n",
      "Epoch 19 | Time: 0.04 | Train A: 0.851 | Test A: 0.843\n",
      "Epoch 20 | Time: 0.04 | Train A: 0.857 | Test A: 0.836\n",
      "Epoch 21 | Time: 0.04 | Train A: 0.859 | Test A: 0.835\n",
      "Epoch 22 | Time: 0.04 | Train A: 0.859 | Test A: 0.836\n",
      "Epoch 23 | Time: 0.04 | Train A: 0.860 | Test A: 0.837\n",
      "Epoch 24 | Time: 0.04 | Train A: 0.861 | Test A: 0.837\n",
      "Epoch 25 | Time: 0.04 | Train A: 0.862 | Test A: 0.837\n",
      "Epoch 26 | Time: 0.04 | Train A: 0.863 | Test A: 0.840\n",
      "Epoch 27 | Time: 0.04 | Train A: 0.863 | Test A: 0.839\n",
      "Epoch 28 | Time: 0.04 | Train A: 0.864 | Test A: 0.840\n",
      "Epoch 29 | Time: 0.04 | Train A: 0.864 | Test A: 0.840\n",
      "Epoch 30 | Time: 0.04 | Train A: 0.864 | Test A: 0.839\n",
      "\t Final accuracy: 0.864\n",
      "Training at guess 3.468\n",
      "Epoch 1 | Time: 0.05 | Train A: 0.750 | Test A: 0.750\n",
      "Epoch 2 | Time: 0.04 | Train A: 0.750 | Test A: 0.750\n",
      "Epoch 3 | Time: 0.04 | Train A: 0.750 | Test A: 0.750\n",
      "Epoch 4 | Time: 0.04 | Train A: 0.750 | Test A: 0.750\n",
      "Epoch 5 | Time: 0.04 | Train A: 0.757 | Test A: 0.752\n",
      "Epoch 6 | Time: 0.04 | Train A: 0.770 | Test A: 0.762\n",
      "Epoch 7 | Time: 0.04 | Train A: 0.779 | Test A: 0.771\n",
      "Epoch 8 | Time: 0.04 | Train A: 0.787 | Test A: 0.783\n",
      "Epoch 9 | Time: 0.04 | Train A: 0.795 | Test A: 0.793\n",
      "Epoch 10 | Time: 0.04 | Train A: 0.802 | Test A: 0.798\n",
      "Epoch 11 | Time: 0.04 | Train A: 0.809 | Test A: 0.804\n",
      "Epoch 12 | Time: 0.04 | Train A: 0.816 | Test A: 0.808\n",
      "Epoch 13 | Time: 0.04 | Train A: 0.823 | Test A: 0.817\n",
      "Epoch 14 | Time: 0.04 | Train A: 0.828 | Test A: 0.826\n",
      "Epoch 15 | Time: 0.04 | Train A: 0.833 | Test A: 0.832\n",
      "Epoch 16 | Time: 0.04 | Train A: 0.836 | Test A: 0.835\n",
      "Epoch 17 | Time: 0.04 | Train A: 0.839 | Test A: 0.840\n",
      "Epoch 18 | Time: 0.04 | Train A: 0.842 | Test A: 0.844\n",
      "Epoch 19 | Time: 0.04 | Train A: 0.845 | Test A: 0.848\n",
      "Epoch 20 | Time: 0.04 | Train A: 0.848 | Test A: 0.850\n",
      "Epoch 21 | Time: 0.04 | Train A: 0.851 | Test A: 0.853\n",
      "Epoch 22 | Time: 0.04 | Train A: 0.854 | Test A: 0.857\n",
      "Epoch 23 | Time: 0.04 | Train A: 0.855 | Test A: 0.859\n",
      "Epoch 24 | Time: 0.04 | Train A: 0.858 | Test A: 0.855\n",
      "Epoch 25 | Time: 0.04 | Train A: 0.859 | Test A: 0.854\n",
      "Epoch 26 | Time: 0.04 | Train A: 0.860 | Test A: 0.857\n",
      "Epoch 27 | Time: 0.04 | Train A: 0.861 | Test A: 0.857\n",
      "Epoch 28 | Time: 0.04 | Train A: 0.862 | Test A: 0.855\n",
      "Epoch 29 | Time: 0.04 | Train A: 0.862 | Test A: 0.856\n",
      "Epoch 30 | Time: 0.04 | Train A: 0.863 | Test A: 0.859\n",
      "\t Final accuracy: 0.863\n",
      "Training at guess 2.989\n",
      "Epoch 1 | Time: 0.04 | Train A: 0.650 | Test A: 0.647\n",
      "Epoch 2 | Time: 0.04 | Train A: 0.650 | Test A: 0.647\n",
      "Epoch 3 | Time: 0.04 | Train A: 0.675 | Test A: 0.676\n",
      "Epoch 4 | Time: 0.04 | Train A: 0.731 | Test A: 0.728\n",
      "Epoch 5 | Time: 0.04 | Train A: 0.784 | Test A: 0.786\n",
      "Epoch 6 | Time: 0.04 | Train A: 0.824 | Test A: 0.827\n",
      "Epoch 7 | Time: 0.04 | Train A: 0.853 | Test A: 0.853\n",
      "Epoch 8 | Time: 0.04 | Train A: 0.873 | Test A: 0.869\n",
      "Epoch 9 | Time: 0.04 | Train A: 0.883 | Test A: 0.881\n",
      "Epoch 10 | Time: 0.04 | Train A: 0.887 | Test A: 0.884\n",
      "Epoch 11 | Time: 0.04 | Train A: 0.891 | Test A: 0.890\n",
      "Epoch 12 | Time: 0.04 | Train A: 0.894 | Test A: 0.891\n",
      "Epoch 13 | Time: 0.04 | Train A: 0.895 | Test A: 0.890\n",
      "Epoch 14 | Time: 0.04 | Train A: 0.896 | Test A: 0.891\n",
      "Epoch 15 | Time: 0.04 | Train A: 0.897 | Test A: 0.893\n",
      "Epoch 16 | Time: 0.04 | Train A: 0.900 | Test A: 0.895\n",
      "Epoch 17 | Time: 0.04 | Train A: 0.898 | Test A: 0.892\n",
      "Epoch 18 | Time: 0.04 | Train A: 0.900 | Test A: 0.896\n",
      "Epoch 19 | Time: 0.04 | Train A: 0.901 | Test A: 0.895\n",
      "Epoch 20 | Time: 0.04 | Train A: 0.901 | Test A: 0.896\n",
      "Epoch 21 | Time: 0.04 | Train A: 0.904 | Test A: 0.897\n",
      "Epoch 22 | Time: 0.04 | Train A: 0.903 | Test A: 0.899\n",
      "Epoch 23 | Time: 0.04 | Train A: 0.904 | Test A: 0.899\n",
      "Epoch 24 | Time: 0.05 | Train A: 0.904 | Test A: 0.900\n",
      "Epoch 25 | Time: 0.06 | Train A: 0.904 | Test A: 0.897\n",
      "Epoch 26 | Time: 0.04 | Train A: 0.906 | Test A: 0.902\n",
      "Epoch 27 | Time: 0.04 | Train A: 0.905 | Test A: 0.899\n",
      "Epoch 28 | Time: 0.04 | Train A: 0.906 | Test A: 0.900\n",
      "Epoch 29 | Time: 0.04 | Train A: 0.908 | Test A: 0.901\n",
      "Epoch 30 | Time: 0.04 | Train A: 0.907 | Test A: 0.900\n",
      "\t Final accuracy: 0.907\n",
      "Training at guess 2.510\n",
      "Epoch 1 | Time: 0.04 | Train A: 0.550 | Test A: 0.547\n",
      "Epoch 2 | Time: 0.04 | Train A: 0.593 | Test A: 0.589\n",
      "Epoch 3 | Time: 0.04 | Train A: 0.789 | Test A: 0.794\n",
      "Epoch 4 | Time: 0.04 | Train A: 0.892 | Test A: 0.889\n",
      "Epoch 5 | Time: 0.04 | Train A: 0.927 | Test A: 0.923\n",
      "Epoch 6 | Time: 0.04 | Train A: 0.940 | Test A: 0.936\n",
      "Epoch 7 | Time: 0.04 | Train A: 0.943 | Test A: 0.935\n",
      "Epoch 8 | Time: 0.04 | Train A: 0.946 | Test A: 0.933\n",
      "Epoch 9 | Time: 0.05 | Train A: 0.947 | Test A: 0.935\n",
      "Epoch 10 | Time: 0.04 | Train A: 0.946 | Test A: 0.936\n",
      "Epoch 11 | Time: 0.04 | Train A: 0.947 | Test A: 0.937\n",
      "Epoch 12 | Time: 0.04 | Train A: 0.948 | Test A: 0.937\n",
      "Epoch 13 | Time: 0.04 | Train A: 0.948 | Test A: 0.936\n",
      "Epoch 14 | Time: 0.04 | Train A: 0.948 | Test A: 0.937\n",
      "Epoch 15 | Time: 0.04 | Train A: 0.948 | Test A: 0.937\n",
      "Epoch 16 | Time: 0.04 | Train A: 0.949 | Test A: 0.937\n",
      "Epoch 17 | Time: 0.04 | Train A: 0.949 | Test A: 0.937\n",
      "Epoch 18 | Time: 0.04 | Train A: 0.950 | Test A: 0.938\n",
      "Epoch 19 | Time: 0.06 | Train A: 0.950 | Test A: 0.938\n",
      "Epoch 20 | Time: 0.04 | Train A: 0.950 | Test A: 0.938\n",
      "Epoch 21 | Time: 0.04 | Train A: 0.950 | Test A: 0.938\n",
      "Epoch 22 | Time: 0.05 | Train A: 0.951 | Test A: 0.939\n",
      "Epoch 23 | Time: 0.04 | Train A: 0.951 | Test A: 0.939\n",
      "Epoch 24 | Time: 0.04 | Train A: 0.951 | Test A: 0.939\n",
      "Epoch 25 | Time: 0.04 | Train A: 0.951 | Test A: 0.940\n",
      "Epoch 26 | Time: 0.04 | Train A: 0.951 | Test A: 0.941\n",
      "Epoch 27 | Time: 0.04 | Train A: 0.951 | Test A: 0.940\n",
      "Epoch 28 | Time: 0.04 | Train A: 0.952 | Test A: 0.940\n",
      "Epoch 29 | Time: 0.05 | Train A: 0.952 | Test A: 0.939\n",
      "Epoch 30 | Time: 0.04 | Train A: 0.952 | Test A: 0.940\n",
      "\t Final accuracy: 0.952\n",
      "Training at guess 2.030\n",
      "Epoch 1 | Time: 0.04 | Train A: 0.809 | Test A: 0.808\n",
      "Epoch 2 | Time: 0.04 | Train A: 0.741 | Test A: 0.744\n",
      "Epoch 3 | Time: 0.04 | Train A: 0.865 | Test A: 0.858\n",
      "Epoch 4 | Time: 0.04 | Train A: 0.902 | Test A: 0.892\n",
      "Epoch 5 | Time: 0.05 | Train A: 0.923 | Test A: 0.914\n",
      "Epoch 6 | Time: 0.04 | Train A: 0.931 | Test A: 0.922\n",
      "Epoch 7 | Time: 0.04 | Train A: 0.934 | Test A: 0.925\n",
      "Epoch 8 | Time: 0.04 | Train A: 0.940 | Test A: 0.930\n",
      "Epoch 9 | Time: 0.04 | Train A: 0.939 | Test A: 0.929\n",
      "Epoch 10 | Time: 0.04 | Train A: 0.940 | Test A: 0.930\n",
      "Epoch 11 | Time: 0.05 | Train A: 0.943 | Test A: 0.935\n",
      "Epoch 12 | Time: 0.04 | Train A: 0.945 | Test A: 0.936\n",
      "Epoch 13 | Time: 0.04 | Train A: 0.943 | Test A: 0.933\n",
      "Epoch 14 | Time: 0.05 | Train A: 0.944 | Test A: 0.936\n",
      "Epoch 15 | Time: 0.04 | Train A: 0.950 | Test A: 0.939\n",
      "Epoch 16 | Time: 0.04 | Train A: 0.949 | Test A: 0.937\n",
      "Epoch 17 | Time: 0.05 | Train A: 0.949 | Test A: 0.938\n",
      "Epoch 18 | Time: 0.05 | Train A: 0.950 | Test A: 0.938\n",
      "Epoch 19 | Time: 0.05 | Train A: 0.950 | Test A: 0.938\n",
      "Epoch 20 | Time: 0.05 | Train A: 0.952 | Test A: 0.940\n",
      "Epoch 21 | Time: 0.04 | Train A: 0.952 | Test A: 0.938\n",
      "Epoch 22 | Time: 0.04 | Train A: 0.951 | Test A: 0.938\n",
      "Epoch 23 | Time: 0.04 | Train A: 0.952 | Test A: 0.940\n",
      "Epoch 24 | Time: 0.04 | Train A: 0.952 | Test A: 0.939\n",
      "Epoch 25 | Time: 0.04 | Train A: 0.952 | Test A: 0.938\n",
      "Epoch 26 | Time: 0.05 | Train A: 0.953 | Test A: 0.939\n",
      "Epoch 27 | Time: 0.04 | Train A: 0.953 | Test A: 0.938\n",
      "Epoch 28 | Time: 0.04 | Train A: 0.951 | Test A: 0.939\n",
      "Epoch 29 | Time: 0.05 | Train A: 0.954 | Test A: 0.939\n",
      "Epoch 30 | Time: 0.04 | Train A: 0.954 | Test A: 0.938\n",
      "\t Final accuracy: 0.954\n",
      "Training at guess 1.551\n",
      "Epoch 1 | Time: 0.04 | Train A: 0.650 | Test A: 0.649\n",
      "Epoch 2 | Time: 0.04 | Train A: 0.827 | Test A: 0.818\n",
      "Epoch 3 | Time: 0.04 | Train A: 0.859 | Test A: 0.845\n",
      "Epoch 4 | Time: 0.04 | Train A: 0.865 | Test A: 0.850\n",
      "Epoch 5 | Time: 0.04 | Train A: 0.883 | Test A: 0.868\n",
      "Epoch 6 | Time: 0.04 | Train A: 0.900 | Test A: 0.892\n",
      "Epoch 7 | Time: 0.04 | Train A: 0.899 | Test A: 0.893\n",
      "Epoch 8 | Time: 0.04 | Train A: 0.909 | Test A: 0.905\n",
      "Epoch 9 | Time: 0.04 | Train A: 0.908 | Test A: 0.906\n",
      "Epoch 10 | Time: 0.04 | Train A: 0.917 | Test A: 0.913\n",
      "Epoch 11 | Time: 0.04 | Train A: 0.917 | Test A: 0.914\n",
      "Epoch 12 | Time: 0.04 | Train A: 0.922 | Test A: 0.921\n",
      "Epoch 13 | Time: 0.04 | Train A: 0.929 | Test A: 0.928\n",
      "Epoch 14 | Time: 0.04 | Train A: 0.929 | Test A: 0.929\n",
      "Epoch 15 | Time: 0.04 | Train A: 0.929 | Test A: 0.928\n",
      "Epoch 16 | Time: 0.04 | Train A: 0.932 | Test A: 0.932\n",
      "Epoch 17 | Time: 0.04 | Train A: 0.934 | Test A: 0.934\n",
      "Epoch 18 | Time: 0.04 | Train A: 0.937 | Test A: 0.934\n",
      "Epoch 19 | Time: 0.04 | Train A: 0.939 | Test A: 0.936\n",
      "Epoch 20 | Time: 0.04 | Train A: 0.941 | Test A: 0.938\n",
      "Epoch 21 | Time: 0.04 | Train A: 0.944 | Test A: 0.941\n",
      "Epoch 22 | Time: 0.04 | Train A: 0.944 | Test A: 0.939\n",
      "Epoch 23 | Time: 0.04 | Train A: 0.949 | Test A: 0.943\n",
      "Epoch 24 | Time: 0.04 | Train A: 0.945 | Test A: 0.942\n",
      "Epoch 25 | Time: 0.04 | Train A: 0.949 | Test A: 0.947\n",
      "Epoch 26 | Time: 0.04 | Train A: 0.951 | Test A: 0.947\n",
      "Epoch 27 | Time: 0.04 | Train A: 0.951 | Test A: 0.947\n",
      "Epoch 28 | Time: 0.04 | Train A: 0.952 | Test A: 0.949\n",
      "Epoch 29 | Time: 0.05 | Train A: 0.950 | Test A: 0.947\n",
      "Epoch 30 | Time: 0.04 | Train A: 0.954 | Test A: 0.949\n",
      "\t Final accuracy: 0.954\n",
      "Training at guess 1.072\n",
      "Epoch 1 | Time: 0.04 | Train A: 0.749 | Test A: 0.756\n",
      "Epoch 2 | Time: 0.04 | Train A: 0.749 | Test A: 0.756\n",
      "Epoch 3 | Time: 0.04 | Train A: 0.749 | Test A: 0.756\n",
      "Epoch 4 | Time: 0.04 | Train A: 0.749 | Test A: 0.756\n",
      "Epoch 5 | Time: 0.04 | Train A: 0.749 | Test A: 0.756\n",
      "Epoch 6 | Time: 0.05 | Train A: 0.749 | Test A: 0.756\n",
      "Epoch 7 | Time: 0.04 | Train A: 0.749 | Test A: 0.756\n",
      "Epoch 8 | Time: 0.05 | Train A: 0.749 | Test A: 0.756\n",
      "Epoch 9 | Time: 0.04 | Train A: 0.749 | Test A: 0.756\n",
      "Epoch 10 | Time: 0.04 | Train A: 0.749 | Test A: 0.756\n",
      "Epoch 11 | Time: 0.04 | Train A: 0.749 | Test A: 0.756\n",
      "Epoch 12 | Time: 0.04 | Train A: 0.749 | Test A: 0.756\n",
      "Epoch 13 | Time: 0.04 | Train A: 0.749 | Test A: 0.756\n",
      "Epoch 14 | Time: 0.04 | Train A: 0.749 | Test A: 0.756\n",
      "Epoch 15 | Time: 0.04 | Train A: 0.749 | Test A: 0.756\n",
      "Epoch 16 | Time: 0.04 | Train A: 0.749 | Test A: 0.756\n",
      "Epoch 17 | Time: 0.04 | Train A: 0.749 | Test A: 0.756\n",
      "Epoch 18 | Time: 0.04 | Train A: 0.749 | Test A: 0.756\n",
      "Epoch 19 | Time: 0.04 | Train A: 0.749 | Test A: 0.756\n",
      "Epoch 20 | Time: 0.04 | Train A: 0.820 | Test A: 0.807\n",
      "Epoch 21 | Time: 0.04 | Train A: 0.883 | Test A: 0.868\n",
      "Epoch 22 | Time: 0.04 | Train A: 0.749 | Test A: 0.756\n",
      "Epoch 23 | Time: 0.04 | Train A: 0.883 | Test A: 0.868\n",
      "Epoch 24 | Time: 0.04 | Train A: 0.883 | Test A: 0.868\n",
      "Epoch 25 | Time: 0.04 | Train A: 0.883 | Test A: 0.868\n",
      "Epoch 26 | Time: 0.04 | Train A: 0.883 | Test A: 0.868\n",
      "Epoch 27 | Time: 0.04 | Train A: 0.883 | Test A: 0.868\n",
      "Epoch 28 | Time: 0.04 | Train A: 0.883 | Test A: 0.868\n",
      "Epoch 29 | Time: 0.04 | Train A: 0.883 | Test A: 0.868\n",
      "Epoch 30 | Time: 0.04 | Train A: 0.883 | Test A: 0.868\n",
      "\t Final accuracy: 0.883\n",
      "Training at guess 0.593\n",
      "Epoch 1 | Time: 0.04 | Train A: 0.851 | Test A: 0.842\n",
      "Epoch 2 | Time: 0.04 | Train A: 0.851 | Test A: 0.842\n",
      "Epoch 3 | Time: 0.04 | Train A: 0.851 | Test A: 0.842\n",
      "Epoch 4 | Time: 0.04 | Train A: 0.851 | Test A: 0.842\n",
      "Epoch 5 | Time: 0.04 | Train A: 0.851 | Test A: 0.842\n",
      "Epoch 6 | Time: 0.04 | Train A: 0.851 | Test A: 0.842\n",
      "Epoch 7 | Time: 0.04 | Train A: 0.851 | Test A: 0.842\n",
      "Epoch 8 | Time: 0.04 | Train A: 0.851 | Test A: 0.842\n",
      "Epoch 9 | Time: 0.04 | Train A: 0.851 | Test A: 0.842\n",
      "Epoch 10 | Time: 0.04 | Train A: 0.851 | Test A: 0.842\n",
      "Epoch 11 | Time: 0.04 | Train A: 0.851 | Test A: 0.842\n",
      "Epoch 12 | Time: 0.04 | Train A: 0.851 | Test A: 0.842\n",
      "Epoch 13 | Time: 0.04 | Train A: 0.851 | Test A: 0.842\n",
      "Epoch 14 | Time: 0.04 | Train A: 0.851 | Test A: 0.842\n",
      "Epoch 15 | Time: 0.04 | Train A: 0.851 | Test A: 0.842\n",
      "Epoch 16 | Time: 0.04 | Train A: 0.851 | Test A: 0.842\n",
      "Epoch 17 | Time: 0.04 | Train A: 0.851 | Test A: 0.842\n",
      "Epoch 18 | Time: 0.04 | Train A: 0.851 | Test A: 0.842\n",
      "Epoch 19 | Time: 0.04 | Train A: 0.851 | Test A: 0.842\n",
      "Epoch 20 | Time: 0.04 | Train A: 0.851 | Test A: 0.842\n",
      "Epoch 21 | Time: 0.04 | Train A: 0.851 | Test A: 0.842\n",
      "Epoch 22 | Time: 0.04 | Train A: 0.851 | Test A: 0.842\n",
      "Epoch 23 | Time: 0.04 | Train A: 0.851 | Test A: 0.842\n",
      "Epoch 24 | Time: 0.05 | Train A: 0.851 | Test A: 0.842\n",
      "Epoch 25 | Time: 0.04 | Train A: 0.851 | Test A: 0.842\n",
      "Epoch 26 | Time: 0.04 | Train A: 0.851 | Test A: 0.842\n",
      "Epoch 27 | Time: 0.04 | Train A: 0.851 | Test A: 0.842\n",
      "Epoch 28 | Time: 0.04 | Train A: 0.851 | Test A: 0.842\n",
      "Epoch 29 | Time: 0.04 | Train A: 0.851 | Test A: 0.842\n",
      "Epoch 30 | Time: 0.04 | Train A: 0.851 | Test A: 0.842\n",
      "\t Final accuracy: 0.851\n",
      "Training at guess 0.113\n",
      "Epoch 1 | Time: 0.04 | Train A: 1.000 | Test A: 1.000\n",
      "Epoch 2 | Time: 0.04 | Train A: 1.000 | Test A: 1.000\n",
      "Epoch 3 | Time: 0.05 | Train A: 1.000 | Test A: 1.000\n",
      "Epoch 4 | Time: 0.05 | Train A: 1.000 | Test A: 1.000\n",
      "Epoch 5 | Time: 0.05 | Train A: 1.000 | Test A: 1.000\n",
      "Epoch 6 | Time: 0.04 | Train A: 1.000 | Test A: 1.000\n",
      "Epoch 7 | Time: 0.04 | Train A: 1.000 | Test A: 1.000\n",
      "Epoch 8 | Time: 0.04 | Train A: 1.000 | Test A: 1.000\n",
      "Epoch 9 | Time: 0.04 | Train A: 1.000 | Test A: 1.000\n",
      "Epoch 10 | Time: 0.04 | Train A: 1.000 | Test A: 1.000\n",
      "Epoch 11 | Time: 0.04 | Train A: 1.000 | Test A: 1.000\n",
      "Epoch 12 | Time: 0.04 | Train A: 1.000 | Test A: 1.000\n",
      "Epoch 13 | Time: 0.04 | Train A: 1.000 | Test A: 1.000\n",
      "Epoch 14 | Time: 0.04 | Train A: 1.000 | Test A: 1.000\n",
      "Epoch 15 | Time: 0.04 | Train A: 1.000 | Test A: 1.000\n",
      "Epoch 16 | Time: 0.04 | Train A: 1.000 | Test A: 1.000\n",
      "Epoch 17 | Time: 0.04 | Train A: 1.000 | Test A: 1.000\n",
      "Epoch 18 | Time: 0.04 | Train A: 1.000 | Test A: 1.000\n",
      "Epoch 19 | Time: 0.04 | Train A: 1.000 | Test A: 1.000\n",
      "Epoch 20 | Time: 0.04 | Train A: 1.000 | Test A: 1.000\n",
      "Epoch 21 | Time: 0.04 | Train A: 1.000 | Test A: 1.000\n",
      "Epoch 22 | Time: 0.04 | Train A: 1.000 | Test A: 1.000\n",
      "Epoch 23 | Time: 0.04 | Train A: 1.000 | Test A: 1.000\n",
      "Epoch 24 | Time: 0.04 | Train A: 1.000 | Test A: 1.000\n",
      "Epoch 25 | Time: 0.04 | Train A: 1.000 | Test A: 1.000\n",
      "Epoch 26 | Time: 0.04 | Train A: 1.000 | Test A: 1.000\n",
      "Epoch 27 | Time: 0.04 | Train A: 1.000 | Test A: 1.000\n",
      "Epoch 28 | Time: 0.05 | Train A: 1.000 | Test A: 1.000\n",
      "Epoch 29 | Time: 0.04 | Train A: 1.000 | Test A: 1.000\n",
      "Epoch 30 | Time: 0.04 | Train A: 1.000 | Test A: 1.000\n",
      "\t Final accuracy: 1.000\n"
     ]
    }
   ],
   "source": [
    "W_over_time = {}\n",
    "for guess in np.linspace(Ts[0], Ts[-1], 10):\n",
    "    print(\"Training at guess %.3f\"%guess)\n",
    "    accuracy_vs_epoch = train_with_guess(Ts, guess)\n",
    "    W_over_time[guess] = accuracy_vs_epoch\n",
    "    print(\"\\t Final accuracy: %.3f\"%accuracy_vs_epoch[-1])"
   ]
  },
  {
   "cell_type": "code",
   "execution_count": 21,
   "id": "1bd82fbf-445c-4582-916e-56aa81e8808b",
   "metadata": {},
   "outputs": [
    {
     "data": {
      "image/png": "[encoded data removed]",
      "text/plain": [
       "<Figure size 432x288 with 1 Axes>"
      ]
     },
     "metadata": {
      "needs_background": "light"
     },
     "output_type": "display_data"
    }
   ],
   "source": [
    "guess_Ts = np.linspace(Ts[0], Ts[-1], 10)\n",
    "\n",
    "for i in range(1,30):\n",
    "    curve = [W_over_time[guess][i] for guess in guess_Ts]\n",
    "    color = np.array([0.7, 0.7, 0.7])*i/30\n",
    "    plt.plot( guess_Ts, curve, '-o', c=color )"
   ]
  },
  {
   "cell_type": "markdown",
   "id": "268d0b27-64cb-4147-98c8-26b756f02953",
   "metadata": {},
   "source": [
    "## Challenge ideas"
   ]
  },
  {
   "cell_type": "markdown",
   "id": "d945de10-1316-47c0-bc4a-8c78789077c7",
   "metadata": {},
   "source": [
    "* Play with the hyperparameters to build intuition, see if you can get a clear W shape\n",
    "* Increase the temperature resolution"
   ]
  },
  {
   "cell_type": "code",
   "execution_count": null,
   "id": "7be5978d-e512-4344-a4db-a278c8fd58f8",
   "metadata": {},
   "outputs": [],
   "source": []
  },
  {
   "cell_type": "markdown",
   "id": "e8dda84b-ff25-4da8-a236-5d5d0596eedc",
   "metadata": {},
   "source": [
    "# Discriminative Cooperative Networks"
   ]
  },
  {
   "cell_type": "code",
   "execution_count": 22,
   "id": "6f5065cd-a205-44c3-af16-04092cc72325",
   "metadata": {},
   "outputs": [],
   "source": [
    "# Challenge: Implement https://arxiv.org/abs/1706.08111! "
   ]
  },
  {
   "cell_type": "code",
   "execution_count": null,
   "id": "dfb227ad-31da-402d-b362-68fe60506751",
   "metadata": {},
   "outputs": [],
   "source": []
  }
 ],
 "metadata": {
  "kernelspec": {
   "display_name": "Python 3",
   "language": "python",
   "name": "python3"
  },
  "language_info": {
   "codemirror_mode": {
    "name": "ipython",
    "version": 3
   },
   "file_extension": ".py",
   "mimetype": "text/x-python",
   "name": "python",
   "nbconvert_exporter": "python",
   "pygments_lexer": "ipython3",
   "version": "3.9.4"
  }
 },
 "nbformat": 4,
 "nbformat_minor": 5
}
