{
 "cells": [
  {
   "cell_type": "code",
   "execution_count": 1,
   "id": "d52a6cd9",
   "metadata": {},
   "outputs": [],
   "source": [
    "import matplotlib.pyplot as plt\n",
    "%matplotlib inline\n",
    "\n",
    "import jax\n",
    "import jax.numpy as jnp\n",
    "import netket as nk\n",
    "import flax\n",
    "import flax.linen as nn\n",
    "from netket.operator.spin import sigmax,sigmaz \n",
    "\n",
    "# To measure the time it takes to train a network\n",
    "import time\n",
    "\n",
    "from jax import grad, jit, vmap, value_and_grad\n",
    "from jax.scipy.special import logsumexp # Computes the log of the sum of exponentials of input elements.\n",
    "from jax.experimental import optimizers\n",
    "\n",
    "import numpy as np"
   ]
  },
  {
   "cell_type": "markdown",
   "id": "b91b1a01",
   "metadata": {},
   "source": [
    "# Generate data with NQS+VMC"
   ]
  },
  {
   "cell_type": "markdown",
   "id": "1ac3188c",
   "metadata": {},
   "source": [
    "## Set up the Hilbert space"
   ]
  },
  {
   "cell_type": "code",
   "execution_count": 2,
   "id": "04582bac",
   "metadata": {},
   "outputs": [],
   "source": [
    "N=20\n",
    "\n",
    "hi = nk.hilbert.Spin(s=1 / 2, N=N)"
   ]
  },
  {
   "cell_type": "markdown",
   "id": "ab3fd4a2",
   "metadata": {},
   "source": [
    "## Define a model for the variational wave function"
   ]
  },
  {
   "cell_type": "code",
   "execution_count": 3,
   "id": "63325988",
   "metadata": {},
   "outputs": [],
   "source": [
    "import netket.nn as nknn\n",
    "\n",
    "graph=nk.graph.Chain(length=N,pbc=True)\n",
    "\n",
    "class SymmModel(nknn.Module):\n",
    "    alpha: int\n",
    "\n",
    "    @nknn.compact\n",
    "    def __call__(self, x):\n",
    "        \n",
    "        x = nknn.DenseSymm(symmetries=graph.translation_group(),\n",
    "                           features=self.alpha,\n",
    "                           kernel_init=nk.nn.initializers.normal(stddev=0.01))(x)\n",
    "        x = nn.relu(x)\n",
    "\n",
    "        # sum the output\n",
    "        return jnp.sum(x,axis=(-1,-2))"
   ]
  },
  {
   "cell_type": "code",
   "execution_count": 4,
   "id": "9b029068",
   "metadata": {},
   "outputs": [],
   "source": [
    "model=SymmModel(alpha=4)"
   ]
  },
  {
   "cell_type": "markdown",
   "id": "37d8596a",
   "metadata": {},
   "source": [
    "## Get the training data: Sample \"snapshots\" from the ground state"
   ]
  },
  {
   "cell_type": "code",
   "execution_count": 5,
   "id": "d95d86c9",
   "metadata": {},
   "outputs": [],
   "source": [
    "sampler = nk.sampler.MetropolisLocal(hi)\n",
    "\n",
    "def get_gs_sample(H, sampler, model, n_samples):\n",
    "    \n",
    "    vstate = nk.vqs.MCState(sampler, model, n_samples=1000)\n",
    "\n",
    "    optimizer = nk.optimizer.Sgd(learning_rate=0.1)\n",
    "\n",
    "    gs = nk.driver.VMC(H, optimizer, variational_state=vstate,preconditioner=nk.optimizer.SR(diag_shift=0.1))\n",
    "\n",
    "    log=nk.logging.RuntimeLog()\n",
    "    gs.run(n_iter=300,out=log)\n",
    "    \n",
    "    s = vstate.sample()\n",
    "    s = s.reshape(-1, s.shape[2])[:n_samples,:]\n",
    "    \n",
    "    return s"
   ]
  },
  {
   "cell_type": "markdown",
   "id": "c0ec5a5d",
   "metadata": {},
   "source": [
    "## Generate data"
   ]
  },
  {
   "cell_type": "code",
   "execution_count": 6,
   "id": "d4194fa1",
   "metadata": {
    "scrolled": true
   },
   "outputs": [
    {
     "name": "stderr",
     "output_type": "stream",
     "text": [
      "WARNING:absl:No GPU/TPU found, falling back to CPU. (Set TF_CPP_MIN_LOG_LEVEL=0 and rerun for more info.)\n",
      "100%|██████████| 300/300 [00:10<00:00, 28.58it/s, Energy=-20.049985 ± 0.000044 [σ²=0.000002, R̂=1.0212]]      \n",
      "100%|██████████| 300/300 [00:10<00:00, 27.79it/s, Energy=-20.200369 ± 0.000066 [σ²=0.000004, R̂=1.0096]]   \n",
      "100%|██████████| 300/300 [00:10<00:00, 27.32it/s, Energy=-20.452230 ± 0.000096 [σ²=0.000009, R̂=0.9993]]\n",
      "100%|██████████| 300/300 [00:12<00:00, 24.76it/s, Energy=-20.80927 ± 0.00034 [σ²=0.00012, R̂=0.9937]]   \n",
      "100%|██████████| 300/300 [00:14<00:00, 21.37it/s, Energy=-21.27164 ± 0.00065 [σ²=0.00043, R̂=1.0002]]\n",
      "100%|██████████| 300/300 [00:14<00:00, 21.12it/s, Energy=-21.8405 ± 0.0019 [σ²=0.0038, R̂=1.0060]]   \n",
      "100%|██████████| 300/300 [00:13<00:00, 22.98it/s, Energy=-22.5386 ± 0.0010 [σ²=0.0010, R̂=0.9974]]   \n",
      "100%|██████████| 300/300 [00:13<00:00, 21.75it/s, Energy=-23.3565 ± 0.0013 [σ²=0.0016, R̂=0.9989]]   \n",
      "100%|██████████| 300/300 [00:13<00:00, 21.72it/s, Energy=-24.3278 ± 0.0014 [σ²=0.0020, R̂=0.9969]]\n",
      "100%|██████████| 300/300 [00:16<00:00, 18.05it/s, Energy=-25.4920 ± 0.0024 [σ²=0.0056, R̂=1.0004]]\n",
      "100%|██████████| 300/300 [00:16<00:00, 18.58it/s, Energy=-26.8730 ± 0.0024 [σ²=0.0058, R̂=1.0034]]\n",
      "100%|██████████| 300/300 [00:16<00:00, 18.35it/s, Energy=-28.39357 ± 0.00056 [σ²=0.00032, R̂=0.9992]]\n",
      "100%|██████████| 300/300 [00:16<00:00, 18.21it/s, Energy=-30.01690 ± 0.00062 [σ²=0.00039, R̂=1.0042]]\n",
      "100%|██████████| 300/300 [00:16<00:00, 18.63it/s, Energy=-31.7034 ± 0.0011 [σ²=0.0012, R̂=1.0044]]\n",
      "100%|██████████| 300/300 [00:17<00:00, 17.07it/s, Energy=-33.43846 ± 0.00018 [σ²=0.00003, R̂=1.0041]]\n",
      "100%|██████████| 300/300 [00:16<00:00, 18.44it/s, Energy=-35.20977 ± 0.00027 [σ²=0.00007, R̂=1.0031]]\n",
      "100%|██████████| 300/300 [00:17<00:00, 17.03it/s, Energy=-37.01160 ± 0.00071 [σ²=0.00050, R̂=0.9999]]\n",
      "100%|██████████| 300/300 [00:16<00:00, 17.89it/s, Energy=-38.836053 ± 0.000094 [σ²=0.000009, R̂=0.9998]]\n",
      "100%|██████████| 300/300 [00:16<00:00, 17.88it/s, Energy=-40.68060 ± 0.00013 [σ²=0.00002, R̂=0.9989]]\n"
     ]
    }
   ],
   "source": [
    "all_data = {}\n",
    "gs=jnp.arange(0.1,2,0.1)\n",
    "\n",
    "for g in gs:\n",
    "    H = sum([-g*sigmax(hi,i) for i in range(N)])\n",
    "\n",
    "    J=-1\n",
    "    H += sum([J*sigmaz(hi,i)*sigmaz(hi,(i+1)%N) for i in range(N)])\n",
    "\n",
    "    s=get_gs_sample(H, sampler, model, 100)\n",
    "\n",
    "    all_data['%.3f'%(g)] = s"
   ]
  },
  {
   "cell_type": "markdown",
   "id": "b57c08ca",
   "metadata": {},
   "source": [
    "# Supervised learning"
   ]
  },
  {
   "cell_type": "markdown",
   "id": "6a4f786a",
   "metadata": {},
   "source": [
    "## Prepare training data"
   ]
  },
  {
   "cell_type": "code",
   "execution_count": 7,
   "id": "de9630a1",
   "metadata": {},
   "outputs": [],
   "source": [
    "def get_training_data(all_data, gs, gc=1.0, train_fraction=0.8):\n",
    "    # Lists to store the raw data\n",
    "    raw_g = []\n",
    "    raw_x = []\n",
    "    raw_y = [] \n",
    "    \n",
    "    for g in gs:      \n",
    "        raw_x.append(all_data['%.3f'%(g)])\n",
    "        n = len(all_data['%.3f'%(g)])\n",
    "        label = [1,0] if g < gc else [0,1]\n",
    "        raw_y.append(np.array([label] * n))\n",
    "        raw_g.append(np.array([g]*n))\n",
    "        \n",
    "    raw_g = np.concatenate(raw_g)\n",
    "    raw_x = np.concatenate(raw_x, axis=0)\n",
    "    raw_y = np.concatenate(raw_y, axis=0)\n",
    "    \n",
    "    # Shuffle\n",
    "    indices = np.random.permutation(len(raw_x))\n",
    "    all_g = raw_g[indices]\n",
    "    all_x = raw_x[indices]\n",
    "    all_y = raw_y[indices]\n",
    "\n",
    "    # Split into train and test sets\n",
    "    train_split = int(train_fraction * len(all_x))\n",
    "    train_g = jnp.array(all_g[:train_split])\n",
    "    train_x = jnp.array(all_x[:train_split])\n",
    "    train_y = jnp.array(all_y[:train_split])\n",
    "    test_g = jnp.array(all_g[train_split:])\n",
    "    test_x = jnp.array(all_x[train_split:])\n",
    "    test_y = jnp.array(all_y[train_split:])\n",
    "    \n",
    "    return [raw_g, raw_x, raw_y], [train_g, train_x, train_y], [test_g, test_x, test_y]"
   ]
  },
  {
   "cell_type": "code",
   "execution_count": 8,
   "id": "d3d8734a",
   "metadata": {},
   "outputs": [],
   "source": [
    "# Pick only the gs at the beginning and at the end, and construct a dataset\n",
    "train_gs = list(gs[:2]) + list(gs[-2:])\n",
    "[raw_g, raw_x, raw_y], [train_g, train_x, train_y], [test_g, test_x, test_y] = get_training_data(all_data, train_gs)"
   ]
  },
  {
   "cell_type": "markdown",
   "id": "30c25c80",
   "metadata": {},
   "source": [
    "## Define a deep learning model"
   ]
  },
  {
   "cell_type": "code",
   "execution_count": 9,
   "id": "1000a1b0",
   "metadata": {},
   "outputs": [],
   "source": [
    "from typing import Sequence\n",
    "\n",
    "class MyNet(nn.Module):\n",
    "    layers: Sequence[int] # A tuple that contains the widths of all layers follwing the input layer\n",
    "    \n",
    "    @nn.compact\n",
    "    def __call__(self, x):\n",
    "\n",
    "        a = x.ravel() # flatten the input\n",
    "\n",
    "        # Evaluate network layer by layer\n",
    "        for width in self.layers[:-1]:\n",
    "            # Apply a the Dense layer with given width followed by the non-linearity\n",
    "            a = nn.relu(nn.Dense(width)(a))\n",
    "          \n",
    "        a = nn.Dense(self.layers[-1])(a)\n",
    "        \n",
    "        # Return activations of the output layer\n",
    "        return a - logsumexp(a)"
   ]
  },
  {
   "cell_type": "code",
   "execution_count": 10,
   "id": "b5c7553e",
   "metadata": {},
   "outputs": [],
   "source": [
    "net = MyNet(layers=[100, 64, 32, 2])"
   ]
  },
  {
   "cell_type": "code",
   "execution_count": 11,
   "id": "adc1734e",
   "metadata": {},
   "outputs": [],
   "source": [
    "# Make a batched version of the `predict` function\n",
    "predict = jax.vmap(lambda p, x: net.apply(p,x), in_axes=(None, 0), out_axes=0)"
   ]
  },
  {
   "cell_type": "markdown",
   "id": "66fe4178",
   "metadata": {},
   "source": [
    "## Define a loss function"
   ]
  },
  {
   "cell_type": "code",
   "execution_count": 12,
   "id": "33ff990b",
   "metadata": {},
   "outputs": [],
   "source": [
    "def loss(params, images, targets):\n",
    "    preds = predict(params, images)\n",
    "    return -jnp.mean(preds * targets)"
   ]
  },
  {
   "cell_type": "markdown",
   "id": "9c2c8943",
   "metadata": {},
   "source": [
    "## Set up the training loop"
   ]
  },
  {
   "cell_type": "code",
   "execution_count": 13,
   "id": "048df34f",
   "metadata": {},
   "outputs": [],
   "source": [
    "def accuracy(params, images, targets):\n",
    "    target_class = jnp.argmax(targets, axis=1)\n",
    "    predicted_class = jnp.argmax(predict(params, images), axis=1)\n",
    "    return jnp.mean(predicted_class == target_class)\n",
    "\n",
    "def train(train_x, train_y, test_x, test_y, num_epochs, batch_size, opt_state):\n",
    "    \"\"\" Implements a learning loop over epochs. \"\"\"\n",
    "    # Initialize placeholder for loggin\n",
    "    log_acc_train, log_acc_test, train_loss = [], [], []\n",
    "\n",
    "    # Get the initial set of parameters\n",
    "    params = get_params(opt_state)\n",
    "\n",
    "    # Get initial accuracy after random init\n",
    "    train_acc = accuracy(params, train_x, train_y)\n",
    "    test_acc = accuracy(params, test_x, test_y)\n",
    "    log_acc_train.append(train_acc)\n",
    "    log_acc_test.append(test_acc)\n",
    "\n",
    "    # Divide into batches\n",
    "    num_batches = len(train_x) // batch_size\n",
    "\n",
    "    # Loop over the training epochs\n",
    "    for epoch in range(num_epochs):\n",
    "        start_time = time.time()\n",
    "        \n",
    "        # Shuffle data\n",
    "        indices = np.random.permutation(len(train_x))\n",
    "        batch_indices = jnp.split(indices[:num_batches*batch_size], batch_size)\n",
    "        \n",
    "        for b in range(len(batch_indices)):\n",
    "            x = train_x[batch_indices[b]]\n",
    "            y = train_y[batch_indices[b]]\n",
    "            \n",
    "            params, opt_state, loss = update(params, x, y, opt_state)\n",
    "            train_loss.append(loss)\n",
    "\n",
    "        epoch_time = time.time() - start_time\n",
    "        train_acc = accuracy(params, train_x, train_y)\n",
    "        test_acc = accuracy(params, test_x, test_y)\n",
    "        log_acc_train.append(train_acc)\n",
    "        log_acc_test.append(test_acc)\n",
    "        print(\"Epoch {} | Time: {:0.2f} | Train A: {:0.3f} | Test A: {:0.3f}\".format(epoch+1, epoch_time,\n",
    "                                                                    train_acc, test_acc))\n",
    "\n",
    "        \n",
    "    return train_loss, log_acc_train, log_acc_test, params"
   ]
  },
  {
   "cell_type": "markdown",
   "id": "81e3117b",
   "metadata": {},
   "source": [
    "## Define the optimizer and the update step"
   ]
  },
  {
   "cell_type": "code",
   "execution_count": 14,
   "id": "ea6d7ef8",
   "metadata": {},
   "outputs": [],
   "source": [
    "# Defining an optimizer in Jax\n",
    "step_size = 1e-3\n",
    "opt_init, opt_update, get_params = optimizers.adam(step_size)\n",
    "\n",
    "@jax.jit\n",
    "def update(params, x, y, opt_state):\n",
    "    \"\"\" Compute the gradient for a batch and update the parameters \"\"\"\n",
    "    value, grads = value_and_grad(loss)(params, x, y)\n",
    "    opt_state = opt_update(0, grads, opt_state)\n",
    "    return get_params(opt_state), opt_state, value"
   ]
  },
  {
   "cell_type": "markdown",
   "id": "cfd59819",
   "metadata": {},
   "source": [
    "## Blanking: train model in known limits, then use it to predict the rest"
   ]
  },
  {
   "cell_type": "code",
   "execution_count": 16,
   "id": "bccd3a60",
   "metadata": {},
   "outputs": [],
   "source": [
    "# Initialize a net\n",
    "params = net.init(jax.random.PRNGKey(1234), train_x[0])\n",
    "\n",
    "# Initialize the optimizer\n",
    "opt_state = opt_init(params)"
   ]
  },
  {
   "cell_type": "code",
   "execution_count": 17,
   "id": "04eb73a7",
   "metadata": {
    "scrolled": true
   },
   "outputs": [
    {
     "name": "stdout",
     "output_type": "stream",
     "text": [
      "Epoch 1 | Time: 0.99 | Train A: 1.000 | Test A: 0.988\n",
      "Epoch 2 | Time: 0.07 | Train A: 1.000 | Test A: 0.988\n",
      "Epoch 3 | Time: 0.08 | Train A: 1.000 | Test A: 0.988\n",
      "Epoch 4 | Time: 0.07 | Train A: 1.000 | Test A: 0.988\n",
      "Epoch 5 | Time: 0.08 | Train A: 1.000 | Test A: 0.988\n",
      "Epoch 6 | Time: 0.07 | Train A: 1.000 | Test A: 0.988\n",
      "Epoch 7 | Time: 0.08 | Train A: 1.000 | Test A: 0.988\n",
      "Epoch 8 | Time: 0.07 | Train A: 1.000 | Test A: 0.988\n",
      "Epoch 9 | Time: 0.11 | Train A: 1.000 | Test A: 0.988\n",
      "Epoch 10 | Time: 0.10 | Train A: 1.000 | Test A: 0.988\n",
      "Epoch 11 | Time: 0.13 | Train A: 1.000 | Test A: 0.988\n",
      "Epoch 12 | Time: 0.08 | Train A: 1.000 | Test A: 0.988\n",
      "Epoch 13 | Time: 0.08 | Train A: 1.000 | Test A: 0.988\n",
      "Epoch 14 | Time: 0.07 | Train A: 1.000 | Test A: 0.988\n",
      "Epoch 15 | Time: 0.08 | Train A: 1.000 | Test A: 0.988\n",
      "Epoch 16 | Time: 0.08 | Train A: 1.000 | Test A: 0.988\n",
      "Epoch 17 | Time: 0.08 | Train A: 1.000 | Test A: 0.988\n",
      "Epoch 18 | Time: 0.07 | Train A: 1.000 | Test A: 0.988\n",
      "Epoch 19 | Time: 0.08 | Train A: 1.000 | Test A: 0.988\n",
      "Epoch 20 | Time: 0.07 | Train A: 1.000 | Test A: 1.000\n"
     ]
    },
    {
     "data": {
      "text/plain": [
       "Text(0, 0.5, 'Loss')"
      ]
     },
     "execution_count": 17,
     "metadata": {},
     "output_type": "execute_result"
    },
    {
     "data": {
      "image/png": "[encoded data removed]",
      "text/plain": [
       "<Figure size 1200x800 with 1 Axes>"
      ]
     },
     "metadata": {
      "needs_background": "light"
     },
     "output_type": "display_data"
    }
   ],
   "source": [
    "train_loss, train_log, test_log, params = train(train_x, train_y, test_x, test_y, 20, 32, opt_state)\n",
    "\n",
    "fig, ax = plt.subplots(dpi=200)\n",
    "ax.plot(train_loss)\n",
    "ax.set_xlabel(\"Batch\")\n",
    "ax.set_ylabel(\"Loss\")"
   ]
  },
  {
   "cell_type": "markdown",
   "id": "2e0ce144",
   "metadata": {},
   "source": [
    "## Predict for all $g$"
   ]
  },
  {
   "cell_type": "code",
   "execution_count": 18,
   "id": "d0e4f313",
   "metadata": {},
   "outputs": [],
   "source": [
    "# For every temperature, get the averaged prediction\n",
    "predictions = []\n",
    "for g in gs:\n",
    "    x = all_data['%.3f'%g]#['x']\n",
    "    p = jnp.exp( predict(params, x) )  # Exponentiate it to go back to the [0,1] range for nicer plotting\n",
    "    p = jnp.mean( p, axis=0 )\n",
    "    predictions.append(p)"
   ]
  },
  {
   "cell_type": "code",
   "execution_count": 19,
   "id": "4a52e4fa",
   "metadata": {},
   "outputs": [
    {
     "data": {
      "text/plain": [
       "Text(0, 0.5, 'Predictions')"
      ]
     },
     "execution_count": 19,
     "metadata": {},
     "output_type": "execute_result"
    },
    {
     "data": {
      "image/png": "[encoded data removed]",
      "text/plain": [
       "<Figure size 1200x800 with 1 Axes>"
      ]
     },
     "metadata": {
      "needs_background": "light"
     },
     "output_type": "display_data"
    }
   ],
   "source": [
    "fig, ax = plt.subplots(dpi=200)\n",
    "ax.plot( gs, predictions )\n",
    "ax.set_xlabel(\"T\")\n",
    "ax.set_ylabel(\"Predictions\")"
   ]
  }
 ],
 "metadata": {
  "kernelspec": {
   "display_name": "Python [conda env:ml_seminar]",
   "language": "python",
   "name": "conda-env-ml_seminar-py"
  },
  "language_info": {
   "codemirror_mode": {
    "name": "ipython",
    "version": 3
   },
   "file_extension": ".py",
   "mimetype": "text/x-python",
   "name": "python",
   "nbconvert_exporter": "python",
   "pygments_lexer": "ipython3",
   "version": "3.7.10"
  }
 },
 "nbformat": 4,
 "nbformat_minor": 5
}
