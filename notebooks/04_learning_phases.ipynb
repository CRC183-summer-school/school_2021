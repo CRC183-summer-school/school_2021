{
 "cells": [
  {
   "cell_type": "code",
   "execution_count": 1,
   "id": "fab8d0c9-9f24-42d8-a0f6-86d57d112e35",
   "metadata": {},
   "outputs": [],
   "source": [
    "# TODO:\n",
    "# Use NetKet to generate groundstate of simple spin model as function of parameter\n",
    "# Use NetKet to either measure observables, or use other representation of the model (weights) as input\n",
    "\n",
    "# Use 03_ notebook to implement the 'train on extremes and predict in the middle'"
   ]
  },
  {
   "cell_type": "code",
   "execution_count": null,
   "id": "77b55cd5-9a9f-409c-af92-ed86258e7162",
   "metadata": {},
   "outputs": [],
   "source": []
  }
 ],
 "metadata": {
  "kernelspec": {
   "display_name": "Python 3",
   "language": "python",
   "name": "python3"
  },
  "language_info": {
   "codemirror_mode": {
    "name": "ipython",
    "version": 3
   },
   "file_extension": ".py",
   "mimetype": "text/x-python",
   "name": "python",
   "nbconvert_exporter": "python",
   "pygments_lexer": "ipython3",
   "version": "3.9.4"
  }
 },
 "nbformat": 4,
 "nbformat_minor": 5
}
