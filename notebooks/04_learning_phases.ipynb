{
 "cells": [
  {
   "cell_type": "code",
   "execution_count": 1,
   "id": "fab8d0c9-9f24-42d8-a0f6-86d57d112e35",
   "metadata": {},
   "outputs": [],
   "source": [
    "# TODO:\n",
    "# Use NetKet to generate groundstate of simple spin model as function of parameter\n",
    "# Use NetKet to either measure observables, or use other representation of the model (weights) as input\n",
    "\n",
    "# Use 03_ notebook to implement the 'train on extremes and predict in the middle'"
   ]
  },
  {
   "cell_type": "code",
   "execution_count": 2,
   "id": "77b55cd5-9a9f-409c-af92-ed86258e7162",
   "metadata": {},
   "outputs": [],
   "source": [
    "# import jax.numpy as jnp\n",
    "# import netket as nk\n",
    "# import flax\n",
    "# import flax.linen as nn\n",
    "# from netket.operator.spin import sigmax,sigmaz \n",
    "\n",
    "# N=20\n",
    "\n",
    "# hi = nk.hilbert.Spin(s=1 / 2, N=N)\n",
    "\n",
    "# Gamma=-1\n",
    "# H = sum([Gamma*sigmax(hi,i) for i in range(N)])\n",
    "\n",
    "# V=-1\n",
    "# H += sum([V*sigmaz(hi,i)*sigmaz(hi,(i+1)%N) for i in range(N)])\n",
    "\n",
    "# class FFN(nn.Module):\n",
    "    \n",
    "#     alpha : int = 1\n",
    "            \n",
    "#     @nn.compact\n",
    "#     def __call__(self, x):\n",
    "\n",
    "#         # the first layer is a dense layer\n",
    "#         dense = nn.Dense(features=self.alpha*x.shape[-1])\n",
    "        \n",
    "#         y=dense(x)\n",
    "\n",
    "#         # the non-linearity is a simple ReLu    \n",
    "#         y=nn.relu(y)\n",
    "        \n",
    "#         # sum the output\n",
    "#         return jnp.sum(y,axis=-1)\n",
    "    \n",
    "# model=FFN(alpha=1)\n",
    "\n",
    "# sampler = nk.sampler.MetropolisLocal(hi)\n",
    "\n",
    "# vstate = nk.vqs.MCState(sampler, model, n_samples=1000)\n",
    "\n",
    "# optimizer = nk.optimizer.Sgd(learning_rate=0.1)\n",
    "\n",
    "# gs = nk.driver.VMC(H, optimizer, variational_state=vstate,preconditioner=nk.optimizer.SR(diag_shift=0.1))\n",
    "\n",
    "# log=nk.logging.RuntimeLog()\n",
    "# gs.run(n_iter=300,out=log)\n",
    "\n",
    "# ffn_energy=vstate.expect(H)"
   ]
  },
  {
   "cell_type": "code",
   "execution_count": 3,
   "id": "d52a6cd9",
   "metadata": {},
   "outputs": [],
   "source": [
    "import jax.numpy as jnp\n",
    "import netket as nk\n",
    "import flax\n",
    "import flax.linen as nn\n",
    "from netket.operator.spin import sigmax,sigmaz \n",
    "\n",
    "N=20\n",
    "\n",
    "hi = nk.hilbert.Spin(s=1 / 2, N=N)"
   ]
  },
  {
   "cell_type": "code",
   "execution_count": 4,
   "id": "63325988",
   "metadata": {},
   "outputs": [],
   "source": [
    "import netket.nn as nknn\n",
    "\n",
    "graph=nk.graph.Chain(length=N,pbc=True)\n",
    "\n",
    "class SymmModel(nknn.Module):\n",
    "    alpha: int\n",
    "\n",
    "    @nknn.compact\n",
    "    def __call__(self, x):\n",
    "        \n",
    "        x = nknn.DenseSymm(symmetries=graph.translation_group(),\n",
    "                           features=self.alpha,\n",
    "                           kernel_init=nk.nn.initializers.normal(stddev=0.01))(x)\n",
    "        x = nn.relu(x)\n",
    "\n",
    "        # sum the output\n",
    "        return jnp.sum(x,axis=(-1,-2))"
   ]
  },
  {
   "cell_type": "code",
   "execution_count": 5,
   "id": "9b029068",
   "metadata": {},
   "outputs": [],
   "source": [
    "model=SymmModel(alpha=4)"
   ]
  },
  {
   "cell_type": "code",
   "execution_count": 6,
   "id": "431451a7",
   "metadata": {},
   "outputs": [],
   "source": [
    "sampler = nk.sampler.MetropolisLocal(hi)"
   ]
  },
  {
   "cell_type": "code",
   "execution_count": 7,
   "id": "d95d86c9",
   "metadata": {},
   "outputs": [],
   "source": [
    "def get_gs_sample(H, sampler, model, n_samples):\n",
    "    \n",
    "    vstate = nk.vqs.MCState(sampler, model, n_samples=1000)\n",
    "\n",
    "    optimizer = nk.optimizer.Sgd(learning_rate=0.1)\n",
    "\n",
    "    gs = nk.driver.VMC(H, optimizer, variational_state=vstate,preconditioner=nk.optimizer.SR(diag_shift=0.1))\n",
    "\n",
    "    log=nk.logging.RuntimeLog()\n",
    "    gs.run(n_iter=300,out=log)\n",
    "    \n",
    "    s = vstate.sample()\n",
    "    s = s.reshape(-1, s.shape[2])[:n_samples,:]\n",
    "    \n",
    "    return s"
   ]
  },
  {
   "cell_type": "code",
   "execution_count": 8,
   "id": "d4194fa1",
   "metadata": {
    "scrolled": true
   },
   "outputs": [
    {
     "name": "stderr",
     "output_type": "stream",
     "text": [
      "WARNING:absl:No GPU/TPU found, falling back to CPU. (Set TF_CPP_MIN_LOG_LEVEL=0 and rerun for more info.)\n",
      "100%|██████████| 300/300 [00:09<00:00, 32.74it/s, Energy=-20.04999607 ± 0.00000013 [σ²=0.00000000, R̂=1.0092]]\n",
      "100%|██████████| 300/300 [00:09<00:00, 31.86it/s, Energy=-20.2005811 ± 0.0000035 [σ²=0.0000000, R̂=1.2790]]\n",
      "100%|██████████| 300/300 [00:10<00:00, 28.87it/s, Energy=-20.45280 ± 0.00030 [σ²=0.00009, R̂=1.0020]]   \n",
      "100%|██████████| 300/300 [00:09<00:00, 30.91it/s, Energy=-20.80826 ± 0.00018 [σ²=0.00003, R̂=0.9996]]   \n",
      "100%|██████████| 300/300 [00:10<00:00, 28.48it/s, Energy=-21.2693 ± 0.0010 [σ²=0.0010, R̂=0.9974]]   \n",
      "100%|██████████| 300/300 [00:10<00:00, 27.60it/s, Energy=-21.84390 ± 0.00045 [σ²=0.00020, R̂=1.0035]]\n",
      "100%|██████████| 300/300 [00:11<00:00, 27.20it/s, Energy=-22.53651 ± 0.00067 [σ²=0.00045, R̂=0.9991]]\n",
      "100%|██████████| 300/300 [00:11<00:00, 26.15it/s, Energy=-23.3559 ± 0.0016 [σ²=0.0026, R̂=0.9992]]   \n",
      "100%|██████████| 300/300 [00:11<00:00, 25.17it/s, Energy=-24.3291 ± 0.0018 [σ²=0.0034, R̂=0.9997]]\n",
      "100%|██████████| 300/300 [00:12<00:00, 24.34it/s, Energy=-25.4902 ± 0.0015 [σ²=0.0021, R̂=0.9982]]\n",
      "100%|██████████| 300/300 [00:13<00:00, 21.69it/s, Energy=-26.86610 ± 0.00100 [σ²=0.00100, R̂=0.9960]]\n",
      "100%|██████████| 300/300 [00:12<00:00, 23.69it/s, Energy=-28.3937 ± 0.0010 [σ²=0.0010, R̂=1.0008]]   \n",
      "100%|██████████| 300/300 [00:13<00:00, 22.98it/s, Energy=-30.01674 ± 0.00047 [σ²=0.00022, R̂=1.0003]]\n",
      "100%|██████████| 300/300 [00:14<00:00, 21.07it/s, Energy=-31.70349 ± 0.00037 [σ²=0.00013, R̂=0.9952]]\n",
      "100%|██████████| 300/300 [00:13<00:00, 22.22it/s, Energy=-33.43909 ± 0.00067 [σ²=0.00045, R̂=1.0004]]\n",
      "100%|██████████| 300/300 [00:51<00:00,  5.77it/s, Energy=-35.21016 ± 0.00028 [σ²=0.00008, R̂=0.9948]]\n",
      "100%|██████████| 300/300 [00:18<00:00, 16.15it/s, Energy=-37.01110 ± 0.00020 [σ²=0.00004, R̂=1.0035]]\n",
      "100%|██████████| 300/300 [00:14<00:00, 21.00it/s, Energy=-38.836095 ± 0.000053 [σ²=0.000003, R̂=0.9971]]\n",
      "100%|██████████| 300/300 [00:15<00:00, 19.94it/s, Energy=-40.68076 ± 0.00011 [σ²=0.00001, R̂=1.0009]]   \n"
     ]
    }
   ],
   "source": [
    "all_data = {}\n",
    "\n",
    "for g in jnp.arange(0.1,2,0.1):\n",
    "    H = sum([-g*sigmax(hi,i) for i in range(N)])\n",
    "\n",
    "    J=-1\n",
    "    H += sum([J*sigmaz(hi,i)*sigmaz(hi,(i+1)%N) for i in range(N)])\n",
    "\n",
    "    s=get_gs_sample(H, sampler, model, 100)\n",
    "\n",
    "    all_data[str(g)] = s"
   ]
  },
  {
   "cell_type": "markdown",
   "id": "b57c08ca",
   "metadata": {},
   "source": [
    "# Supervised learning"
   ]
  },
  {
   "cell_type": "code",
   "execution_count": 9,
   "id": "de9630a1",
   "metadata": {},
   "outputs": [],
   "source": [
    "def get_training_data(all_data, Ts, Tc=2.7, train_fraction=0.8):\n",
    "    # Lists to store the raw data\n",
    "    raw_T = []\n",
    "    raw_x = []\n",
    "    raw_y = [] \n",
    "    \n",
    "    for T in Ts:      \n",
    "        raw_x.append(all_data['%.3f'%(T)])\n",
    "        n = len(all_data['%.3f'%(T)])\n",
    "        label = [1,0] if T < Tc else [0,1]\n",
    "        raw_y.append(np.array([label] * n))\n",
    "        raw_T.append(np.array([T]*n))\n",
    "        \n",
    "    raw_T = np.concatenate(raw_T)\n",
    "    raw_x = np.concatenate(raw_x, axis=0)\n",
    "    raw_y = np.concatenate(raw_y, axis=0)\n",
    "    \n",
    "    # Shuffle\n",
    "    indices = np.random.permutation(len(raw_x))\n",
    "    all_T = raw_T[indices]\n",
    "    all_x = raw_x[indices]\n",
    "    all_y = raw_y[indices]\n",
    "\n",
    "    # Split into train and test sets\n",
    "    train_split = int(train_fraction * len(all_x))\n",
    "    train_T = jnp.array(all_T[:train_split])\n",
    "    train_x = jnp.array(all_x[:train_split])\n",
    "    train_y = jnp.array(all_y[:train_split])\n",
    "    test_T = jnp.array(all_T[train_split:])\n",
    "    test_x = jnp.array(all_x[train_split:])\n",
    "    test_y = jnp.array(all_y[train_split:])\n",
    "    \n",
    "    return [raw_T, raw_x, raw_y], [train_T, train_x, train_y], [test_T, test_x, test_y]"
   ]
  }
 ],
 "metadata": {
  "kernelspec": {
   "display_name": "Python [conda env:ml_seminar]",
   "language": "python",
   "name": "conda-env-ml_seminar-py"
  },
  "language_info": {
   "codemirror_mode": {
    "name": "ipython",
    "version": 3
   },
   "file_extension": ".py",
   "mimetype": "text/x-python",
   "name": "python",
   "nbconvert_exporter": "python",
   "pygments_lexer": "ipython3",
   "version": "3.7.10"
  }
 },
 "nbformat": 4,
 "nbformat_minor": 5
}
