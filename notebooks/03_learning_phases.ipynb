{
 "cells": [
  {
   "cell_type": "markdown",
   "id": "0bfde07a",
   "metadata": {},
   "source": [
    "# Function transformations in JAX"
   ]
  },
  {
   "cell_type": "code",
   "execution_count": 1,
   "id": "4f5c68f6",
   "metadata": {},
   "outputs": [],
   "source": [
    "import jax\n",
    "import jax.numpy as jnp\n",
    "import matplotlib.pyplot as plt"
   ]
  },
  {
   "cell_type": "markdown",
   "id": "6ca4b419",
   "metadata": {},
   "source": [
    "## Just-in-time compilation with `jax.jit`\n",
    "\n",
    "With just-in-time compilation JAX can generate compiled versions of Python functions that run on GPUs/TPUs if available and otherwise on the CPU. This can yield substantial performance gains.\n",
    "\n",
    "Let's define an example function:"
   ]
  },
  {
   "cell_type": "code",
   "execution_count": 2,
   "id": "9d0d2d0f",
   "metadata": {},
   "outputs": [],
   "source": [
    "def f(x):\n",
    "    return x*x"
   ]
  },
  {
   "cell_type": "markdown",
   "id": "1295047e",
   "metadata": {},
   "source": [
    "Now we can get a compiled version of the function with"
   ]
  },
  {
   "cell_type": "code",
   "execution_count": 3,
   "id": "00e36403",
   "metadata": {},
   "outputs": [],
   "source": [
    "f_jitd = jax.jit(f)"
   ]
  },
  {
   "cell_type": "code",
   "execution_count": 4,
   "id": "071268d0",
   "metadata": {},
   "outputs": [
    {
     "name": "stderr",
     "output_type": "stream",
     "text": [
      "WARNING:absl:No GPU/TPU found, falling back to CPU. (Set TF_CPP_MIN_LOG_LEVEL=0 and rerun for more info.)\n"
     ]
    },
    {
     "data": {
      "text/plain": [
       "DeviceArray(0, dtype=int32)"
      ]
     },
     "execution_count": 4,
     "metadata": {},
     "output_type": "execute_result"
    }
   ],
   "source": [
    "f(3)-f_jitd(3)"
   ]
  },
  {
   "cell_type": "markdown",
   "id": "0dcfd27d",
   "metadata": {},
   "source": [
    "#### Remarks\n",
    "* The function returned by `jax.jit` is only compiled at the point when it is first called.\n",
    "* The function is compiled for fixed shapes of the arguments that are given at the first call. Therefore, the first call can take substantially longer than subsequent calls.\n",
    "* Calling a compiled function with different argument shapes will cause re-compilation."
   ]
  },
  {
   "cell_type": "markdown",
   "id": "6143e7dc",
   "metadata": {},
   "source": [
    "## Automatic differentiation with `jax.grad`"
   ]
  },
  {
   "cell_type": "code",
   "execution_count": 16,
   "id": "234a5269",
   "metadata": {},
   "outputs": [],
   "source": [
    "df = jax.grad(f)\n",
    "ddf = jax.grad(jax.grad(f))"
   ]
  },
  {
   "cell_type": "code",
   "execution_count": 19,
   "id": "134a1162",
   "metadata": {},
   "outputs": [
    {
     "data": {
      "image/png": "[encoded data removed]",
      "text/plain": [
       "<Figure size 432x288 with 1 Axes>"
      ]
     },
     "metadata": {
      "needs_background": "light"
     },
     "output_type": "display_data"
    }
   ],
   "source": [
    "x_list = jnp.arange(0,1.1,.1)\n",
    "f_values = jnp.array([f(x) for x in x_list])\n",
    "df_values = jnp.array([df(x) for x in x_list])\n",
    "ddf_values = jnp.array([ddf(x) for x in x_list])\n",
    "\n",
    "plt.plot(x_list, f_values, label=\"f(x)\")\n",
    "plt.plot(x_list, df_values, label=\"f'(x)\")\n",
    "plt.plot(x_list, ddf_values, label=\"f''(x)\")\n",
    "plt.legend();"
   ]
  },
  {
   "cell_type": "markdown",
   "id": "848b873b",
   "metadata": {},
   "source": [
    "## Vectorization with `jax.vmap`"
   ]
  },
  {
   "cell_type": "code",
   "execution_count": 24,
   "id": "fd723fc6",
   "metadata": {},
   "outputs": [],
   "source": [
    "df_vmapd = jax.vmap(df)"
   ]
  },
  {
   "cell_type": "code",
   "execution_count": 25,
   "id": "ea110f82",
   "metadata": {},
   "outputs": [
    {
     "data": {
      "text/plain": [
       "DeviceArray([0., 0., 0., 0., 0., 0., 0., 0., 0., 0., 0.], dtype=float32)"
      ]
     },
     "execution_count": 25,
     "metadata": {},
     "output_type": "execute_result"
    }
   ],
   "source": [
    "x_list = jnp.arange(0,1.1,.1)\n",
    "\n",
    "df_values = jnp.array([df(x) for x in x_list])\n",
    "\n",
    "df_values_with_vmap = df_vmapd(x_list)\n",
    "\n",
    "df_values - df_values_with_vmap"
   ]
  }
 ],
 "metadata": {
  "kernelspec": {
   "display_name": "Python 3",
   "language": "python",
   "name": "python3"
  },
  "language_info": {
   "codemirror_mode": {
    "name": "ipython",
    "version": 3
   },
   "file_extension": ".py",
   "mimetype": "text/x-python",
   "name": "python",
   "nbconvert_exporter": "python",
   "pygments_lexer": "ipython3",
   "version": "3.9.4"
  }
 },
 "nbformat": 4,
 "nbformat_minor": 5
}
